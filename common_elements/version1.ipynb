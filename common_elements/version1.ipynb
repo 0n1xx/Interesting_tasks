{
 "cells": [
  {
   "cell_type": "markdown",
   "source": [
    "### Задача:\n",
    "\n",
    "Тестовые данные:\n",
    "\n",
    "1;12345;89997776655; test@mail.ru\n",
    "2;54321;87778885566; two@mail.ru\n",
    "3;98765; 87776664577;three@mail\n",
    "4; 66678;87778885566; four@mail.ru\n",
    "5; 34567; 84547895566; four@mail.ru\n",
    "6; 34567; 89087545678; five@mail.ru\n",
    "На основании заданного поля (это может быть id, phone, mail) получить все \"связанные данные\"\n",
    "\n",
    "Например:\n",
    "если задать поиск по условию phone = 87778885566;\n",
    "\n",
    "Результат должен быть следующим:\n",
    "\n",
    "2;54321;87778885566; two@mail.ru\n",
    "4; 66678;87778885566; four@mail.ru\n",
    "5; 34567; 84547895566; four@mail.ru\n",
    "6; 34567; 89087545678; five@mail.ru"
   ],
   "metadata": {
    "collapsed": false,
    "pycharm": {
     "name": "#%% md\n"
    }
   }
  },
  {
   "cell_type": "code",
   "execution_count": 1,
   "outputs": [],
   "source": [
    "import pandas as pd"
   ],
   "metadata": {
    "collapsed": false,
    "pycharm": {
     "name": "#%%\n"
    }
   }
  },
  {
   "cell_type": "code",
   "execution_count": 2,
   "outputs": [],
   "source": [
    "df = pd.read_excel(\"test2.xlsx\",usecols=[\"key\",\"id\",\"phone\",\"mail\"])"
   ],
   "metadata": {
    "collapsed": false,
    "pycharm": {
     "name": "#%%\n"
    }
   }
  },
  {
   "cell_type": "code",
   "execution_count": 3,
   "outputs": [
    {
     "data": {
      "text/plain": "   key      id        phone                                        mail\n0    0  674448  82711735625               wxlqcywqdhaaheortlpdb@mail.ru\n1    1  353974  85375805342  myikngkjmxqezoxclysteuoubgwsofjgkr@mail.ru\n2    2  735332  81134824477    xuiwkdyurhilevrosyhxfhqsqqqndjqc@mail.ru\n3    3  118908  88761347200            imxcvfojmrowermtdyjxwgcr@mail.ru\n4    4  948702  83294687381                  jiaiulghdishvbqcfp@mail.ru",
      "text/html": "<div>\n<style scoped>\n    .dataframe tbody tr th:only-of-type {\n        vertical-align: middle;\n    }\n\n    .dataframe tbody tr th {\n        vertical-align: top;\n    }\n\n    .dataframe thead th {\n        text-align: right;\n    }\n</style>\n<table border=\"1\" class=\"dataframe\">\n  <thead>\n    <tr style=\"text-align: right;\">\n      <th></th>\n      <th>key</th>\n      <th>id</th>\n      <th>phone</th>\n      <th>mail</th>\n    </tr>\n  </thead>\n  <tbody>\n    <tr>\n      <th>0</th>\n      <td>0</td>\n      <td>674448</td>\n      <td>82711735625</td>\n      <td>wxlqcywqdhaaheortlpdb@mail.ru</td>\n    </tr>\n    <tr>\n      <th>1</th>\n      <td>1</td>\n      <td>353974</td>\n      <td>85375805342</td>\n      <td>myikngkjmxqezoxclysteuoubgwsofjgkr@mail.ru</td>\n    </tr>\n    <tr>\n      <th>2</th>\n      <td>2</td>\n      <td>735332</td>\n      <td>81134824477</td>\n      <td>xuiwkdyurhilevrosyhxfhqsqqqndjqc@mail.ru</td>\n    </tr>\n    <tr>\n      <th>3</th>\n      <td>3</td>\n      <td>118908</td>\n      <td>88761347200</td>\n      <td>imxcvfojmrowermtdyjxwgcr@mail.ru</td>\n    </tr>\n    <tr>\n      <th>4</th>\n      <td>4</td>\n      <td>948702</td>\n      <td>83294687381</td>\n      <td>jiaiulghdishvbqcfp@mail.ru</td>\n    </tr>\n  </tbody>\n</table>\n</div>"
     },
     "execution_count": 3,
     "metadata": {},
     "output_type": "execute_result"
    }
   ],
   "source": [
    "df.head()"
   ],
   "metadata": {
    "collapsed": false,
    "pycharm": {
     "name": "#%%\n"
    }
   }
  },
  {
   "cell_type": "code",
   "execution_count": 4,
   "outputs": [
    {
     "data": {
      "text/plain": "500000"
     },
     "execution_count": 4,
     "metadata": {},
     "output_type": "execute_result"
    }
   ],
   "source": [
    "df.shape[0]"
   ],
   "metadata": {
    "collapsed": false,
    "pycharm": {
     "name": "#%%\n"
    }
   }
  },
  {
   "cell_type": "code",
   "execution_count": 5,
   "outputs": [
    {
     "data": {
      "text/plain": "key      0\nid       0\nphone    0\nmail     0\ndtype: int64"
     },
     "execution_count": 5,
     "metadata": {},
     "output_type": "execute_result"
    }
   ],
   "source": [
    "df.isna().sum()"
   ],
   "metadata": {
    "collapsed": false,
    "pycharm": {
     "name": "#%%\n"
    }
   }
  },
  {
   "cell_type": "code",
   "execution_count": 6,
   "metadata": {
    "pycharm": {
     "name": "#%%\n"
    }
   },
   "outputs": [],
   "source": [
    "first_value = 'id'\n",
    "last_value = 4"
   ]
  },
  {
   "cell_type": "code",
   "execution_count": 7,
   "outputs": [
    {
     "data": {
      "text/plain": "           key  id        phone                                     mail\n339064  339064   4  85514996363  gjjzfhxnmqezafmuojloiabpdzhjkbi@mail.ru",
      "text/html": "<div>\n<style scoped>\n    .dataframe tbody tr th:only-of-type {\n        vertical-align: middle;\n    }\n\n    .dataframe tbody tr th {\n        vertical-align: top;\n    }\n\n    .dataframe thead th {\n        text-align: right;\n    }\n</style>\n<table border=\"1\" class=\"dataframe\">\n  <thead>\n    <tr style=\"text-align: right;\">\n      <th></th>\n      <th>key</th>\n      <th>id</th>\n      <th>phone</th>\n      <th>mail</th>\n    </tr>\n  </thead>\n  <tbody>\n    <tr>\n      <th>339064</th>\n      <td>339064</td>\n      <td>4</td>\n      <td>85514996363</td>\n      <td>gjjzfhxnmqezafmuojloiabpdzhjkbi@mail.ru</td>\n    </tr>\n  </tbody>\n</table>\n</div>"
     },
     "execution_count": 7,
     "metadata": {},
     "output_type": "execute_result"
    }
   ],
   "source": [
    "df.query(\"id == 4\")"
   ],
   "metadata": {
    "collapsed": false,
    "pycharm": {
     "name": "#%%\n"
    }
   }
  },
  {
   "cell_type": "code",
   "execution_count": 8,
   "outputs": [],
   "source": [
    "test = df[df[first_value] == last_value]\n",
    "global_set = set()\n",
    "for col in test.columns:\n",
    "    global_set.update(test[col])\n",
    "answer_df = pd.DataFrame(columns=df.columns)\n",
    "keys_list = []"
   ],
   "metadata": {
    "collapsed": false,
    "pycharm": {
     "name": "#%%\n"
    }
   }
  },
  {
   "cell_type": "code",
   "execution_count": 9,
   "outputs": [],
   "source": [
    "def get_global_set():\n",
    "    return global_set\n",
    "\n",
    "def set_global_set(current_set):\n",
    "    global_set.update(current_set)\n",
    "\n",
    "def set_answer_df(x):\n",
    "    global keys_list\n",
    "    keys_list.append(x[0])\n",
    "\n",
    "def function_exp(x):\n",
    "    global_set = get_global_set()\n",
    "    current_set = set(list(x))\n",
    "    if len(global_set&current_set)>0:\n",
    "        set_global_set(current_set)\n",
    "        value = list(x)\n",
    "        set_answer_df(value)"
   ],
   "metadata": {
    "collapsed": false,
    "pycharm": {
     "name": "#%%\n"
    }
   }
  },
  {
   "cell_type": "code",
   "execution_count": 10,
   "metadata": {
    "pycharm": {
     "name": "#%%\n"
    }
   },
   "outputs": [
    {
     "data": {
      "text/plain": "0         None\n1         None\n2         None\n3         None\n4         None\n          ... \n499995    None\n499996    None\n499997    None\n499998    None\n499999    None\nLength: 500000, dtype: object"
     },
     "execution_count": 10,
     "metadata": {},
     "output_type": "execute_result"
    }
   ],
   "source": [
    "df.apply(function_exp,axis=1)"
   ]
  },
  {
   "cell_type": "code",
   "execution_count": 11,
   "outputs": [
    {
     "data": {
      "text/plain": "           key      id        phone                                     mail\n4            4  948702  83294687381               jiaiulghdishvbqcfp@mail.ru\n223394  223394  948702  82207083204             wkfnyfgjlozfqymmbdqf@mail.ru\n339064  339064       4  85514996363  gjjzfhxnmqezafmuojloiabpdzhjkbi@mail.ru\n344652  344652  223394  80009254272         dxnfwuiqfobdjloqocptmayv@mail.ru\n428134  428134  339064  81526978300                  pnwhfassoztwnbc@mail.ru",
      "text/html": "<div>\n<style scoped>\n    .dataframe tbody tr th:only-of-type {\n        vertical-align: middle;\n    }\n\n    .dataframe tbody tr th {\n        vertical-align: top;\n    }\n\n    .dataframe thead th {\n        text-align: right;\n    }\n</style>\n<table border=\"1\" class=\"dataframe\">\n  <thead>\n    <tr style=\"text-align: right;\">\n      <th></th>\n      <th>key</th>\n      <th>id</th>\n      <th>phone</th>\n      <th>mail</th>\n    </tr>\n  </thead>\n  <tbody>\n    <tr>\n      <th>4</th>\n      <td>4</td>\n      <td>948702</td>\n      <td>83294687381</td>\n      <td>jiaiulghdishvbqcfp@mail.ru</td>\n    </tr>\n    <tr>\n      <th>223394</th>\n      <td>223394</td>\n      <td>948702</td>\n      <td>82207083204</td>\n      <td>wkfnyfgjlozfqymmbdqf@mail.ru</td>\n    </tr>\n    <tr>\n      <th>339064</th>\n      <td>339064</td>\n      <td>4</td>\n      <td>85514996363</td>\n      <td>gjjzfhxnmqezafmuojloiabpdzhjkbi@mail.ru</td>\n    </tr>\n    <tr>\n      <th>344652</th>\n      <td>344652</td>\n      <td>223394</td>\n      <td>80009254272</td>\n      <td>dxnfwuiqfobdjloqocptmayv@mail.ru</td>\n    </tr>\n    <tr>\n      <th>428134</th>\n      <td>428134</td>\n      <td>339064</td>\n      <td>81526978300</td>\n      <td>pnwhfassoztwnbc@mail.ru</td>\n    </tr>\n  </tbody>\n</table>\n</div>"
     },
     "execution_count": 11,
     "metadata": {},
     "output_type": "execute_result"
    }
   ],
   "source": [
    "df_test1 = df.iloc[keys_list]\n",
    "df_test1"
   ],
   "metadata": {
    "collapsed": false,
    "pycharm": {
     "name": "#%%\n"
    }
   }
  },
  {
   "cell_type": "code",
   "execution_count": 12,
   "outputs": [
    {
     "data": {
      "text/plain": "           key  id        phone                                     mail\n339064  339064   4  85514996363  gjjzfhxnmqezafmuojloiabpdzhjkbi@mail.ru",
      "text/html": "<div>\n<style scoped>\n    .dataframe tbody tr th:only-of-type {\n        vertical-align: middle;\n    }\n\n    .dataframe tbody tr th {\n        vertical-align: top;\n    }\n\n    .dataframe thead th {\n        text-align: right;\n    }\n</style>\n<table border=\"1\" class=\"dataframe\">\n  <thead>\n    <tr style=\"text-align: right;\">\n      <th></th>\n      <th>key</th>\n      <th>id</th>\n      <th>phone</th>\n      <th>mail</th>\n    </tr>\n  </thead>\n  <tbody>\n    <tr>\n      <th>339064</th>\n      <td>339064</td>\n      <td>4</td>\n      <td>85514996363</td>\n      <td>gjjzfhxnmqezafmuojloiabpdzhjkbi@mail.ru</td>\n    </tr>\n  </tbody>\n</table>\n</div>"
     },
     "execution_count": 12,
     "metadata": {},
     "output_type": "execute_result"
    }
   ],
   "source": [
    "df_test1.query(\"id == 4\")"
   ],
   "metadata": {
    "collapsed": false,
    "pycharm": {
     "name": "#%%\n"
    }
   }
  },
  {
   "cell_type": "code",
   "execution_count": 13,
   "outputs": [],
   "source": [
    "first_value = 'id'\n",
    "last_value = 3"
   ],
   "metadata": {
    "collapsed": false,
    "pycharm": {
     "name": "#%%\n"
    }
   }
  },
  {
   "cell_type": "code",
   "execution_count": 14,
   "outputs": [
    {
     "data": {
      "text/plain": "0         None\n1         None\n2         None\n3         None\n4         None\n          ... \n499995    None\n499996    None\n499997    None\n499998    None\n499999    None\nLength: 500000, dtype: object"
     },
     "execution_count": 14,
     "metadata": {},
     "output_type": "execute_result"
    }
   ],
   "source": [
    "df.apply(function_exp,axis=1)"
   ],
   "metadata": {
    "collapsed": false,
    "pycharm": {
     "name": "#%%\n"
    }
   }
  },
  {
   "cell_type": "code",
   "execution_count": 15,
   "outputs": [
    {
     "data": {
      "text/plain": "           key      id        phone                                     mail\n4            4  948702  83294687381               jiaiulghdishvbqcfp@mail.ru\n223394  223394  948702  82207083204             wkfnyfgjlozfqymmbdqf@mail.ru\n339064  339064       4  85514996363  gjjzfhxnmqezafmuojloiabpdzhjkbi@mail.ru\n344652  344652  223394  80009254272         dxnfwuiqfobdjloqocptmayv@mail.ru\n428134  428134  339064  81526978300                  pnwhfassoztwnbc@mail.ru\n4            4  948702  83294687381               jiaiulghdishvbqcfp@mail.ru\n223394  223394  948702  82207083204             wkfnyfgjlozfqymmbdqf@mail.ru\n300431  300431  344652  80229797704      bcnmhbwasocdhvnsxqicbxbvgnt@mail.ru\n339064  339064       4  85514996363  gjjzfhxnmqezafmuojloiabpdzhjkbi@mail.ru\n344652  344652  223394  80009254272         dxnfwuiqfobdjloqocptmayv@mail.ru\n428134  428134  339064  81526978300                  pnwhfassoztwnbc@mail.ru",
      "text/html": "<div>\n<style scoped>\n    .dataframe tbody tr th:only-of-type {\n        vertical-align: middle;\n    }\n\n    .dataframe tbody tr th {\n        vertical-align: top;\n    }\n\n    .dataframe thead th {\n        text-align: right;\n    }\n</style>\n<table border=\"1\" class=\"dataframe\">\n  <thead>\n    <tr style=\"text-align: right;\">\n      <th></th>\n      <th>key</th>\n      <th>id</th>\n      <th>phone</th>\n      <th>mail</th>\n    </tr>\n  </thead>\n  <tbody>\n    <tr>\n      <th>4</th>\n      <td>4</td>\n      <td>948702</td>\n      <td>83294687381</td>\n      <td>jiaiulghdishvbqcfp@mail.ru</td>\n    </tr>\n    <tr>\n      <th>223394</th>\n      <td>223394</td>\n      <td>948702</td>\n      <td>82207083204</td>\n      <td>wkfnyfgjlozfqymmbdqf@mail.ru</td>\n    </tr>\n    <tr>\n      <th>339064</th>\n      <td>339064</td>\n      <td>4</td>\n      <td>85514996363</td>\n      <td>gjjzfhxnmqezafmuojloiabpdzhjkbi@mail.ru</td>\n    </tr>\n    <tr>\n      <th>344652</th>\n      <td>344652</td>\n      <td>223394</td>\n      <td>80009254272</td>\n      <td>dxnfwuiqfobdjloqocptmayv@mail.ru</td>\n    </tr>\n    <tr>\n      <th>428134</th>\n      <td>428134</td>\n      <td>339064</td>\n      <td>81526978300</td>\n      <td>pnwhfassoztwnbc@mail.ru</td>\n    </tr>\n    <tr>\n      <th>4</th>\n      <td>4</td>\n      <td>948702</td>\n      <td>83294687381</td>\n      <td>jiaiulghdishvbqcfp@mail.ru</td>\n    </tr>\n    <tr>\n      <th>223394</th>\n      <td>223394</td>\n      <td>948702</td>\n      <td>82207083204</td>\n      <td>wkfnyfgjlozfqymmbdqf@mail.ru</td>\n    </tr>\n    <tr>\n      <th>300431</th>\n      <td>300431</td>\n      <td>344652</td>\n      <td>80229797704</td>\n      <td>bcnmhbwasocdhvnsxqicbxbvgnt@mail.ru</td>\n    </tr>\n    <tr>\n      <th>339064</th>\n      <td>339064</td>\n      <td>4</td>\n      <td>85514996363</td>\n      <td>gjjzfhxnmqezafmuojloiabpdzhjkbi@mail.ru</td>\n    </tr>\n    <tr>\n      <th>344652</th>\n      <td>344652</td>\n      <td>223394</td>\n      <td>80009254272</td>\n      <td>dxnfwuiqfobdjloqocptmayv@mail.ru</td>\n    </tr>\n    <tr>\n      <th>428134</th>\n      <td>428134</td>\n      <td>339064</td>\n      <td>81526978300</td>\n      <td>pnwhfassoztwnbc@mail.ru</td>\n    </tr>\n  </tbody>\n</table>\n</div>"
     },
     "execution_count": 15,
     "metadata": {},
     "output_type": "execute_result"
    }
   ],
   "source": [
    "df_test2 = df.iloc[keys_list]\n",
    "df_test2"
   ],
   "metadata": {
    "collapsed": false,
    "pycharm": {
     "name": "#%%\n"
    }
   }
  },
  {
   "cell_type": "markdown",
   "source": [
    "### Выводы:\n",
    "Задача была успешна решена просто за счет использования кортежей и их уникального свойства, что в них не могут находиться дубликаты. Также в работе использовал геттеры и сеттеры."
   ],
   "metadata": {
    "collapsed": false,
    "pycharm": {
     "name": "#%% md\n"
    }
   }
  }
 ],
 "metadata": {
  "kernelspec": {
   "display_name": "Python 3",
   "language": "python",
   "name": "python3"
  },
  "language_info": {
   "codemirror_mode": {
    "name": "ipython",
    "version": 3
   },
   "file_extension": ".py",
   "mimetype": "text/x-python",
   "name": "python",
   "nbconvert_exporter": "python",
   "pygments_lexer": "ipython3",
   "version": "3.7.3"
  }
 },
 "nbformat": 4,
 "nbformat_minor": 1
}