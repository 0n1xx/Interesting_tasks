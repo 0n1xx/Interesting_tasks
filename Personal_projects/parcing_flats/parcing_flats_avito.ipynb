{
 "cells": [
  {
   "cell_type": "markdown",
   "source": [
    "### Парсинг на Python:\n",
    "\n",
    "Для начала я хочу написать, что я всего лишь 2 раза занимался такой штукой и сейчас решил изучить ее поподробнее. Для начала научусь работать с библиотекой BeatifulSoup и сделаю небольшую систему оповещений и она будет состоять из следующих тасков, которые будут обернуты в dag:\n",
    "1. Паршу вакансии(практически закончил разобраться почему порой он берет значения не от туда, а также стоило бы добавить описание, чтобы сообщения отправлялись с пользой); +\n",
    "2. Загружаю значения в бд; +\n",
    "3. Беру только новые значения, а то есть left-only join; +\n",
    "4. Отправляю все новые значения в телеграм канал каждый месяц. +"
   ],
   "metadata": {
    "collapsed": false
   }
  },
  {
   "cell_type": "markdown",
   "source": [
    "##### To-Do list:\n",
    "1. Разобраться с выводом description, subway; +\n",
    "2. Оптимизировать парсер; +\n",
    "3. Подобрать оптимальные фильтры и написать таск; +\n",
    "4. Создать таск с ботом с отправкой сообщения. +\n",
    "5. Подумать над оптимизацией проекта, плюс подумать на счет бд и airflow."
   ],
   "metadata": {
    "collapsed": false
   }
  },
  {
   "cell_type": "code",
   "execution_count": 217,
   "outputs": [],
   "source": [
    "import pandas as pd\n",
    "import seaborn as sns\n",
    "import requests\n",
    "from hyper.contrib import HTTP20Adapter\n",
    "from bs4 import BeautifulSoup as bs\n",
    "from time import sleep\n",
    "from airflow.decorators import dag, task\n",
    "from datetime import datetime, timedelta\n",
    "from clickhouse_driver import Client\n",
    "import telegram\n",
    "\n",
    "sns.set(rc={'figure.figsize': (12, 8)})"
   ],
   "metadata": {
    "collapsed": false
   }
  },
  {
   "cell_type": "markdown",
   "source": [
    "Сначала укажу все дефолтные параметры:"
   ],
   "metadata": {
    "collapsed": false
   }
  },
  {
   "cell_type": "code",
   "execution_count": 12,
   "outputs": [],
   "source": [
    "default_args = {\n",
    "    'owner': 'airflow',\n",
    "    'depends_on_past': False,\n",
    "    'retries': 2,\n",
    "    'retry_delay': timedelta(minutes=3),\n",
    "    'start_date': datetime(2022, 9, 3),\n",
    "}"
   ],
   "metadata": {
    "collapsed": false
   }
  },
  {
   "cell_type": "code",
   "execution_count": 13,
   "outputs": [],
   "source": [
    "client = Client(host='localhost')"
   ],
   "metadata": {
    "collapsed": false
   }
  },
  {
   "cell_type": "code",
   "execution_count": 14,
   "outputs": [],
   "source": [
    "my_token = \"5711117341:AAEiU75eEX5RTbMEncnGh32JwsnhTSHtDrM\"\n",
    "bot = telegram.Bot(token=my_token)"
   ],
   "metadata": {
    "collapsed": false
   }
  },
  {
   "cell_type": "code",
   "execution_count": 15,
   "outputs": [
    {
     "name": "stdout",
     "output_type": "stream",
     "text": [
      "[]\n"
     ]
    }
   ],
   "source": [
    "updates = bot.getUpdates()\n",
    "print(updates)"
   ],
   "metadata": {
    "collapsed": false
   }
  },
  {
   "cell_type": "code",
   "execution_count": 16,
   "outputs": [],
   "source": [
    "chat_id = -1001786025908"
   ],
   "metadata": {
    "collapsed": false
   }
  },
  {
   "cell_type": "code",
   "execution_count": 17,
   "outputs": [],
   "source": [
    "schedule_interval = \"00 22 * * 7\""
   ],
   "metadata": {
    "collapsed": false
   }
  },
  {
   "cell_type": "markdown",
   "source": [
    "Парсить я буду квартиры в Москве с сайта авито, далее я хочу поисследовать данные и сделать какие-то выводы."
   ],
   "metadata": {
    "collapsed": false
   }
  },
  {
   "cell_type": "markdown",
   "source": [
    "Что буду парсить:\n",
    "1. Ссылку;\n",
    "2. Цену за квадратный метр;\n",
    "3. Стоимость за квадратный метр;\n",
    "4. Стоимость квартиры;\n",
    "5. Расстояние от метро."
   ],
   "metadata": {
    "collapsed": false
   }
  },
  {
   "cell_type": "code",
   "execution_count": 18,
   "outputs": [],
   "source": [
    "lst_links = []\n",
    "lst_square = []\n",
    "lst_price = []\n",
    "lst_subway = []\n",
    "lst_description = []\n",
    "lst_minutes = []"
   ],
   "metadata": {
    "collapsed": false
   }
  },
  {
   "cell_type": "code",
   "execution_count": null,
   "outputs": [],
   "source": [
    "def parce_vacancies():\n",
    "    #Сначала создаем цикл, где будем идти по страницам:\n",
    "    for page in range(1, 99):\n",
    "        print(page)  #чтобы отслеживать на какой страницы мы\n",
    "        full_url = f\"https://www.avito.ru/moskva/kvartiry/prodam-ASgBAgICAUSSA8YQ?cd=1&p={page}\"\n",
    "        source = requests.Session()\n",
    "        source.mount('https://', HTTP20Adapter())\n",
    "        response = source.get(full_url)\n",
    "        sleep(7)  #чтобы не перегружался\n",
    "        #инкодим значения иначе будет эльфийский\n",
    "        response.encoding = 'utf-8'\n",
    "        soup = bs(response.text, 'lxml')\n",
    "\n",
    "        all_flats = soup.findAll(\"div\", class_=\"iva-item-content-rejJg\")\n",
    "\n",
    "        #А здесь уже большой цикл обработки, где будем идти и собирать данные с каждой квартиры:\n",
    "        for flat in all_flats:\n",
    "\n",
    "            #Ссылка на квартиру:\n",
    "            var_link = flat.find(\"a\",\n",
    "                                 \"link-link-MbQDP link-design-default-_nSbv title-root-zZCwT iva-item-title-py3i_ title-listRedesign-_rejR title-root_maxHeight-X6PsH\")\n",
    "            if type(var_link) != type(None):\n",
    "                local_var_link = \"https://www.avito.ru\" + var_link.get(\"href\")\n",
    "                lst_links.append([local_var_link])\n",
    "            else:\n",
    "                lst_links.append([None])\n",
    "\n",
    "            #Отбираем цену за квадрат:\n",
    "            var_square = flat.find(\"span\",\n",
    "                                   class_=\"price-noaccent-X6dOy price-normalizedPrice-PplY9 text-text-LurtD text-size-s-BxGpL\")\n",
    "            if type(var_square) != type(None):\n",
    "                var = flat.find(\"span\",\n",
    "                                class_=\"price-noaccent-X6dOy price-normalizedPrice-PplY9 text-text-LurtD text-size-s-BxGpL\").text\n",
    "                correct_number_square_price = \"\"\n",
    "                #Очищаем строку от бесполезного мусора:\n",
    "                for var_square_circle in var:\n",
    "                    if var_square_circle.isdigit():\n",
    "                        correct_number_square_price += var_square_circle\n",
    "                #Убираем последнею цифру, там значение в квадрате:\n",
    "                correct_number_square_price = correct_number_square_price.replace(correct_number_square_price[-1], \"\")\n",
    "                lst_square.append(correct_number_square_price)\n",
    "            else:\n",
    "                lst_square.append(None)\n",
    "\n",
    "            #Отбираем полную цену:\n",
    "            var_full_price = flat.find(\"span\", class_=\"price-text-_YGDY text-text-LurtD text-size-s-BxGpL\")\n",
    "            if type(var_full_price) != type(None):\n",
    "                full_price = var_full_price.text\n",
    "                correct_number_full_price = \"\"\n",
    "                #Оставляем лишь число:\n",
    "                for var_full_price_circle in full_price:\n",
    "                    if var_full_price_circle.isdigit():\n",
    "                        correct_number_full_price += var_full_price_circle\n",
    "\n",
    "                lst_price.append(correct_number_full_price)\n",
    "            else:\n",
    "                lst_price.append(None)\n",
    "\n",
    "            #Отбираем станцию метро:\n",
    "            var_subway = flat.find('div', class_=\"geo-georeferences-SEtee text-text-LurtD text-size-s-BxGpL\")\n",
    "            if type(var_subway) != type(None):\n",
    "                subway_name = var_subway.text\n",
    "                subway_full = \"\"\n",
    "                for var_subway_circle in subway_name:\n",
    "                    if var_subway_circle.isalpha() or var_subway_circle == \" \" or var_subway_circle == \"-\":\n",
    "                        subway_full += var_subway_circle\n",
    "                    else:  #после станции идет время сколько от метро и это значение число, тем самым убираем его\n",
    "                        break\n",
    "                #Прописываю if для тех случаев когда в название метро попадает от и до:\n",
    "                if (subway_full[-1] == \"т\" and subway_full[-2] == \"о\") or (\n",
    "                        subway_full[-1] == \"о\" and subway_full[-2] == \"д\"):\n",
    "                    subway_full = subway_full[0:-2]\n",
    "                lst_subway.append(subway_full)\n",
    "            else:\n",
    "                lst_subway.append(None)\n",
    "\n",
    "            #Добавляю расстояние от метро:\n",
    "            var_minutes = flat.find(\"span\", class_=\"geo-periodSection-bQIE4\")\n",
    "            if type(var_minutes) != type(None):\n",
    "                var_minutes_text = var_minutes.text\n",
    "                var_minutes_full = \"\"\n",
    "                for var_minute_circle in var_minutes_text:\n",
    "                    if var_minute_circle == '–' or var_minute_circle.isdigit():\n",
    "                        var_minutes_full += var_minute_circle\n",
    "                lst_minutes.append(var_minutes_full)\n",
    "            else:\n",
    "                lst_minutes.append(None)\n",
    "\n",
    "    #Создаем датафрейм:\n",
    "    full_df = pd.DataFrame(\n",
    "        data={\"square_price\": lst_square, \"full_price\": lst_price, \"subway\": lst_subway, \"links\": lst_links,\n",
    "              'destination_from_nearest_subway': lst_minutes})\n",
    "\n",
    "    return full_df"
   ],
   "metadata": {
    "collapsed": false
   }
  },
  {
   "cell_type": "code",
   "execution_count": null,
   "outputs": [],
   "source": [
    "full_df = parce_vacancies()"
   ],
   "metadata": {
    "collapsed": false
   }
  },
  {
   "cell_type": "code",
   "execution_count": null,
   "outputs": [],
   "source": [
    "full_df_test = full_df.copy()"
   ],
   "metadata": {
    "collapsed": false
   }
  },
  {
   "cell_type": "markdown",
   "source": [
    "### Часть фильтра и отправки в тг:"
   ],
   "metadata": {
    "collapsed": false
   }
  },
  {
   "cell_type": "code",
   "execution_count": 207,
   "outputs": [],
   "source": [
    "full_df_test = pd.read_csv(\"flats_25_09_2022.csv\")"
   ],
   "metadata": {
    "collapsed": false
   }
  },
  {
   "cell_type": "code",
   "execution_count": 209,
   "outputs": [],
   "source": [
    "def filter_df(df):\n",
    "    df = df.drop_duplicates(\n",
    "        subset=\"links\")  #порой попадаются дубликаты так как сайт 'динамически' переходит на следующею страницу\n",
    "    df.dropna(inplace=True)\n",
    "    df[[\"square_price\", \"full_price\"]] = df[[\"square_price\", \"full_price\"]].astype(\"int64\")\n",
    "    df[[\"subway\", \"links\", \"destination_from_nearest_subway\"]] = df[\n",
    "        [\"subway\", \"links\", \"destination_from_nearest_subway\"]].astype(str)\n",
    "    df.links = df.links.str.replace(\"[\", \"\")  # неправильно конвертнулся тип при сохранение данных в csv\n",
    "    df.links = df.links.str.replace(\"]\", \"\")  # неправильно конвертнулся тип при сохранение данных в csv\n",
    "    #full_df_test[\"links\"] = full_df_test[\"links\"].apply(lambda x: x[0])\n",
    "    df.drop(\"Unnamed: 0\", axis=1, inplace=True)\n",
    "\n",
    "    df[\"quantity_of_metres\"] = (df[\"full_price\"] / df[\"square_price\"]).round()\n",
    "    return df"
   ],
   "metadata": {
    "collapsed": false
   }
  },
  {
   "cell_type": "code",
   "execution_count": 210,
   "outputs": [
    {
     "data": {
      "text/plain": "\u001B[1;33m/home/onixx/anaconda3/lib/python3.9/site-packages/pandas/util/\u001B[0m\u001B[1;33m_decorators.py\u001B[0m\u001B[1;33m:\u001B[0m\u001B[1;33m311\u001B[0m\u001B[1;33m SettingWithCopyWarning\u001B[0m\u001B[33m:\u001B[0m\n\u001B[33mA value is trying to be set on a copy of a slice from a DataFrame\u001B[0m\n\n\u001B[33mSee the caveats in the documentation: \u001B[0m\u001B[4;33mhttps://pandas.pydata.org/pandas-docs/stable/user_guide/indexing.html#returning-a-view-versus-a-copy\u001B[0m\n",
      "text/html": "<pre style=\"white-space:pre;overflow-x:auto;line-height:normal;font-family:Menlo,'DejaVu Sans Mono',consolas,'Courier New',monospace\"><span style=\"color: #808000; text-decoration-color: #808000; font-weight: bold\">/home/onixx/anaconda3/lib/python3.9/site-packages/pandas/util/_decorators.py:</span><span style=\"color: #808000; text-decoration-color: #808000; font-weight: bold\">311</span><span style=\"color: #808000; text-decoration-color: #808000; font-weight: bold\"> SettingWithCopyWarning</span><span style=\"color: #808000; text-decoration-color: #808000\">:</span>\n<span style=\"color: #808000; text-decoration-color: #808000\">A value is trying to be set on a copy of a slice from a DataFrame</span>\n\n<span style=\"color: #808000; text-decoration-color: #808000\">See the caveats in the documentation: </span><span style=\"color: #808000; text-decoration-color: #808000; text-decoration: underline\">https://pandas.pydata.org/pandas-docs/stable/user_guide/indexing.html#returning-a-view-versus-a-copy</span>\n</pre>\n"
     },
     "metadata": {},
     "output_type": "display_data"
    },
    {
     "data": {
      "text/plain": "\u001B[1;33m/home/onixx/anaconda3/lib/python3.9/site-packages/pandas/core/\u001B[0m\u001B[1;33mframe.py\u001B[0m\u001B[1;33m:\u001B[0m\u001B[1;33m3641\u001B[0m\u001B[1;33m SettingWithCopyWarning\u001B[0m\u001B[33m:\u001B[0m\n\u001B[33mA value is trying to be set on a copy of a slice from a DataFrame.\u001B[0m\n\u001B[33mTry using .loc\u001B[0m\u001B[1;33m[\u001B[0m\u001B[33mrow_indexer,col_indexer\u001B[0m\u001B[1;33m]\u001B[0m\u001B[33m = value instead\u001B[0m\n\n\u001B[33mSee the caveats in the documentation: \u001B[0m\u001B[4;33mhttps://pandas.pydata.org/pandas-docs/stable/user_guide/indexing.html#returning-a-view-versus-a-copy\u001B[0m\n",
      "text/html": "<pre style=\"white-space:pre;overflow-x:auto;line-height:normal;font-family:Menlo,'DejaVu Sans Mono',consolas,'Courier New',monospace\"><span style=\"color: #808000; text-decoration-color: #808000; font-weight: bold\">/home/onixx/anaconda3/lib/python3.9/site-packages/pandas/core/frame.py:</span><span style=\"color: #808000; text-decoration-color: #808000; font-weight: bold\">3641</span><span style=\"color: #808000; text-decoration-color: #808000; font-weight: bold\"> SettingWithCopyWarning</span><span style=\"color: #808000; text-decoration-color: #808000\">:</span>\n<span style=\"color: #808000; text-decoration-color: #808000\">A value is trying to be set on a copy of a slice from a DataFrame.</span>\n<span style=\"color: #808000; text-decoration-color: #808000\">Try using .loc</span><span style=\"color: #808000; text-decoration-color: #808000; font-weight: bold\">[</span><span style=\"color: #808000; text-decoration-color: #808000\">row_indexer,col_indexer</span><span style=\"color: #808000; text-decoration-color: #808000; font-weight: bold\">]</span><span style=\"color: #808000; text-decoration-color: #808000\"> = value instead</span>\n\n<span style=\"color: #808000; text-decoration-color: #808000\">See the caveats in the documentation: </span><span style=\"color: #808000; text-decoration-color: #808000; text-decoration: underline\">https://pandas.pydata.org/pandas-docs/stable/user_guide/indexing.html#returning-a-view-versus-a-copy</span>\n</pre>\n"
     },
     "metadata": {},
     "output_type": "display_data"
    },
    {
     "data": {
      "text/plain": "\u001B[1;33m/tmp/ipykernel_4866/\u001B[0m\u001B[1;33m493970709.py\u001B[0m\u001B[1;33m:\u001B[0m\u001B[1;33m7\u001B[0m\u001B[1;33m FutureWarning\u001B[0m\u001B[33m: The default value of regex will change from \u001B[0m\u001B[3;33mTrue\u001B[0m\u001B[33m to \u001B[0m\u001B[3;33mFalse\u001B[0m\u001B[33m in a future version. In addition, single character regular expressions will *not* be treated as literal strings when \u001B[0m\u001B[33mregex\u001B[0m\u001B[33m=\u001B[0m\u001B[3;33mTrue\u001B[0m\u001B[33m.\u001B[0m\n",
      "text/html": "<pre style=\"white-space:pre;overflow-x:auto;line-height:normal;font-family:Menlo,'DejaVu Sans Mono',consolas,'Courier New',monospace\"><span style=\"color: #808000; text-decoration-color: #808000; font-weight: bold\">/tmp/ipykernel_4866/493970709.py:</span><span style=\"color: #808000; text-decoration-color: #808000; font-weight: bold\">7</span><span style=\"color: #808000; text-decoration-color: #808000; font-weight: bold\"> FutureWarning</span><span style=\"color: #808000; text-decoration-color: #808000\">: The default value of regex will change from </span><span style=\"color: #808000; text-decoration-color: #808000; font-style: italic\">True</span><span style=\"color: #808000; text-decoration-color: #808000\"> to </span><span style=\"color: #808000; text-decoration-color: #808000; font-style: italic\">False</span><span style=\"color: #808000; text-decoration-color: #808000\"> in a future version. In addition, single character regular expressions will *not* be treated as literal strings when </span><span style=\"color: #808000; text-decoration-color: #808000\">regex</span><span style=\"color: #808000; text-decoration-color: #808000\">=</span><span style=\"color: #808000; text-decoration-color: #808000; font-style: italic\">True</span><span style=\"color: #808000; text-decoration-color: #808000\">.</span>\n</pre>\n"
     },
     "metadata": {},
     "output_type": "display_data"
    },
    {
     "data": {
      "text/plain": "\u001B[1;33m/home/onixx/anaconda3/lib/python3.9/site-packages/pandas/core/\u001B[0m\u001B[1;33mgeneric.py\u001B[0m\u001B[1;33m:\u001B[0m\u001B[1;33m5516\u001B[0m\u001B[1;33m SettingWithCopyWarning\u001B[0m\u001B[33m:\u001B[0m\n\u001B[33mA value is trying to be set on a copy of a slice from a DataFrame.\u001B[0m\n\u001B[33mTry using .loc\u001B[0m\u001B[1;33m[\u001B[0m\u001B[33mrow_indexer,col_indexer\u001B[0m\u001B[1;33m]\u001B[0m\u001B[33m = value instead\u001B[0m\n\n\u001B[33mSee the caveats in the documentation: \u001B[0m\u001B[4;33mhttps://pandas.pydata.org/pandas-docs/stable/user_guide/indexing.html#returning-a-view-versus-a-copy\u001B[0m\n",
      "text/html": "<pre style=\"white-space:pre;overflow-x:auto;line-height:normal;font-family:Menlo,'DejaVu Sans Mono',consolas,'Courier New',monospace\"><span style=\"color: #808000; text-decoration-color: #808000; font-weight: bold\">/home/onixx/anaconda3/lib/python3.9/site-packages/pandas/core/generic.py:</span><span style=\"color: #808000; text-decoration-color: #808000; font-weight: bold\">5516</span><span style=\"color: #808000; text-decoration-color: #808000; font-weight: bold\"> SettingWithCopyWarning</span><span style=\"color: #808000; text-decoration-color: #808000\">:</span>\n<span style=\"color: #808000; text-decoration-color: #808000\">A value is trying to be set on a copy of a slice from a DataFrame.</span>\n<span style=\"color: #808000; text-decoration-color: #808000\">Try using .loc</span><span style=\"color: #808000; text-decoration-color: #808000; font-weight: bold\">[</span><span style=\"color: #808000; text-decoration-color: #808000\">row_indexer,col_indexer</span><span style=\"color: #808000; text-decoration-color: #808000; font-weight: bold\">]</span><span style=\"color: #808000; text-decoration-color: #808000\"> = value instead</span>\n\n<span style=\"color: #808000; text-decoration-color: #808000\">See the caveats in the documentation: </span><span style=\"color: #808000; text-decoration-color: #808000; text-decoration: underline\">https://pandas.pydata.org/pandas-docs/stable/user_guide/indexing.html#returning-a-view-versus-a-copy</span>\n</pre>\n"
     },
     "metadata": {},
     "output_type": "display_data"
    },
    {
     "data": {
      "text/plain": "\u001B[1;33m/tmp/ipykernel_4866/\u001B[0m\u001B[1;33m493970709.py\u001B[0m\u001B[1;33m:\u001B[0m\u001B[1;33m8\u001B[0m\u001B[1;33m FutureWarning\u001B[0m\u001B[33m: The default value of regex will change from \u001B[0m\u001B[3;33mTrue\u001B[0m\u001B[33m to \u001B[0m\u001B[3;33mFalse\u001B[0m\u001B[33m in a future version. In addition, single character regular expressions will *not* be treated as literal strings when \u001B[0m\u001B[33mregex\u001B[0m\u001B[33m=\u001B[0m\u001B[3;33mTrue\u001B[0m\u001B[33m.\u001B[0m\n",
      "text/html": "<pre style=\"white-space:pre;overflow-x:auto;line-height:normal;font-family:Menlo,'DejaVu Sans Mono',consolas,'Courier New',monospace\"><span style=\"color: #808000; text-decoration-color: #808000; font-weight: bold\">/tmp/ipykernel_4866/493970709.py:</span><span style=\"color: #808000; text-decoration-color: #808000; font-weight: bold\">8</span><span style=\"color: #808000; text-decoration-color: #808000; font-weight: bold\"> FutureWarning</span><span style=\"color: #808000; text-decoration-color: #808000\">: The default value of regex will change from </span><span style=\"color: #808000; text-decoration-color: #808000; font-style: italic\">True</span><span style=\"color: #808000; text-decoration-color: #808000\"> to </span><span style=\"color: #808000; text-decoration-color: #808000; font-style: italic\">False</span><span style=\"color: #808000; text-decoration-color: #808000\"> in a future version. In addition, single character regular expressions will *not* be treated as literal strings when </span><span style=\"color: #808000; text-decoration-color: #808000\">regex</span><span style=\"color: #808000; text-decoration-color: #808000\">=</span><span style=\"color: #808000; text-decoration-color: #808000; font-style: italic\">True</span><span style=\"color: #808000; text-decoration-color: #808000\">.</span>\n</pre>\n"
     },
     "metadata": {},
     "output_type": "display_data"
    },
    {
     "data": {
      "text/plain": "\u001B[1;33m/home/onixx/anaconda3/lib/python3.9/site-packages/pandas/core/\u001B[0m\u001B[1;33mframe.py\u001B[0m\u001B[1;33m:\u001B[0m\u001B[1;33m4906\u001B[0m\u001B[1;33m SettingWithCopyWarning\u001B[0m\u001B[33m:\u001B[0m\n\u001B[33mA value is trying to be set on a copy of a slice from a DataFrame\u001B[0m\n\n\u001B[33mSee the caveats in the documentation: \u001B[0m\u001B[4;33mhttps://pandas.pydata.org/pandas-docs/stable/user_guide/indexing.html#returning-a-view-versus-a-copy\u001B[0m\n",
      "text/html": "<pre style=\"white-space:pre;overflow-x:auto;line-height:normal;font-family:Menlo,'DejaVu Sans Mono',consolas,'Courier New',monospace\"><span style=\"color: #808000; text-decoration-color: #808000; font-weight: bold\">/home/onixx/anaconda3/lib/python3.9/site-packages/pandas/core/frame.py:</span><span style=\"color: #808000; text-decoration-color: #808000; font-weight: bold\">4906</span><span style=\"color: #808000; text-decoration-color: #808000; font-weight: bold\"> SettingWithCopyWarning</span><span style=\"color: #808000; text-decoration-color: #808000\">:</span>\n<span style=\"color: #808000; text-decoration-color: #808000\">A value is trying to be set on a copy of a slice from a DataFrame</span>\n\n<span style=\"color: #808000; text-decoration-color: #808000\">See the caveats in the documentation: </span><span style=\"color: #808000; text-decoration-color: #808000; text-decoration: underline\">https://pandas.pydata.org/pandas-docs/stable/user_guide/indexing.html#returning-a-view-versus-a-copy</span>\n</pre>\n"
     },
     "metadata": {},
     "output_type": "display_data"
    },
    {
     "data": {
      "text/plain": "\u001B[1;33m/tmp/ipykernel_4866/\u001B[0m\u001B[1;33m493970709.py\u001B[0m\u001B[1;33m:\u001B[0m\u001B[1;33m12\u001B[0m\u001B[1;33m SettingWithCopyWarning\u001B[0m\u001B[33m: \u001B[0m\n\u001B[33mA value is trying to be set on a copy of a slice from a DataFrame.\u001B[0m\n\u001B[33mTry using .loc\u001B[0m\u001B[1;33m[\u001B[0m\u001B[33mrow_indexer,col_indexer\u001B[0m\u001B[1;33m]\u001B[0m\u001B[33m = value instead\u001B[0m\n\n\u001B[33mSee the caveats in the documentation: \u001B[0m\u001B[4;33mhttps://pandas.pydata.org/pandas-docs/stable/user_guide/indexing.html#returning-a-view-versus-a-copy\u001B[0m\n",
      "text/html": "<pre style=\"white-space:pre;overflow-x:auto;line-height:normal;font-family:Menlo,'DejaVu Sans Mono',consolas,'Courier New',monospace\"><span style=\"color: #808000; text-decoration-color: #808000; font-weight: bold\">/tmp/ipykernel_4866/493970709.py:</span><span style=\"color: #808000; text-decoration-color: #808000; font-weight: bold\">12</span><span style=\"color: #808000; text-decoration-color: #808000; font-weight: bold\"> SettingWithCopyWarning</span><span style=\"color: #808000; text-decoration-color: #808000\">: </span>\n<span style=\"color: #808000; text-decoration-color: #808000\">A value is trying to be set on a copy of a slice from a DataFrame.</span>\n<span style=\"color: #808000; text-decoration-color: #808000\">Try using .loc</span><span style=\"color: #808000; text-decoration-color: #808000; font-weight: bold\">[</span><span style=\"color: #808000; text-decoration-color: #808000\">row_indexer,col_indexer</span><span style=\"color: #808000; text-decoration-color: #808000; font-weight: bold\">]</span><span style=\"color: #808000; text-decoration-color: #808000\"> = value instead</span>\n\n<span style=\"color: #808000; text-decoration-color: #808000\">See the caveats in the documentation: </span><span style=\"color: #808000; text-decoration-color: #808000; text-decoration: underline\">https://pandas.pydata.org/pandas-docs/stable/user_guide/indexing.html#returning-a-view-versus-a-copy</span>\n</pre>\n"
     },
     "metadata": {},
     "output_type": "display_data"
    }
   ],
   "source": [
    "full_df_test = filter_df(full_df_test)"
   ],
   "metadata": {
    "collapsed": false
   }
  },
  {
   "cell_type": "code",
   "execution_count": 211,
   "outputs": [],
   "source": [
    "def cheap_flats(df):\n",
    "    def q10(x):\n",
    "        return x.quantile(0.15)\n",
    "\n",
    "    #Создаю датафрейм по каждой станции с 10 персентилем по каждой метрике\n",
    "    metro_10_percentile = df.groupby(\"subway\", as_index=False).agg({\"full_price\": q10, \"square_price\": q10}).rename(\n",
    "        columns={\"full_price\": \"full_price_10_percentile\", \"square_price\": \"square_price_10_percentile\"}).sort_values(\n",
    "        \"square_price_10_percentile\", ascending=False)\n",
    "\n",
    "    needed_flats = df.query(\"destination_from_nearest_subway in ('5','6-10')\")\n",
    "    both_frames = needed_flats.merge(metro_10_percentile, how=\"left\", on=\"subway\")\n",
    "    cheep_flats = both_frames.query(\n",
    "        \"square_price <= square_price_10_percentile and full_price <= full_price_10_percentile\").drop_duplicates(\n",
    "        subset=\"links\")\n",
    "    cheep_flats = cheep_flats[\n",
    "        [\"square_price\", \"full_price\", \"subway\", \"links\", \"destination_from_nearest_subway\", \"quantity_of_metres\"]]\n",
    "\n",
    "    return cheep_flats"
   ],
   "metadata": {
    "collapsed": false
   }
  },
  {
   "cell_type": "code",
   "execution_count": 213,
   "outputs": [],
   "source": [
    "needed_df = cheap_flats(full_df_test)"
   ],
   "metadata": {
    "collapsed": false
   }
  },
  {
   "cell_type": "code",
   "execution_count": 215,
   "outputs": [],
   "source": [
    "def send_cheap_flats(df):\n",
    "    for index, row in df.iterrows():\n",
    "        sleep(7)\n",
    "        current_row = f\"На сайте появилась выгодная квартира, цена за квадратный метр следующая {row[0]}, полная цена = {row[1]}, кол-во квадратных метров = {row[5]} и находиться данная квартира на следующей станции метро = {row[2]} ({row[4]} минуток от метро). Если вас заинтересовало данное предложение переходите по ссылке: {row[3]}\"\n",
    "        bot.sendMessage(chat_id=chat_id, text=current_row)"
   ],
   "metadata": {
    "collapsed": false
   }
  },
  {
   "cell_type": "code",
   "execution_count": 216,
   "outputs": [],
   "source": [
    "send_cheap_flats(needed_df)"
   ],
   "metadata": {
    "collapsed": false
   }
  },
  {
   "cell_type": "markdown",
   "source": [
    "Создал sql запрос на создание таблички:"
   ],
   "metadata": {
    "collapsed": false
   }
  },
  {
   "cell_type": "code",
   "execution_count": 118,
   "outputs": [],
   "source": [
    "query = \"\"\"\n",
    "CREATE TABLE default.flats_test(\n",
    "    square_price Int64,\n",
    "    full_price Int64,\n",
    "    subway String,\n",
    "    links String,\n",
    "    destination_from_nearest_subway String,\n",
    "    quantity_of_metres Float64\n",
    "    )\n",
    "ENGINE = MergeTree\n",
    "Order by links\n",
    "\"\"\""
   ],
   "metadata": {
    "collapsed": false
   }
  },
  {
   "cell_type": "markdown",
   "source": [
    "Теперь создам таск небольшой пред обработкой:"
   ],
   "metadata": {
    "collapsed": false
   }
  },
  {
   "cell_type": "code",
   "execution_count": 119,
   "outputs": [
    {
     "data": {
      "text/plain": "Unnamed: 0                           0\nsquare_price                        65\nfull_price                           0\nsubway                              40\nlinks                                0\ndestination_from_nearest_subway    111\ndtype: int64"
     },
     "execution_count": 119,
     "metadata": {},
     "output_type": "execute_result"
    }
   ],
   "source": [
    "full_df_test.isna().sum()"
   ],
   "metadata": {
    "collapsed": false
   }
  },
  {
   "cell_type": "markdown",
   "source": [
    "Создам таск, в котором, буду отбирать только новые значения:"
   ],
   "metadata": {
    "collapsed": false
   }
  },
  {
   "cell_type": "code",
   "execution_count": 130,
   "outputs": [],
   "source": [
    "def uncommon_values(df_new):\n",
    "    #Достаем все записи из таблицы и создаем новый датафрейм:\n",
    "    df_old = client.execute(\"Select * from vacancies\")\n",
    "    df_old = pd.DataFrame(columns=[\"square_price\", \"full_price\", \"subway\", \"links\", \"destination_from_nearest_subway\"],\n",
    "                          data=df_old)\n",
    "\n",
    "    df = df_new.merge(df_old, on='id', how='left', indicator=True)\n",
    "    df.drop([\"name_surname_y\", \"country_y\", \"company_name_y\", \"position_y\"], axis=1, inplace=True)\n",
    "    df.rename(columns={\"name_surname_x\": \"name_surname\", \"country_x\": \"country\", \"company_name_x\": \"company_name\",\n",
    "                       \"position_x\": \"position\"}, inplace=True)\n",
    "    df = df.loc[df[\"_merge\"] == 'left_only']\n",
    "    df.drop([\"_merge\"], axis=1, inplace=True)\n",
    "    return df"
   ],
   "metadata": {
    "collapsed": false
   }
  },
  {
   "cell_type": "code",
   "execution_count": 131,
   "outputs": [],
   "source": [
    "uncommon_values(full_df_test)"
   ],
   "metadata": {
    "collapsed": false
   }
  },
  {
   "cell_type": "markdown",
   "source": [
    "Создам таск с добавлением новых записей в бд:"
   ],
   "metadata": {
    "collapsed": false
   }
  },
  {
   "cell_type": "code",
   "execution_count": 132,
   "outputs": [],
   "source": [
    "def to_clickhouse(df):\n",
    "    client.execute(\"INSERT INTO default.vacancies VALUES\", df.to_dict(orient=\"records\"))\n",
    "    client.execute('OPTIMIZE TABLE vacancies DEDUPLICATE BY links')"
   ],
   "metadata": {
    "collapsed": false
   }
  },
  {
   "cell_type": "code",
   "execution_count": 133,
   "outputs": [],
   "source": [
    "#to_clickhouse(full_df_test)"
   ],
   "metadata": {
    "collapsed": false
   }
  },
  {
   "cell_type": "markdown",
   "source": [
    "Теперь я хочу немного поисследовать данные:"
   ],
   "metadata": {
    "collapsed": false
   }
  },
  {
   "cell_type": "code",
   "execution_count": 134,
   "outputs": [
    {
     "data": {
      "text/plain": "240"
     },
     "execution_count": 134,
     "metadata": {},
     "output_type": "execute_result"
    }
   ],
   "source": [
    "full_df_test.subway.unique().shape[0]"
   ],
   "metadata": {
    "collapsed": false
   }
  },
  {
   "cell_type": "code",
   "execution_count": 135,
   "outputs": [],
   "source": [
    "quantity_full_price_df = full_df_test.groupby(\"subway\", as_index=False).agg(\n",
    "    {\"full_price\": \"sum\", \"links\": \"count\"}).rename(\n",
    "    columns={\"full_price\": \"price_for_per_flats\", \"links\": \"quantity_of_flats\"}).sort_values(\"price_for_per_flats\",\n",
    "                                                                                             ascending=False)"
   ],
   "metadata": {
    "collapsed": false
   }
  },
  {
   "cell_type": "code",
   "execution_count": 136,
   "outputs": [
    {
     "data": {
      "text/plain": "            subway  price_for_per_flats  quantity_of_flats\n139  Парк культуры           5707306493                 18\n105  Международная           4937729300                 69\n103     Маяковская           3916646156                 43\n107        Минская           3818719000                 41\n81   Кропоткинская           2527473900                 16",
      "text/html": "<div>\n<style scoped>\n    .dataframe tbody tr th:only-of-type {\n        vertical-align: middle;\n    }\n\n    .dataframe tbody tr th {\n        vertical-align: top;\n    }\n\n    .dataframe thead th {\n        text-align: right;\n    }\n</style>\n<table border=\"1\" class=\"dataframe\">\n  <thead>\n    <tr style=\"text-align: right;\">\n      <th></th>\n      <th>subway</th>\n      <th>price_for_per_flats</th>\n      <th>quantity_of_flats</th>\n    </tr>\n  </thead>\n  <tbody>\n    <tr>\n      <th>139</th>\n      <td>Парк культуры</td>\n      <td>5707306493</td>\n      <td>18</td>\n    </tr>\n    <tr>\n      <th>105</th>\n      <td>Международная</td>\n      <td>4937729300</td>\n      <td>69</td>\n    </tr>\n    <tr>\n      <th>103</th>\n      <td>Маяковская</td>\n      <td>3916646156</td>\n      <td>43</td>\n    </tr>\n    <tr>\n      <th>107</th>\n      <td>Минская</td>\n      <td>3818719000</td>\n      <td>41</td>\n    </tr>\n    <tr>\n      <th>81</th>\n      <td>Кропоткинская</td>\n      <td>2527473900</td>\n      <td>16</td>\n    </tr>\n  </tbody>\n</table>\n</div>"
     },
     "execution_count": 136,
     "metadata": {},
     "output_type": "execute_result"
    }
   ],
   "source": [
    "quantity_full_price_df.head()"
   ],
   "metadata": {
    "collapsed": false
   }
  },
  {
   "cell_type": "code",
   "execution_count": 137,
   "outputs": [
    {
     "data": {
      "text/plain": "<Figure size 864x576 with 1 Axes>",
      "image/png": "[encoded data removed]"
     },
     "metadata": {},
     "output_type": "display_data"
    }
   ],
   "source": [
    "sns.histplot(quantity_full_price_df.quantity_of_flats);"
   ],
   "metadata": {
    "collapsed": false
   }
  },
  {
   "cell_type": "code",
   "execution_count": 138,
   "outputs": [
    {
     "data": {
      "text/plain": "0.25     6600000.0\n0.50    11400000.0\n0.75    18000000.0\n0.95    63000000.0\nName: full_price, dtype: float64"
     },
     "execution_count": 138,
     "metadata": {},
     "output_type": "execute_result"
    }
   ],
   "source": [
    "full_df_test.full_price.quantile([0.25, 0.5, 0.75, 0.95])"
   ],
   "metadata": {
    "collapsed": false
   }
  },
  {
   "cell_type": "code",
   "execution_count": 139,
   "outputs": [
    {
     "data": {
      "text/plain": "6–10     1653\n11–15    1607\n16–20     789\n21–30     743\n5         629\n31        528\nName: destination_from_nearest_subway, dtype: int64"
     },
     "execution_count": 139,
     "metadata": {},
     "output_type": "execute_result"
    }
   ],
   "source": [
    "full_df_test.destination_from_nearest_subway.value_counts()"
   ],
   "metadata": {
    "collapsed": false
   }
  },
  {
   "cell_type": "code",
   "execution_count": 140,
   "outputs": [
    {
     "data": {
      "text/plain": "0.25    211905.0\n0.50    267050.0\n0.75    345794.0\n0.95    582353.0\nName: square_price, dtype: float64"
     },
     "execution_count": 140,
     "metadata": {},
     "output_type": "execute_result"
    }
   ],
   "source": [
    "full_df_test.square_price.quantile([0.25, 0.5, 0.75, 0.95])"
   ],
   "metadata": {
    "collapsed": false
   }
  },
  {
   "cell_type": "markdown",
   "source": [
    "По сути хорошей идеей будет сравнивать квартиры ниже 10 персентиля:"
   ],
   "metadata": {
    "collapsed": false
   }
  },
  {
   "cell_type": "code",
   "execution_count": 141,
   "outputs": [],
   "source": [
    "def q10(x):\n",
    "    return x.quantile(0.10)"
   ],
   "metadata": {
    "collapsed": false
   }
  },
  {
   "cell_type": "code",
   "execution_count": 142,
   "outputs": [
    {
     "data": {
      "text/plain": "             subway  full_price_10_percentile  square_price_10_percentile\n51     Добрынинская                58100000.0                    867164.0\n193     Театральная                93459234.0                    728275.2\n135     Охотный ряд                94136336.0                    722975.0\n48   Деловой центр                 33000000.0                    660000.0\n122   Новокузнецкая                28000000.0                    643678.0",
      "text/html": "<div>\n<style scoped>\n    .dataframe tbody tr th:only-of-type {\n        vertical-align: middle;\n    }\n\n    .dataframe tbody tr th {\n        vertical-align: top;\n    }\n\n    .dataframe thead th {\n        text-align: right;\n    }\n</style>\n<table border=\"1\" class=\"dataframe\">\n  <thead>\n    <tr style=\"text-align: right;\">\n      <th></th>\n      <th>subway</th>\n      <th>full_price_10_percentile</th>\n      <th>square_price_10_percentile</th>\n    </tr>\n  </thead>\n  <tbody>\n    <tr>\n      <th>51</th>\n      <td>Добрынинская</td>\n      <td>58100000.0</td>\n      <td>867164.0</td>\n    </tr>\n    <tr>\n      <th>193</th>\n      <td>Театральная</td>\n      <td>93459234.0</td>\n      <td>728275.2</td>\n    </tr>\n    <tr>\n      <th>135</th>\n      <td>Охотный ряд</td>\n      <td>94136336.0</td>\n      <td>722975.0</td>\n    </tr>\n    <tr>\n      <th>48</th>\n      <td>Деловой центр</td>\n      <td>33000000.0</td>\n      <td>660000.0</td>\n    </tr>\n    <tr>\n      <th>122</th>\n      <td>Новокузнецкая</td>\n      <td>28000000.0</td>\n      <td>643678.0</td>\n    </tr>\n  </tbody>\n</table>\n</div>"
     },
     "execution_count": 142,
     "metadata": {},
     "output_type": "execute_result"
    }
   ],
   "source": [
    "metro_10_percentile = full_df_test.groupby(\"subway\", as_index=False).agg(\n",
    "    {\"full_price\": q10, \"square_price\": q10}).rename(\n",
    "    columns={\"full_price\": \"full_price_10_percentile\", \"square_price\": \"square_price_10_percentile\"}).sort_values(\n",
    "    \"square_price_10_percentile\", ascending=False)\n",
    "\n",
    "metro_10_percentile.head()"
   ],
   "metadata": {
    "collapsed": false
   }
  },
  {
   "cell_type": "code",
   "execution_count": 143,
   "outputs": [],
   "source": [
    "full_df_test[\"quantity_of_metres\"] = (full_df_test[\"full_price\"] / full_df_test[\"square_price\"]).round()"
   ],
   "metadata": {
    "collapsed": false
   }
  },
  {
   "cell_type": "code",
   "execution_count": 144,
   "outputs": [
    {
     "data": {
      "text/plain": "   square_price  full_price         subway  \\\n0        266055     8700000  Домодедовская   \n1        232500     4650000       Жулебино   \n2        216981    11500000   Бабушкинская   \n3        370000     7585000       Аэропорт   \n4        307008    11727705      Бутырская   \n\n                                               links  \\\n0  'https://www.avito.ru/moskva/kvartiry/1-k._kva...   \n1  'https://www.avito.ru/moskva/kvartiry/kvartira...   \n2  'https://www.avito.ru/moskva/kvartiry/2-k._kva...   \n3  'https://www.avito.ru/moskva/kvartiry/1-k._kva...   \n4  'https://www.avito.ru/moskva/kvartiry/1-k._kva...   \n\n  destination_from_nearest_subway  quantity_of_metres  \n0                           21–30                33.0  \n1                           11–15                20.0  \n2                              31                53.0  \n3                           11–15                20.0  \n4                            6–10                38.0  ",
      "text/html": "<div>\n<style scoped>\n    .dataframe tbody tr th:only-of-type {\n        vertical-align: middle;\n    }\n\n    .dataframe tbody tr th {\n        vertical-align: top;\n    }\n\n    .dataframe thead th {\n        text-align: right;\n    }\n</style>\n<table border=\"1\" class=\"dataframe\">\n  <thead>\n    <tr style=\"text-align: right;\">\n      <th></th>\n      <th>square_price</th>\n      <th>full_price</th>\n      <th>subway</th>\n      <th>links</th>\n      <th>destination_from_nearest_subway</th>\n      <th>quantity_of_metres</th>\n    </tr>\n  </thead>\n  <tbody>\n    <tr>\n      <th>0</th>\n      <td>266055</td>\n      <td>8700000</td>\n      <td>Домодедовская</td>\n      <td>'https://www.avito.ru/moskva/kvartiry/1-k._kva...</td>\n      <td>21–30</td>\n      <td>33.0</td>\n    </tr>\n    <tr>\n      <th>1</th>\n      <td>232500</td>\n      <td>4650000</td>\n      <td>Жулебино</td>\n      <td>'https://www.avito.ru/moskva/kvartiry/kvartira...</td>\n      <td>11–15</td>\n      <td>20.0</td>\n    </tr>\n    <tr>\n      <th>2</th>\n      <td>216981</td>\n      <td>11500000</td>\n      <td>Бабушкинская</td>\n      <td>'https://www.avito.ru/moskva/kvartiry/2-k._kva...</td>\n      <td>31</td>\n      <td>53.0</td>\n    </tr>\n    <tr>\n      <th>3</th>\n      <td>370000</td>\n      <td>7585000</td>\n      <td>Аэропорт</td>\n      <td>'https://www.avito.ru/moskva/kvartiry/1-k._kva...</td>\n      <td>11–15</td>\n      <td>20.0</td>\n    </tr>\n    <tr>\n      <th>4</th>\n      <td>307008</td>\n      <td>11727705</td>\n      <td>Бутырская</td>\n      <td>'https://www.avito.ru/moskva/kvartiry/1-k._kva...</td>\n      <td>6–10</td>\n      <td>38.0</td>\n    </tr>\n  </tbody>\n</table>\n</div>"
     },
     "execution_count": 144,
     "metadata": {},
     "output_type": "execute_result"
    }
   ],
   "source": [
    "full_df_test.head()"
   ],
   "metadata": {
    "collapsed": false
   }
  },
  {
   "cell_type": "markdown",
   "source": [
    "При этом стоит также подумать над расстоянием от метро, как по мне раз мы ищем самые выгодные, то нужно сделать следующее:\n",
    "\n",
    "1. Брать только те станции, где расстояние 5 или 6-10;\n",
    "2. Брать если цена за квадратный метр и цена относительно метро меньше 10 персентиля."
   ],
   "metadata": {
    "collapsed": false
   }
  },
  {
   "cell_type": "code",
   "execution_count": 145,
   "outputs": [
    {
     "data": {
      "text/plain": "    square_price  full_price           subway  \\\n10        572246    80000000      Кутузовская   \n17         94752     6500000          Спартак   \n28        237500     4750000  Боровское шоссе   \n44        708955    95000000       Сокольники   \n50        114933     4310000      Шипиловская   \n\n                                                links  \\\n10  'https://www.avito.ru/moskva/kvartiry/3-k._kva...   \n17  'https://www.avito.ru/moskva/kvartiry/3-k._kva...   \n28  'https://www.avito.ru/moskva/kvartiry/kvartira...   \n44  'https://www.avito.ru/moskva/kvartiry/4-k._kva...   \n50  'https://www.avito.ru/moskva/kvartiry/1-k._kva...   \n\n   destination_from_nearest_subway  quantity_of_metres  \n10                               5               140.0  \n17                               5                69.0  \n28                               5                20.0  \n44                               5               134.0  \n50                               5                38.0  ",
      "text/html": "<div>\n<style scoped>\n    .dataframe tbody tr th:only-of-type {\n        vertical-align: middle;\n    }\n\n    .dataframe tbody tr th {\n        vertical-align: top;\n    }\n\n    .dataframe thead th {\n        text-align: right;\n    }\n</style>\n<table border=\"1\" class=\"dataframe\">\n  <thead>\n    <tr style=\"text-align: right;\">\n      <th></th>\n      <th>square_price</th>\n      <th>full_price</th>\n      <th>subway</th>\n      <th>links</th>\n      <th>destination_from_nearest_subway</th>\n      <th>quantity_of_metres</th>\n    </tr>\n  </thead>\n  <tbody>\n    <tr>\n      <th>10</th>\n      <td>572246</td>\n      <td>80000000</td>\n      <td>Кутузовская</td>\n      <td>'https://www.avito.ru/moskva/kvartiry/3-k._kva...</td>\n      <td>5</td>\n      <td>140.0</td>\n    </tr>\n    <tr>\n      <th>17</th>\n      <td>94752</td>\n      <td>6500000</td>\n      <td>Спартак</td>\n      <td>'https://www.avito.ru/moskva/kvartiry/3-k._kva...</td>\n      <td>5</td>\n      <td>69.0</td>\n    </tr>\n    <tr>\n      <th>28</th>\n      <td>237500</td>\n      <td>4750000</td>\n      <td>Боровское шоссе</td>\n      <td>'https://www.avito.ru/moskva/kvartiry/kvartira...</td>\n      <td>5</td>\n      <td>20.0</td>\n    </tr>\n    <tr>\n      <th>44</th>\n      <td>708955</td>\n      <td>95000000</td>\n      <td>Сокольники</td>\n      <td>'https://www.avito.ru/moskva/kvartiry/4-k._kva...</td>\n      <td>5</td>\n      <td>134.0</td>\n    </tr>\n    <tr>\n      <th>50</th>\n      <td>114933</td>\n      <td>4310000</td>\n      <td>Шипиловская</td>\n      <td>'https://www.avito.ru/moskva/kvartiry/1-k._kva...</td>\n      <td>5</td>\n      <td>38.0</td>\n    </tr>\n  </tbody>\n</table>\n</div>"
     },
     "execution_count": 145,
     "metadata": {},
     "output_type": "execute_result"
    }
   ],
   "source": [
    "needed_flats = full_df_test.query(\"destination_from_nearest_subway in ('5','6-10')\")\n",
    "needed_flats.head()"
   ],
   "metadata": {
    "collapsed": false
   }
  },
  {
   "cell_type": "code",
   "execution_count": 146,
   "outputs": [
    {
     "data": {
      "text/plain": "   square_price  full_price           subway  \\\n0        572246    80000000      Кутузовская   \n1         94752     6500000          Спартак   \n2        237500     4750000  Боровское шоссе   \n3        708955    95000000       Сокольники   \n4        114933     4310000      Шипиловская   \n\n                                               links  \\\n0  'https://www.avito.ru/moskva/kvartiry/3-k._kva...   \n1  'https://www.avito.ru/moskva/kvartiry/3-k._kva...   \n2  'https://www.avito.ru/moskva/kvartiry/kvartira...   \n3  'https://www.avito.ru/moskva/kvartiry/4-k._kva...   \n4  'https://www.avito.ru/moskva/kvartiry/1-k._kva...   \n\n  destination_from_nearest_subway  quantity_of_metres  \\\n0                               5               140.0   \n1                               5                69.0   \n2                               5                20.0   \n3                               5               134.0   \n4                               5                38.0   \n\n   full_price_10_percentile  square_price_10_percentile  \n0                 5120000.0                    336896.8  \n1                 6500000.0                     94752.0  \n2                 4620000.0                    221772.6  \n3                13700000.0                     26182.0  \n4                 4310000.0                    114933.0  ",
      "text/html": "<div>\n<style scoped>\n    .dataframe tbody tr th:only-of-type {\n        vertical-align: middle;\n    }\n\n    .dataframe tbody tr th {\n        vertical-align: top;\n    }\n\n    .dataframe thead th {\n        text-align: right;\n    }\n</style>\n<table border=\"1\" class=\"dataframe\">\n  <thead>\n    <tr style=\"text-align: right;\">\n      <th></th>\n      <th>square_price</th>\n      <th>full_price</th>\n      <th>subway</th>\n      <th>links</th>\n      <th>destination_from_nearest_subway</th>\n      <th>quantity_of_metres</th>\n      <th>full_price_10_percentile</th>\n      <th>square_price_10_percentile</th>\n    </tr>\n  </thead>\n  <tbody>\n    <tr>\n      <th>0</th>\n      <td>572246</td>\n      <td>80000000</td>\n      <td>Кутузовская</td>\n      <td>'https://www.avito.ru/moskva/kvartiry/3-k._kva...</td>\n      <td>5</td>\n      <td>140.0</td>\n      <td>5120000.0</td>\n      <td>336896.8</td>\n    </tr>\n    <tr>\n      <th>1</th>\n      <td>94752</td>\n      <td>6500000</td>\n      <td>Спартак</td>\n      <td>'https://www.avito.ru/moskva/kvartiry/3-k._kva...</td>\n      <td>5</td>\n      <td>69.0</td>\n      <td>6500000.0</td>\n      <td>94752.0</td>\n    </tr>\n    <tr>\n      <th>2</th>\n      <td>237500</td>\n      <td>4750000</td>\n      <td>Боровское шоссе</td>\n      <td>'https://www.avito.ru/moskva/kvartiry/kvartira...</td>\n      <td>5</td>\n      <td>20.0</td>\n      <td>4620000.0</td>\n      <td>221772.6</td>\n    </tr>\n    <tr>\n      <th>3</th>\n      <td>708955</td>\n      <td>95000000</td>\n      <td>Сокольники</td>\n      <td>'https://www.avito.ru/moskva/kvartiry/4-k._kva...</td>\n      <td>5</td>\n      <td>134.0</td>\n      <td>13700000.0</td>\n      <td>26182.0</td>\n    </tr>\n    <tr>\n      <th>4</th>\n      <td>114933</td>\n      <td>4310000</td>\n      <td>Шипиловская</td>\n      <td>'https://www.avito.ru/moskva/kvartiry/1-k._kva...</td>\n      <td>5</td>\n      <td>38.0</td>\n      <td>4310000.0</td>\n      <td>114933.0</td>\n    </tr>\n  </tbody>\n</table>\n</div>"
     },
     "execution_count": 146,
     "metadata": {},
     "output_type": "execute_result"
    }
   ],
   "source": [
    "both_frames = needed_flats.merge(metro_10_percentile, how=\"left\", on=\"subway\")\n",
    "both_frames.head()"
   ],
   "metadata": {
    "collapsed": false
   }
  },
  {
   "cell_type": "code",
   "execution_count": 170,
   "outputs": [
    {
     "data": {
      "text/plain": "    square_price  full_price           subway  \\\n1          94752     6500000          Спартак   \n4         114933     4310000      Шипиловская   \n10        117886     4350000  Пятницкое шоссе   \n34        175000     3150000  Бунинская аллея   \n79        161811     3932000      Белорусская   \n\n                                                links  \\\n1   'https://www.avito.ru/moskva/kvartiry/3-k._kva...   \n4   'https://www.avito.ru/moskva/kvartiry/1-k._kva...   \n10  'https://www.avito.ru/moskva/kvartiry/kvartira...   \n34  'https://www.avito.ru/moskva/kvartiry/apartame...   \n79  'https://www.avito.ru/moskva/kvartiry/1-k._kva...   \n\n   destination_from_nearest_subway  quantity_of_metres  \\\n1                                5                69.0   \n4                                5                38.0   \n10                               5                37.0   \n34                               5                18.0   \n79                               5                24.0   \n\n    full_price_10_percentile  square_price_10_percentile  \n1                  6500000.0                     94752.0  \n4                  4310000.0                    114933.0  \n10                 4542982.7                    128863.8  \n34                 5650000.0                    183637.3  \n79                 3932000.0                    214863.0  ",
      "text/html": "<div>\n<style scoped>\n    .dataframe tbody tr th:only-of-type {\n        vertical-align: middle;\n    }\n\n    .dataframe tbody tr th {\n        vertical-align: top;\n    }\n\n    .dataframe thead th {\n        text-align: right;\n    }\n</style>\n<table border=\"1\" class=\"dataframe\">\n  <thead>\n    <tr style=\"text-align: right;\">\n      <th></th>\n      <th>square_price</th>\n      <th>full_price</th>\n      <th>subway</th>\n      <th>links</th>\n      <th>destination_from_nearest_subway</th>\n      <th>quantity_of_metres</th>\n      <th>full_price_10_percentile</th>\n      <th>square_price_10_percentile</th>\n    </tr>\n  </thead>\n  <tbody>\n    <tr>\n      <th>1</th>\n      <td>94752</td>\n      <td>6500000</td>\n      <td>Спартак</td>\n      <td>'https://www.avito.ru/moskva/kvartiry/3-k._kva...</td>\n      <td>5</td>\n      <td>69.0</td>\n      <td>6500000.0</td>\n      <td>94752.0</td>\n    </tr>\n    <tr>\n      <th>4</th>\n      <td>114933</td>\n      <td>4310000</td>\n      <td>Шипиловская</td>\n      <td>'https://www.avito.ru/moskva/kvartiry/1-k._kva...</td>\n      <td>5</td>\n      <td>38.0</td>\n      <td>4310000.0</td>\n      <td>114933.0</td>\n    </tr>\n    <tr>\n      <th>10</th>\n      <td>117886</td>\n      <td>4350000</td>\n      <td>Пятницкое шоссе</td>\n      <td>'https://www.avito.ru/moskva/kvartiry/kvartira...</td>\n      <td>5</td>\n      <td>37.0</td>\n      <td>4542982.7</td>\n      <td>128863.8</td>\n    </tr>\n    <tr>\n      <th>34</th>\n      <td>175000</td>\n      <td>3150000</td>\n      <td>Бунинская аллея</td>\n      <td>'https://www.avito.ru/moskva/kvartiry/apartame...</td>\n      <td>5</td>\n      <td>18.0</td>\n      <td>5650000.0</td>\n      <td>183637.3</td>\n    </tr>\n    <tr>\n      <th>79</th>\n      <td>161811</td>\n      <td>3932000</td>\n      <td>Белорусская</td>\n      <td>'https://www.avito.ru/moskva/kvartiry/1-k._kva...</td>\n      <td>5</td>\n      <td>24.0</td>\n      <td>3932000.0</td>\n      <td>214863.0</td>\n    </tr>\n  </tbody>\n</table>\n</div>"
     },
     "execution_count": 170,
     "metadata": {},
     "output_type": "execute_result"
    }
   ],
   "source": [
    "cheep_flats = both_frames.query(\n",
    "    \"square_price <= square_price_10_percentile and full_price <= full_price_10_percentile\").drop_duplicates()\n",
    "cheep_flats.head()"
   ],
   "metadata": {
    "collapsed": false
   }
  },
  {
   "cell_type": "code",
   "execution_count": 171,
   "outputs": [
    {
     "data": {
      "text/plain": "    square_price  full_price           subway  \\\n1          94752     6500000          Спартак   \n4         114933     4310000      Шипиловская   \n10        117886     4350000  Пятницкое шоссе   \n34        175000     3150000  Бунинская аллея   \n79        161811     3932000      Белорусская   \n\n                                                links  \\\n1   'https://www.avito.ru/moskva/kvartiry/3-k._kva...   \n4   'https://www.avito.ru/moskva/kvartiry/1-k._kva...   \n10  'https://www.avito.ru/moskva/kvartiry/kvartira...   \n34  'https://www.avito.ru/moskva/kvartiry/apartame...   \n79  'https://www.avito.ru/moskva/kvartiry/1-k._kva...   \n\n   destination_from_nearest_subway  quantity_of_metres  \n1                                5                69.0  \n4                                5                38.0  \n10                               5                37.0  \n34                               5                18.0  \n79                               5                24.0  ",
      "text/html": "<div>\n<style scoped>\n    .dataframe tbody tr th:only-of-type {\n        vertical-align: middle;\n    }\n\n    .dataframe tbody tr th {\n        vertical-align: top;\n    }\n\n    .dataframe thead th {\n        text-align: right;\n    }\n</style>\n<table border=\"1\" class=\"dataframe\">\n  <thead>\n    <tr style=\"text-align: right;\">\n      <th></th>\n      <th>square_price</th>\n      <th>full_price</th>\n      <th>subway</th>\n      <th>links</th>\n      <th>destination_from_nearest_subway</th>\n      <th>quantity_of_metres</th>\n    </tr>\n  </thead>\n  <tbody>\n    <tr>\n      <th>1</th>\n      <td>94752</td>\n      <td>6500000</td>\n      <td>Спартак</td>\n      <td>'https://www.avito.ru/moskva/kvartiry/3-k._kva...</td>\n      <td>5</td>\n      <td>69.0</td>\n    </tr>\n    <tr>\n      <th>4</th>\n      <td>114933</td>\n      <td>4310000</td>\n      <td>Шипиловская</td>\n      <td>'https://www.avito.ru/moskva/kvartiry/1-k._kva...</td>\n      <td>5</td>\n      <td>38.0</td>\n    </tr>\n    <tr>\n      <th>10</th>\n      <td>117886</td>\n      <td>4350000</td>\n      <td>Пятницкое шоссе</td>\n      <td>'https://www.avito.ru/moskva/kvartiry/kvartira...</td>\n      <td>5</td>\n      <td>37.0</td>\n    </tr>\n    <tr>\n      <th>34</th>\n      <td>175000</td>\n      <td>3150000</td>\n      <td>Бунинская аллея</td>\n      <td>'https://www.avito.ru/moskva/kvartiry/apartame...</td>\n      <td>5</td>\n      <td>18.0</td>\n    </tr>\n    <tr>\n      <th>79</th>\n      <td>161811</td>\n      <td>3932000</td>\n      <td>Белорусская</td>\n      <td>'https://www.avito.ru/moskva/kvartiry/1-k._kva...</td>\n      <td>5</td>\n      <td>24.0</td>\n    </tr>\n  </tbody>\n</table>\n</div>"
     },
     "execution_count": 171,
     "metadata": {},
     "output_type": "execute_result"
    }
   ],
   "source": [
    "cheep_flats = cheep_flats[\n",
    "    [\"square_price\", \"full_price\", \"subway\", \"links\", \"destination_from_nearest_subway\", \"quantity_of_metres\"]]\n",
    "cheep_flats.head()"
   ],
   "metadata": {
    "collapsed": false
   }
  },
  {
   "cell_type": "code",
   "execution_count": 175,
   "outputs": [],
   "source": [
    "for index, row in cheep_flats.iterrows():\n",
    "    sleep(7)\n",
    "    current_row = f\"На сайте появилась выгодная квартира, цена за квадратный метр следующая {row[0]}, полная цена = {row[1]}, кол-во квадратных метров = {row[5]} и находиться данная квартира на следующей станции метро = {row[2]} ({row[4]} минуток от метро). Если вас заинтересовало данное предложение переходите по ссылке: {row[3]}\"\n",
    "    bot.sendMessage(chat_id=chat_id, text=current_row)"
   ],
   "metadata": {
    "collapsed": false
   }
  },
  {
   "cell_type": "markdown",
   "source": [
    "Все работает, а теперь стоит обернуть все действия в таски и построить Dag, а также отформатировать наш код под pep8:"
   ],
   "metadata": {
    "collapsed": false
   }
  },
  {
   "cell_type": "code",
   "execution_count": null,
   "outputs": [],
   "source": [
    "@dag(default_args=default_args, schedule_interval=schedule_interval, catchup=False)\n",
    "def cheap_flats():\n",
    "    @task\n",
    "    def parce_flats():\n",
    "        #Сначала создаем цикл, где будем идти по страницам:\n",
    "        for page in range(1, 99):\n",
    "            print(page)  #чтобы отслеживать на какой страницы мы\n",
    "            full_url = f\"https://www.avito.ru/moskva/kvartiry/prodam-ASgBAgICAUSSA8YQ?cd=1&p={page}\"\n",
    "            source = requests.Session()\n",
    "            source.mount('https://', HTTP20Adapter())\n",
    "            response = source.get(full_url)\n",
    "            sleep(7)  #чтобы не перегружался\n",
    "            #инкодим значения иначе будет эльфийский\n",
    "            response.encoding = 'utf-8'\n",
    "            soup = bs(response.text, 'lxml')\n",
    "\n",
    "            all_flats = soup.findAll(\"div\", class_=\"iva-item-content-rejJg\")\n",
    "\n",
    "            #А здесь уже большой цикл обработки, где будем идти и собирать данные с каждой квартиры:\n",
    "            for flat in all_flats:\n",
    "\n",
    "                #Ссылка на квартиру:\n",
    "                var_link = flat.find(\"a\",\n",
    "                                     \"link-link-MbQDP link-design-default-_nSbv title-root-zZCwT iva-item-title-py3i_ title-listRedesign-_rejR title-root_maxHeight-X6PsH\")\n",
    "                if type(var_link) != type(None):\n",
    "                    local_var_link = \"https://www.avito.ru\" + var_link.get(\"href\")\n",
    "                    lst_links.append([local_var_link])\n",
    "                else:\n",
    "                    lst_links.append([None])\n",
    "\n",
    "                #Отбираем цену за квадрат:\n",
    "                var_square = flat.find(\"span\",\n",
    "                                       class_=\"price-noaccent-X6dOy price-normalizedPrice-PplY9 text-text-LurtD text-size-s-BxGpL\")\n",
    "                if type(var_square) != type(None):\n",
    "                    var = flat.find(\"span\",\n",
    "                                    class_=\"price-noaccent-X6dOy price-normalizedPrice-PplY9 text-text-LurtD text-size-s-BxGpL\").text\n",
    "                    correct_number_square_price = \"\"\n",
    "                    #Очищаем строку от бесполезного мусора:\n",
    "                    for var_square_circle in var:\n",
    "                        if var_square_circle.isdigit():\n",
    "                            correct_number_square_price += var_square_circle\n",
    "                    #Убираем последнею цифру, там значение в квадрате:\n",
    "                    correct_number_square_price = correct_number_square_price.replace(correct_number_square_price[-1],\n",
    "                                                                                      \"\")\n",
    "                    lst_square.append(correct_number_square_price)\n",
    "                else:\n",
    "                    lst_square.append(None)\n",
    "\n",
    "                #Отбираем полную цену:\n",
    "                var_full_price = flat.find(\"span\", class_=\"price-text-_YGDY text-text-LurtD text-size-s-BxGpL\")\n",
    "                if type(var_full_price) != type(None):\n",
    "                    full_price = var_full_price.text\n",
    "                    correct_number_full_price = \"\"\n",
    "                    #Оставляем лишь число:\n",
    "                    for var_full_price_circle in full_price:\n",
    "                        if var_full_price_circle.isdigit():\n",
    "                            correct_number_full_price += var_full_price_circle\n",
    "\n",
    "                    lst_price.append(correct_number_full_price)\n",
    "                else:\n",
    "                    lst_price.append(None)\n",
    "\n",
    "                #Отбираем станцию метро:\n",
    "                var_subway = flat.find('div', class_=\"geo-georeferences-SEtee text-text-LurtD text-size-s-BxGpL\")\n",
    "                if type(var_subway) != type(None):\n",
    "                    subway_name = var_subway.text\n",
    "                    subway_full = \"\"\n",
    "                    for var_subway_circle in subway_name:\n",
    "                        if var_subway_circle.isalpha() or var_subway_circle == \" \" or var_subway_circle == \"-\":\n",
    "                            subway_full += var_subway_circle\n",
    "                        else:  #после станции идет время сколько от метро и это значение число, тем самым убираем его\n",
    "                            break\n",
    "                    #Прописываю if для тех случаев когда в название метро попадает от и до:\n",
    "                    if (subway_full[-1] == \"т\" and subway_full[-2] == \"о\") or (\n",
    "                            subway_full[-1] == \"о\" and subway_full[-2] == \"д\"):\n",
    "                        subway_full = subway_full[0:-2]\n",
    "                    lst_subway.append(subway_full)\n",
    "                else:\n",
    "                    lst_subway.append(None)\n",
    "\n",
    "                #Добавляю расстояние от метро:\n",
    "                var_minutes = flat.find(\"span\", class_=\"geo-periodSection-bQIE4\")\n",
    "                if type(var_minutes) != type(None):\n",
    "                    var_minutes_text = var_minutes.text\n",
    "                    var_minutes_full = \"\"\n",
    "                    for var_minute_circle in var_minutes_text:\n",
    "                        if var_minute_circle == '–' or var_minute_circle.isdigit():\n",
    "                            var_minutes_full += var_minute_circle\n",
    "                    lst_minutes.append(var_minutes_full)\n",
    "                else:\n",
    "                    lst_minutes.append(None)\n",
    "\n",
    "        #Создаем датафрейм:\n",
    "        full_df = pd.DataFrame(\n",
    "            data={\"square_price\": lst_square, \"full_price\": lst_price, \"subway\": lst_subway, \"links\": lst_links,\n",
    "                  'destination_from_nearest_subway': lst_minutes})\n",
    "\n",
    "        return full_df\n",
    "\n",
    "    @task\n",
    "    def filter_df(df):\n",
    "\n",
    "        df = df.drop_duplicates(\n",
    "            subset=\"links\")  #порой попадаются дубликаты так как сайт 'динамически' переходит на следующею страницу\n",
    "        df.dropna(inplace=True)\n",
    "        df[[\"square_price\", \"full_price\"]] = df[[\"square_price\", \"full_price\"]].astype(\"int64\")\n",
    "        df[[\"subway\", \"links\", \"destination_from_nearest_subway\"]] = df[\n",
    "            [\"subway\", \"links\", \"destination_from_nearest_subway\"]].astype(str)\n",
    "        full_df_test[\"links\"] = full_df_test[\"links\"].apply(lambda x: x[0])\n",
    "        df[\"quantity_of_metres\"] = (df[\"full_price\"] / df[\"square_price\"]).round()\n",
    "\n",
    "        return df\n",
    "\n",
    "    @task\n",
    "    def cheap_flats(df):\n",
    "\n",
    "        def q10(x):\n",
    "            return x.quantile(0.15)\n",
    "\n",
    "        #Создаю датафрейм по каждой станции с 10 персентилем по каждой метрике\n",
    "        metro_10_percentile = df.groupby(\"subway\", as_index=False).agg({\"full_price\": q10, \"square_price\": q10}).rename(\n",
    "            columns={\"full_price\": \"full_price_10_percentile\",\n",
    "                     \"square_price\": \"square_price_10_percentile\"}).sort_values(\"square_price_10_percentile\",\n",
    "                                                                                ascending=False)\n",
    "\n",
    "        needed_flats = df.query(\"destination_from_nearest_subway in ('5','6-10')\")\n",
    "        both_frames = needed_flats.merge(metro_10_percentile, how=\"left\", on=\"subway\")\n",
    "        cheep_flats = both_frames.query(\n",
    "            \"square_price <= square_price_10_percentile and full_price <= full_price_10_percentile\").drop_duplicates(\n",
    "            subset=\"links\")\n",
    "        cheep_flats = cheep_flats[\n",
    "            [\"square_price\", \"full_price\", \"subway\", \"links\", \"destination_from_nearest_subway\", \"quantity_of_metres\"]]\n",
    "\n",
    "        return cheep_flats\n",
    "\n",
    "    @task\n",
    "    def uncommon_values(df_new):\n",
    "\n",
    "        df_old = client.execute(\"Select * from vacancies\")\n",
    "        df_old = pd.DataFrame(\n",
    "            columns=[\"square_price\", \"full_price\", \"subway\", \"links\", \"destination_from_nearest_subway\",\n",
    "                     \"quantity_of_metres\"], data=df_old)\n",
    "\n",
    "        df = df_new.merge(df_old, on='id', how='left', indicator=True)\n",
    "        df.drop([\"name_surname_y\", \"country_y\", \"company_name_y\", \"position_y\"], axis=1, inplace=True)\n",
    "        df.rename(columns={\"name_surname_x\": \"name_surname\", \"country_x\": \"country\", \"company_name_x\": \"company_name\",\n",
    "                           \"position_x\": \"position\"}, inplace=True)\n",
    "        df = df.loc[df[\"_merge\"] == 'left_only']\n",
    "        df.drop([\"_merge\"], axis=1, inplace=True)\n",
    "        return df\n",
    "\n",
    "    @task\n",
    "    def to_clickhouse(df):\n",
    "        client.execute(\"INSERT INTO default.vacancies VALUES\", df.to_dict(orient=\"records\"))\n",
    "        client.execute('OPTIMIZE TABLE vacancies DEDUPLICATE BY links')\n",
    "\n",
    "    @task\n",
    "    def send_cheap_flats(df):\n",
    "        for index, row in df.iterrows():\n",
    "            sleep(7)\n",
    "            current_row = f\"На сайте появилась выгодная квартира, цена за квадратный метр следующая {row[0]}, полная цена = {row[1]}, кол-во квадратных метров = {row[5]} и находиться данная квартира на следующей станции метро = {row[2]} ({row[4]} минуток от метро). Если вас заинтересовало данное предложение переходите по ссылке: {row[3]}\"\n",
    "            bot.sendMessage(chat_id=chat_id, text=current_row)\n",
    "\n",
    "    new_flats = parce_flats()\n",
    "    new_flats_filtered = filter_df(new_flats)\n",
    "    cheap_flats_filtered = cheap_flats(new_flats_filtered)\n",
    "    new_cheap_flats = uncommon_values(cheap_flats_filtered)\n",
    "    to_clickhouse(new_cheap_flats)\n",
    "    send_cheap_flats(new_cheap_flats)\n",
    "\n",
    "\n",
    "cheap_flats = cheap_flats()"
   ],
   "metadata": {
    "collapsed": false,
    "pycharm": {
     "is_executing": true
    }
   }
  }
 ],
 "metadata": {
  "kernelspec": {
   "display_name": "Python 3",
   "language": "python",
   "name": "python3"
  },
  "language_info": {
   "codemirror_mode": {
    "name": "ipython",
    "version": 2
   },
   "file_extension": ".py",
   "mimetype": "text/x-python",
   "name": "python",
   "nbconvert_exporter": "python",
   "pygments_lexer": "ipython2",
   "version": "2.7.6"
  }
 },
 "nbformat": 4,
 "nbformat_minor": 0
}
