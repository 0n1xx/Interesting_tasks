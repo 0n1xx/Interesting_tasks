{
 "cells": [
  {
   "cell_type": "markdown",
   "source": [
    "### План работы:\n",
    "1. Дернуть данные прям из табличке excel, потом обработать все нужные показатели, которые я раньше писал; +\n",
    "2. Создать таблицу в базе данных; +\n",
    "3. Из всех задач построить dag; +\n",
    "4. Подключить все это к airflow; +\n",
    "5. Проверить что дашик видит все эти данные; +\n",
    "6. Построить дашборд.+"
   ],
   "metadata": {
    "collapsed": false
   }
  },
  {
   "cell_type": "code",
   "execution_count": 1,
   "outputs": [],
   "source": [
    "from datetime import datetime, timedelta\n",
    "import pandas as pd\n",
    "import seaborn as sns\n",
    "from airflow.decorators import dag, task\n",
    "from clickhouse_driver import Client\n",
    "from airflow.models import Variable\n",
    "\n",
    "sns.set(rc={\"figure.figsize\": (12, 8)})"
   ],
   "metadata": {
    "collapsed": false
   }
  },
  {
   "cell_type": "code",
   "execution_count": 2,
   "outputs": [],
   "source": [
    "connection_employment = Client(host='localhost')"
   ],
   "metadata": {
    "collapsed": false
   }
  },
  {
   "cell_type": "code",
   "execution_count": 3,
   "outputs": [],
   "source": [
    "def load_prep():\n",
    "    #Сначала просто загрузим даг\n",
    "    sheet_id = \"1WSxfMdjzHBaIa7AzKzjOL5gQCz595ytpUAPmbBvrGOg\"\n",
    "    df = pd.read_csv(f\"https://docs.google.com/spreadsheets/d/{sheet_id}/export?format=csv\")\n",
    "    #Далее переименую и дропну ненужные мне колонки\n",
    "    df.rename(columns={\"Дата старта\": \"Start_date\", \"Дата оффера\": \"Contract_date\", \"ФИО\": \"Full_name\", \"Пол\": \"Gender\",\n",
    "                       \"Возраст\": \"Age\", \"Старт/смена\": \"Start_Shift\", \"Текущий статус\": \"Current_situation\",\n",
    "                       \"Контакты\": \"Contacts\", \"Почта\": \"Mail\", \"Город\": \"City_Country\", \"Курс\": \"Courses\",\n",
    "                       \"Профессия\": \"Grade\", \"Статус\": \"Status\", \"Пришел из сферы\": \"Previous_experience\",\n",
    "                       \"Последнее место работы \": \"Last_job\", \"Трудоустроен в\": \"Current_Job\",\n",
    "                       \"номер потока\": \"Class_number\", \"дата старта потока\": \"Start_Class_date\",\n",
    "                       \"логин студента\": \"student_login\", \"Кто ведет\": \"Student_hr\", \"Unnamed: 0\": \"Student_id\"},\n",
    "              inplace=True)\n",
    "    df.drop(\n",
    "        [\"Ссылка на папку студента\", \"Ссылка на резюме\", \"Дополнительно\", \"Комментарий после карьерной консультации\",\n",
    "         \"Current_situation\", \"Previous_experience\"], axis=1, inplace=True)\n",
    "    #Далее переведу формат дат в нормальный вид\n",
    "    df[[\"Start_date\", \"Contract_date\", \"Start_Class_date\"]] = df[\n",
    "        [\"Start_date\", \"Contract_date\", \"Start_Class_date\"]].apply(lambda x: pd.to_datetime(x, dayfirst=True))\n",
    "    return df"
   ],
   "metadata": {
    "collapsed": false
   }
  },
  {
   "cell_type": "code",
   "execution_count": 4,
   "outputs": [
    {
     "data": {
      "text/plain": "     Student_id Start_date Contract_date          Full_name Gender   Age  \\\n0           1.0 2021-11-01    2021-11-18  Маргарита Мариева      Ж  25.0   \n1           2.0 2021-04-20    2021-05-11    Тихонова Марина      Ж  26.0   \n2           3.0        NaT           NaT    Трубникова Юлия      Ж  28.0   \n3           4.0        NaT           NaT       Жарков Антон      М  32.0   \n4           5.0 2021-05-17    2021-06-28      Зарипов Айдар      М  27.0   \n..          ...        ...           ...                ...    ...   ...   \n619         NaN        NaT           NaT    Блажеева Любовь      Ж   NaN   \n620         NaN        NaT           NaT      Моршнева Юлия      Ж   NaN   \n621         NaN        NaT           NaT      Якушев Сергей      М  43.0   \n622         NaN        NaT           NaT     Макогон Сергей      М   NaN   \n623         NaN        NaT           NaT         Баев Вадим      М   NaN   \n\n     Start_Shift                     Contacts                          Mail  \\\n0            1.0              8-952-798-30-85  margarita.marieva@gmail.com    \n1            3.0              8-965-778-86-09           marinane7@gmail.com   \n2            3.0              8-903-092-04-89      korovaevajulia@gmail.com   \n3            2.0                @ZharkovAnton         19antoni88@gmail.com    \n4            3.0              8-911-039-74-37           zaripov0392@mail.ru   \n..           ...                          ...                           ...   \n619          NaN                     @lyublia         l.blazheeva@yandex.ru   \n620          NaN                 +79777106793         morshnevayv@gmail.com   \n621          1.0                     @tezzz79        yakushev.mgn@gmail.com   \n622          NaN                    999160374             makogon22@mail.ru   \n623          NaN  https://t.me/VadimOlegowich     Vadim.olegowich@gmail.com   \n\n          City_Country       Courses    Grade        Status Current_Job  \\\n0    Saint Petersburg   Data analyst   junior  Нашел работу   Вкусвилл    \n1    Saint Petersburg   Data analyst  junior+  Нашел работу      Яндекс   \n2    Saint Petersburg   Data analyst   middle       Не ищет         NaN   \n3               Moscow  Data analyst   junior       Не ищет         NaN   \n4    Saint Petersburg   Data analyst   middle  Нашел работу       Окко    \n..                 ...           ...      ...           ...         ...   \n619                NaN  Data analyst   junior           NaN         NaN   \n620                NaN  Data analyst   junior           NaN         NaN   \n621      Magnitogorsk   Data analyst   junior      В поиске         NaN   \n622                NaN  Data analyst   junior           NaN         NaN   \n623                NaN      Start ML   junior           NaN         NaN   \n\n    Start_Class_date Class_number          student_login Student_hr  \\\n0                NaT            5                    NaN        NaN   \n1                NaT          NaN                    NaN        NaN   \n2         2020-10-01            5                    NaN        NaN   \n3                NaT          NaN                    NaN        NaN   \n4         2020-10-01            5                    NaN        NaN   \n..               ...          ...                    ...        ...   \n619       2022-05-15           24  l.blazheeva@yandex.ru      Белла   \n620       2022-05-16           24  morshnevayv@gmail.com        NaN   \n621       2022-09-09           28          s-jakushev-28      Белла   \n622       2022-04-15           23              s-makogon        NaN   \n623       2022-03-10            2               v-baev-7        NaN   \n\n           Last_job  \n0     ООО Технолюкс  \n1       Geekbrains   \n2               PwC  \n3    CТБ Интегратор  \n4           Civitta  \n..              ...  \n619             NaN  \n620             NaN  \n621             NaN  \n622             NaN  \n623             NaN  \n\n[624 rows x 19 columns]",
      "text/html": "<div>\n<style scoped>\n    .dataframe tbody tr th:only-of-type {\n        vertical-align: middle;\n    }\n\n    .dataframe tbody tr th {\n        vertical-align: top;\n    }\n\n    .dataframe thead th {\n        text-align: right;\n    }\n</style>\n<table border=\"1\" class=\"dataframe\">\n  <thead>\n    <tr style=\"text-align: right;\">\n      <th></th>\n      <th>Student_id</th>\n      <th>Start_date</th>\n      <th>Contract_date</th>\n      <th>Full_name</th>\n      <th>Gender</th>\n      <th>Age</th>\n      <th>Start_Shift</th>\n      <th>Contacts</th>\n      <th>Mail</th>\n      <th>City_Country</th>\n      <th>Courses</th>\n      <th>Grade</th>\n      <th>Status</th>\n      <th>Current_Job</th>\n      <th>Start_Class_date</th>\n      <th>Class_number</th>\n      <th>student_login</th>\n      <th>Student_hr</th>\n      <th>Last_job</th>\n    </tr>\n  </thead>\n  <tbody>\n    <tr>\n      <th>0</th>\n      <td>1.0</td>\n      <td>2021-11-01</td>\n      <td>2021-11-18</td>\n      <td>Маргарита Мариева</td>\n      <td>Ж</td>\n      <td>25.0</td>\n      <td>1.0</td>\n      <td>8-952-798-30-85</td>\n      <td>margarita.marieva@gmail.com</td>\n      <td>Saint Petersburg</td>\n      <td>Data analyst</td>\n      <td>junior</td>\n      <td>Нашел работу</td>\n      <td>Вкусвилл</td>\n      <td>NaT</td>\n      <td>5</td>\n      <td>NaN</td>\n      <td>NaN</td>\n      <td>ООО Технолюкс</td>\n    </tr>\n    <tr>\n      <th>1</th>\n      <td>2.0</td>\n      <td>2021-04-20</td>\n      <td>2021-05-11</td>\n      <td>Тихонова Марина</td>\n      <td>Ж</td>\n      <td>26.0</td>\n      <td>3.0</td>\n      <td>8-965-778-86-09</td>\n      <td>marinane7@gmail.com</td>\n      <td>Saint Petersburg</td>\n      <td>Data analyst</td>\n      <td>junior+</td>\n      <td>Нашел работу</td>\n      <td>Яндекс</td>\n      <td>NaT</td>\n      <td>NaN</td>\n      <td>NaN</td>\n      <td>NaN</td>\n      <td>Geekbrains</td>\n    </tr>\n    <tr>\n      <th>2</th>\n      <td>3.0</td>\n      <td>NaT</td>\n      <td>NaT</td>\n      <td>Трубникова Юлия</td>\n      <td>Ж</td>\n      <td>28.0</td>\n      <td>3.0</td>\n      <td>8-903-092-04-89</td>\n      <td>korovaevajulia@gmail.com</td>\n      <td>Saint Petersburg</td>\n      <td>Data analyst</td>\n      <td>middle</td>\n      <td>Не ищет</td>\n      <td>NaN</td>\n      <td>2020-10-01</td>\n      <td>5</td>\n      <td>NaN</td>\n      <td>NaN</td>\n      <td>PwC</td>\n    </tr>\n    <tr>\n      <th>3</th>\n      <td>4.0</td>\n      <td>NaT</td>\n      <td>NaT</td>\n      <td>Жарков Антон</td>\n      <td>М</td>\n      <td>32.0</td>\n      <td>2.0</td>\n      <td>@ZharkovAnton</td>\n      <td>19antoni88@gmail.com</td>\n      <td>Moscow</td>\n      <td>Data analyst</td>\n      <td>junior</td>\n      <td>Не ищет</td>\n      <td>NaN</td>\n      <td>NaT</td>\n      <td>NaN</td>\n      <td>NaN</td>\n      <td>NaN</td>\n      <td>CТБ Интегратор</td>\n    </tr>\n    <tr>\n      <th>4</th>\n      <td>5.0</td>\n      <td>2021-05-17</td>\n      <td>2021-06-28</td>\n      <td>Зарипов Айдар</td>\n      <td>М</td>\n      <td>27.0</td>\n      <td>3.0</td>\n      <td>8-911-039-74-37</td>\n      <td>zaripov0392@mail.ru</td>\n      <td>Saint Petersburg</td>\n      <td>Data analyst</td>\n      <td>middle</td>\n      <td>Нашел работу</td>\n      <td>Окко</td>\n      <td>2020-10-01</td>\n      <td>5</td>\n      <td>NaN</td>\n      <td>NaN</td>\n      <td>Civitta</td>\n    </tr>\n    <tr>\n      <th>...</th>\n      <td>...</td>\n      <td>...</td>\n      <td>...</td>\n      <td>...</td>\n      <td>...</td>\n      <td>...</td>\n      <td>...</td>\n      <td>...</td>\n      <td>...</td>\n      <td>...</td>\n      <td>...</td>\n      <td>...</td>\n      <td>...</td>\n      <td>...</td>\n      <td>...</td>\n      <td>...</td>\n      <td>...</td>\n      <td>...</td>\n      <td>...</td>\n    </tr>\n    <tr>\n      <th>619</th>\n      <td>NaN</td>\n      <td>NaT</td>\n      <td>NaT</td>\n      <td>Блажеева Любовь</td>\n      <td>Ж</td>\n      <td>NaN</td>\n      <td>NaN</td>\n      <td>@lyublia</td>\n      <td>l.blazheeva@yandex.ru</td>\n      <td>NaN</td>\n      <td>Data analyst</td>\n      <td>junior</td>\n      <td>NaN</td>\n      <td>NaN</td>\n      <td>2022-05-15</td>\n      <td>24</td>\n      <td>l.blazheeva@yandex.ru</td>\n      <td>Белла</td>\n      <td>NaN</td>\n    </tr>\n    <tr>\n      <th>620</th>\n      <td>NaN</td>\n      <td>NaT</td>\n      <td>NaT</td>\n      <td>Моршнева Юлия</td>\n      <td>Ж</td>\n      <td>NaN</td>\n      <td>NaN</td>\n      <td>+79777106793</td>\n      <td>morshnevayv@gmail.com</td>\n      <td>NaN</td>\n      <td>Data analyst</td>\n      <td>junior</td>\n      <td>NaN</td>\n      <td>NaN</td>\n      <td>2022-05-16</td>\n      <td>24</td>\n      <td>morshnevayv@gmail.com</td>\n      <td>NaN</td>\n      <td>NaN</td>\n    </tr>\n    <tr>\n      <th>621</th>\n      <td>NaN</td>\n      <td>NaT</td>\n      <td>NaT</td>\n      <td>Якушев Сергей</td>\n      <td>М</td>\n      <td>43.0</td>\n      <td>1.0</td>\n      <td>@tezzz79</td>\n      <td>yakushev.mgn@gmail.com</td>\n      <td>Magnitogorsk</td>\n      <td>Data analyst</td>\n      <td>junior</td>\n      <td>В поиске</td>\n      <td>NaN</td>\n      <td>2022-09-09</td>\n      <td>28</td>\n      <td>s-jakushev-28</td>\n      <td>Белла</td>\n      <td>NaN</td>\n    </tr>\n    <tr>\n      <th>622</th>\n      <td>NaN</td>\n      <td>NaT</td>\n      <td>NaT</td>\n      <td>Макогон Сергей</td>\n      <td>М</td>\n      <td>NaN</td>\n      <td>NaN</td>\n      <td>999160374</td>\n      <td>makogon22@mail.ru</td>\n      <td>NaN</td>\n      <td>Data analyst</td>\n      <td>junior</td>\n      <td>NaN</td>\n      <td>NaN</td>\n      <td>2022-04-15</td>\n      <td>23</td>\n      <td>s-makogon</td>\n      <td>NaN</td>\n      <td>NaN</td>\n    </tr>\n    <tr>\n      <th>623</th>\n      <td>NaN</td>\n      <td>NaT</td>\n      <td>NaT</td>\n      <td>Баев Вадим</td>\n      <td>М</td>\n      <td>NaN</td>\n      <td>NaN</td>\n      <td>https://t.me/VadimOlegowich</td>\n      <td>Vadim.olegowich@gmail.com</td>\n      <td>NaN</td>\n      <td>Start ML</td>\n      <td>junior</td>\n      <td>NaN</td>\n      <td>NaN</td>\n      <td>2022-03-10</td>\n      <td>2</td>\n      <td>v-baev-7</td>\n      <td>NaN</td>\n      <td>NaN</td>\n    </tr>\n  </tbody>\n</table>\n<p>624 rows × 19 columns</p>\n</div>"
     },
     "execution_count": 4,
     "metadata": {},
     "output_type": "execute_result"
    }
   ],
   "source": [
    "df = load_prep()\n",
    "df"
   ],
   "metadata": {
    "collapsed": false
   }
  },
  {
   "cell_type": "markdown",
   "source": [
    "Снизу рассчитаем время между получением контракта и датой старта:"
   ],
   "metadata": {
    "collapsed": false
   }
  },
  {
   "cell_type": "code",
   "execution_count": 5,
   "outputs": [],
   "source": [
    "def jobs_score(df):\n",
    "    #Сначала просто посчитаю разницу во времени получения контракта, а после на основе данной колонки создам еще одну\n",
    "    df[\"time_difference\"] = (df[\"Contract_date\"] - df[\"Start_date\"]).dt.days\n",
    "    #Расчет показателя общего показателя success_rate\n",
    "    lst_job_scores = []\n",
    "    for i in df.time_difference:\n",
    "        if i != \"nan\" and i != 0 and 0 < i <= 90:\n",
    "            lst_job_scores.append(\"Success\")\n",
    "        elif i != \"nan\" and i != 0 and i > 90:\n",
    "            lst_job_scores.append(\"Fail\")\n",
    "        else:\n",
    "            lst_job_scores.append(\"Unknown\")\n",
    "    df[\"success_rate\"] = lst_job_scores\n",
    "    df.time_difference.fillna(0,\n",
    "                              inplace=True)  #Ставлю значение 0, так как пока неизвестно устроен ли студент, или просто кто-то не поставил дату контракта :(\n",
    "    df = df.query(\"time_difference >= 0\")  #Проверка чтобы все точно нормально отработало\n",
    "    return df"
   ],
   "metadata": {
    "collapsed": false
   }
  },
  {
   "cell_type": "code",
   "execution_count": 6,
   "outputs": [],
   "source": [
    "df = jobs_score(df)"
   ],
   "metadata": {
    "collapsed": false
   }
  },
  {
   "cell_type": "markdown",
   "source": [
    "Далее сделаю функцию для преобразования в возрастную группу:"
   ],
   "metadata": {
    "collapsed": false
   }
  },
  {
   "cell_type": "code",
   "execution_count": 7,
   "outputs": [],
   "source": [
    "def age(df):\n",
    "    lst = []\n",
    "    for i in df.Age:\n",
    "        if 16 <= i <= 25:\n",
    "            lst.append(\"first_group\")\n",
    "        elif 25 < i <= 35:\n",
    "            lst.append(\"second_group\")\n",
    "        elif i > 35:\n",
    "            lst.append(\"third_group\")\n",
    "        else:\n",
    "            lst.append(\"Unknown\")\n",
    "    df[\"age_group\"] = lst\n",
    "\n",
    "    #Также в этом же таске изменим формат возраста, чтобы не пилить отдельный, ведь все остальные типы правильные:\n",
    "    df[\"Age\"].fillna(0, inplace=True)\n",
    "    df[\"Age\"] = df[\"Age\"].astype(\"int32\")\n",
    "\n",
    "    return df"
   ],
   "metadata": {
    "collapsed": false
   }
  },
  {
   "cell_type": "code",
   "execution_count": 8,
   "outputs": [
    {
     "data": {
      "text/plain": "\u001B[1;33m/tmp/ipykernel_91194/\u001B[0m\u001B[1;33m1065393909.py\u001B[0m\u001B[1;33m:\u001B[0m\u001B[1;33m12\u001B[0m\u001B[1;33m SettingWithCopyWarning\u001B[0m\u001B[33m: \u001B[0m\n\u001B[33mA value is trying to be set on a copy of a slice from a DataFrame.\u001B[0m\n\u001B[33mTry using .loc\u001B[0m\u001B[1;33m[\u001B[0m\u001B[33mrow_indexer,col_indexer\u001B[0m\u001B[1;33m]\u001B[0m\u001B[33m = value instead\u001B[0m\n\n\u001B[33mSee the caveats in the documentation: \u001B[0m\u001B[4;33mhttps://pandas.pydata.org/pandas-docs/stable/user_guide/indexing.html#returning-a-view-versus-a-copy\u001B[0m\n",
      "text/html": "<pre style=\"white-space:pre;overflow-x:auto;line-height:normal;font-family:Menlo,'DejaVu Sans Mono',consolas,'Courier New',monospace\"><span style=\"color: #808000; text-decoration-color: #808000; font-weight: bold\">/tmp/ipykernel_91194/1065393909.py:</span><span style=\"color: #808000; text-decoration-color: #808000; font-weight: bold\">12</span><span style=\"color: #808000; text-decoration-color: #808000; font-weight: bold\"> SettingWithCopyWarning</span><span style=\"color: #808000; text-decoration-color: #808000\">: </span>\n<span style=\"color: #808000; text-decoration-color: #808000\">A value is trying to be set on a copy of a slice from a DataFrame.</span>\n<span style=\"color: #808000; text-decoration-color: #808000\">Try using .loc</span><span style=\"color: #808000; text-decoration-color: #808000; font-weight: bold\">[</span><span style=\"color: #808000; text-decoration-color: #808000\">row_indexer,col_indexer</span><span style=\"color: #808000; text-decoration-color: #808000; font-weight: bold\">]</span><span style=\"color: #808000; text-decoration-color: #808000\"> = value instead</span>\n\n<span style=\"color: #808000; text-decoration-color: #808000\">See the caveats in the documentation: </span><span style=\"color: #808000; text-decoration-color: #808000; text-decoration: underline\">https://pandas.pydata.org/pandas-docs/stable/user_guide/indexing.html#returning-a-view-versus-a-copy</span>\n</pre>\n"
     },
     "metadata": {},
     "output_type": "display_data"
    },
    {
     "data": {
      "text/plain": "\u001B[1;33m/home/onixx/anaconda3/lib/python3.9/site-packages/pandas/core/\u001B[0m\u001B[1;33mgeneric.py\u001B[0m\u001B[1;33m:\u001B[0m\u001B[1;33m6392\u001B[0m\u001B[1;33m SettingWithCopyWarning\u001B[0m\u001B[33m:\u001B[0m\n\u001B[33mA value is trying to be set on a copy of a slice from a DataFrame\u001B[0m\n\n\u001B[33mSee the caveats in the documentation: \u001B[0m\u001B[4;33mhttps://pandas.pydata.org/pandas-docs/stable/user_guide/indexing.html#returning-a-view-versus-a-copy\u001B[0m\n",
      "text/html": "<pre style=\"white-space:pre;overflow-x:auto;line-height:normal;font-family:Menlo,'DejaVu Sans Mono',consolas,'Courier New',monospace\"><span style=\"color: #808000; text-decoration-color: #808000; font-weight: bold\">/home/onixx/anaconda3/lib/python3.9/site-packages/pandas/core/generic.py:</span><span style=\"color: #808000; text-decoration-color: #808000; font-weight: bold\">6392</span><span style=\"color: #808000; text-decoration-color: #808000; font-weight: bold\"> SettingWithCopyWarning</span><span style=\"color: #808000; text-decoration-color: #808000\">:</span>\n<span style=\"color: #808000; text-decoration-color: #808000\">A value is trying to be set on a copy of a slice from a DataFrame</span>\n\n<span style=\"color: #808000; text-decoration-color: #808000\">See the caveats in the documentation: </span><span style=\"color: #808000; text-decoration-color: #808000; text-decoration: underline\">https://pandas.pydata.org/pandas-docs/stable/user_guide/indexing.html#returning-a-view-versus-a-copy</span>\n</pre>\n"
     },
     "metadata": {},
     "output_type": "display_data"
    },
    {
     "data": {
      "text/plain": "\u001B[1;33m/tmp/ipykernel_91194/\u001B[0m\u001B[1;33m1065393909.py\u001B[0m\u001B[1;33m:\u001B[0m\u001B[1;33m16\u001B[0m\u001B[1;33m SettingWithCopyWarning\u001B[0m\u001B[33m: \u001B[0m\n\u001B[33mA value is trying to be set on a copy of a slice from a DataFrame.\u001B[0m\n\u001B[33mTry using .loc\u001B[0m\u001B[1;33m[\u001B[0m\u001B[33mrow_indexer,col_indexer\u001B[0m\u001B[1;33m]\u001B[0m\u001B[33m = value instead\u001B[0m\n\n\u001B[33mSee the caveats in the documentation: \u001B[0m\u001B[4;33mhttps://pandas.pydata.org/pandas-docs/stable/user_guide/indexing.html#returning-a-view-versus-a-copy\u001B[0m\n",
      "text/html": "<pre style=\"white-space:pre;overflow-x:auto;line-height:normal;font-family:Menlo,'DejaVu Sans Mono',consolas,'Courier New',monospace\"><span style=\"color: #808000; text-decoration-color: #808000; font-weight: bold\">/tmp/ipykernel_91194/1065393909.py:</span><span style=\"color: #808000; text-decoration-color: #808000; font-weight: bold\">16</span><span style=\"color: #808000; text-decoration-color: #808000; font-weight: bold\"> SettingWithCopyWarning</span><span style=\"color: #808000; text-decoration-color: #808000\">: </span>\n<span style=\"color: #808000; text-decoration-color: #808000\">A value is trying to be set on a copy of a slice from a DataFrame.</span>\n<span style=\"color: #808000; text-decoration-color: #808000\">Try using .loc</span><span style=\"color: #808000; text-decoration-color: #808000; font-weight: bold\">[</span><span style=\"color: #808000; text-decoration-color: #808000\">row_indexer,col_indexer</span><span style=\"color: #808000; text-decoration-color: #808000; font-weight: bold\">]</span><span style=\"color: #808000; text-decoration-color: #808000\"> = value instead</span>\n\n<span style=\"color: #808000; text-decoration-color: #808000\">See the caveats in the documentation: </span><span style=\"color: #808000; text-decoration-color: #808000; text-decoration: underline\">https://pandas.pydata.org/pandas-docs/stable/user_guide/indexing.html#returning-a-view-versus-a-copy</span>\n</pre>\n"
     },
     "metadata": {},
     "output_type": "display_data"
    }
   ],
   "source": [
    "df = age(df)"
   ],
   "metadata": {
    "collapsed": false
   }
  },
  {
   "cell_type": "markdown",
   "source": [
    "Немного поисследую данные до фильтра:"
   ],
   "metadata": {
    "collapsed": false
   }
  },
  {
   "cell_type": "code",
   "execution_count": 9,
   "outputs": [
    {
     "data": {
      "text/plain": "     Student_id Start_date Contract_date                   Full_name Gender  \\\n2           3.0        NaT           NaT             Трубникова Юлия      Ж   \n3           4.0        NaT           NaT                Жарков Антон      М   \n9          10.0        NaT           NaT  Надежда Скворцова (Агеева)      Ж   \n20         22.0        NaT           NaT               Быстрова Эмма      Ж   \n28         30.0        NaT           NaT                         NaN      Ж   \n..          ...        ...           ...                         ...    ...   \n619         NaN        NaT           NaT             Блажеева Любовь      Ж   \n620         NaN        NaT           NaT               Моршнева Юлия      Ж   \n621         NaN        NaT           NaT               Якушев Сергей      М   \n622         NaN        NaT           NaT              Макогон Сергей      М   \n623         NaN        NaT           NaT                  Баев Вадим      М   \n\n     Age  Start_Shift                     Contacts                       Mail  \\\n2     28          3.0              8-903-092-04-89   korovaevajulia@gmail.com   \n3     32          2.0                @ZharkovAnton      19antoni88@gmail.com    \n9     30          2.0              8-916-905-53-81       nadezda_sk@abbyy.com   \n20    31          2.0                      @emmaby    bystrova.emma@gmail.com   \n28    30          3.0               @a_lena_titova   Elena.n.titova@yandex.ru   \n..   ...          ...                          ...                        ...   \n619    0          NaN                     @lyublia      l.blazheeva@yandex.ru   \n620    0          NaN                 +79777106793      morshnevayv@gmail.com   \n621    0          NaN                     @tezzz79     yakushev.mgn@gmail.com   \n622    0          NaN                    999160374          makogon22@mail.ru   \n623    0          NaN  https://t.me/VadimOlegowich  Vadim.olegowich@gmail.com   \n\n          City_Country  ...   Status Current_Job Start_Class_date  \\\n2    Saint Petersburg   ...  Не ищет         NaN       2020-10-01   \n3               Moscow  ...  Не ищет         NaN              NaT   \n9               Moscow  ...  Не ищет         NaN       2021-09-21   \n20              Moscow  ...  Не ищет         NaN       2021-06-15   \n28                 NaN  ...  Не ищет         NaN              NaT   \n..                 ...  ...      ...         ...              ...   \n619                NaN  ...      NaN         NaN       2022-05-15   \n620                NaN  ...      NaN         NaN       2022-05-16   \n621                NaN  ...      NaN         NaN       2022-09-09   \n622                NaN  ...      NaN         NaN       2022-04-15   \n623                NaN  ...      NaN         NaN       2022-03-10   \n\n    Class_number          student_login Student_hr         Last_job  \\\n2              5                    NaN        NaN              PwC   \n3            NaN                    NaN        NaN   CТБ Интегратор   \n9             16                    NaN        NaN              NaN   \n20            13                    NaN        NaN           Онэлия   \n28             8                    NaN        NaN  Россельхозбанк    \n..           ...                    ...        ...              ...   \n619           24  l.blazheeva@yandex.ru        NaN              NaN   \n620           24  morshnevayv@gmail.com        NaN              NaN   \n621           28          s-jakushev-28        NaN              NaN   \n622           23              s-makogon        NaN              NaN   \n623            2               v-baev-7        NaN              NaN   \n\n    time_difference success_rate     age_group  \n2               0.0      Unknown  second_group  \n3               0.0      Unknown  second_group  \n9               0.0      Unknown  second_group  \n20              0.0      Unknown  second_group  \n28              0.0      Unknown  second_group  \n..              ...          ...           ...  \n619             0.0      Unknown       Unknown  \n620             0.0      Unknown       Unknown  \n621             0.0      Unknown       Unknown  \n622             0.0      Unknown       Unknown  \n623             0.0      Unknown       Unknown  \n\n[238 rows x 22 columns]",
      "text/html": "<div>\n<style scoped>\n    .dataframe tbody tr th:only-of-type {\n        vertical-align: middle;\n    }\n\n    .dataframe tbody tr th {\n        vertical-align: top;\n    }\n\n    .dataframe thead th {\n        text-align: right;\n    }\n</style>\n<table border=\"1\" class=\"dataframe\">\n  <thead>\n    <tr style=\"text-align: right;\">\n      <th></th>\n      <th>Student_id</th>\n      <th>Start_date</th>\n      <th>Contract_date</th>\n      <th>Full_name</th>\n      <th>Gender</th>\n      <th>Age</th>\n      <th>Start_Shift</th>\n      <th>Contacts</th>\n      <th>Mail</th>\n      <th>City_Country</th>\n      <th>...</th>\n      <th>Status</th>\n      <th>Current_Job</th>\n      <th>Start_Class_date</th>\n      <th>Class_number</th>\n      <th>student_login</th>\n      <th>Student_hr</th>\n      <th>Last_job</th>\n      <th>time_difference</th>\n      <th>success_rate</th>\n      <th>age_group</th>\n    </tr>\n  </thead>\n  <tbody>\n    <tr>\n      <th>2</th>\n      <td>3.0</td>\n      <td>NaT</td>\n      <td>NaT</td>\n      <td>Трубникова Юлия</td>\n      <td>Ж</td>\n      <td>28</td>\n      <td>3.0</td>\n      <td>8-903-092-04-89</td>\n      <td>korovaevajulia@gmail.com</td>\n      <td>Saint Petersburg</td>\n      <td>...</td>\n      <td>Не ищет</td>\n      <td>NaN</td>\n      <td>2020-10-01</td>\n      <td>5</td>\n      <td>NaN</td>\n      <td>NaN</td>\n      <td>PwC</td>\n      <td>0.0</td>\n      <td>Unknown</td>\n      <td>second_group</td>\n    </tr>\n    <tr>\n      <th>3</th>\n      <td>4.0</td>\n      <td>NaT</td>\n      <td>NaT</td>\n      <td>Жарков Антон</td>\n      <td>М</td>\n      <td>32</td>\n      <td>2.0</td>\n      <td>@ZharkovAnton</td>\n      <td>19antoni88@gmail.com</td>\n      <td>Moscow</td>\n      <td>...</td>\n      <td>Не ищет</td>\n      <td>NaN</td>\n      <td>NaT</td>\n      <td>NaN</td>\n      <td>NaN</td>\n      <td>NaN</td>\n      <td>CТБ Интегратор</td>\n      <td>0.0</td>\n      <td>Unknown</td>\n      <td>second_group</td>\n    </tr>\n    <tr>\n      <th>9</th>\n      <td>10.0</td>\n      <td>NaT</td>\n      <td>NaT</td>\n      <td>Надежда Скворцова (Агеева)</td>\n      <td>Ж</td>\n      <td>30</td>\n      <td>2.0</td>\n      <td>8-916-905-53-81</td>\n      <td>nadezda_sk@abbyy.com</td>\n      <td>Moscow</td>\n      <td>...</td>\n      <td>Не ищет</td>\n      <td>NaN</td>\n      <td>2021-09-21</td>\n      <td>16</td>\n      <td>NaN</td>\n      <td>NaN</td>\n      <td>NaN</td>\n      <td>0.0</td>\n      <td>Unknown</td>\n      <td>second_group</td>\n    </tr>\n    <tr>\n      <th>20</th>\n      <td>22.0</td>\n      <td>NaT</td>\n      <td>NaT</td>\n      <td>Быстрова Эмма</td>\n      <td>Ж</td>\n      <td>31</td>\n      <td>2.0</td>\n      <td>@emmaby</td>\n      <td>bystrova.emma@gmail.com</td>\n      <td>Moscow</td>\n      <td>...</td>\n      <td>Не ищет</td>\n      <td>NaN</td>\n      <td>2021-06-15</td>\n      <td>13</td>\n      <td>NaN</td>\n      <td>NaN</td>\n      <td>Онэлия</td>\n      <td>0.0</td>\n      <td>Unknown</td>\n      <td>second_group</td>\n    </tr>\n    <tr>\n      <th>28</th>\n      <td>30.0</td>\n      <td>NaT</td>\n      <td>NaT</td>\n      <td>NaN</td>\n      <td>Ж</td>\n      <td>30</td>\n      <td>3.0</td>\n      <td>@a_lena_titova</td>\n      <td>Elena.n.titova@yandex.ru</td>\n      <td>NaN</td>\n      <td>...</td>\n      <td>Не ищет</td>\n      <td>NaN</td>\n      <td>NaT</td>\n      <td>8</td>\n      <td>NaN</td>\n      <td>NaN</td>\n      <td>Россельхозбанк</td>\n      <td>0.0</td>\n      <td>Unknown</td>\n      <td>second_group</td>\n    </tr>\n    <tr>\n      <th>...</th>\n      <td>...</td>\n      <td>...</td>\n      <td>...</td>\n      <td>...</td>\n      <td>...</td>\n      <td>...</td>\n      <td>...</td>\n      <td>...</td>\n      <td>...</td>\n      <td>...</td>\n      <td>...</td>\n      <td>...</td>\n      <td>...</td>\n      <td>...</td>\n      <td>...</td>\n      <td>...</td>\n      <td>...</td>\n      <td>...</td>\n      <td>...</td>\n      <td>...</td>\n      <td>...</td>\n    </tr>\n    <tr>\n      <th>619</th>\n      <td>NaN</td>\n      <td>NaT</td>\n      <td>NaT</td>\n      <td>Блажеева Любовь</td>\n      <td>Ж</td>\n      <td>0</td>\n      <td>NaN</td>\n      <td>@lyublia</td>\n      <td>l.blazheeva@yandex.ru</td>\n      <td>NaN</td>\n      <td>...</td>\n      <td>NaN</td>\n      <td>NaN</td>\n      <td>2022-05-15</td>\n      <td>24</td>\n      <td>l.blazheeva@yandex.ru</td>\n      <td>NaN</td>\n      <td>NaN</td>\n      <td>0.0</td>\n      <td>Unknown</td>\n      <td>Unknown</td>\n    </tr>\n    <tr>\n      <th>620</th>\n      <td>NaN</td>\n      <td>NaT</td>\n      <td>NaT</td>\n      <td>Моршнева Юлия</td>\n      <td>Ж</td>\n      <td>0</td>\n      <td>NaN</td>\n      <td>+79777106793</td>\n      <td>morshnevayv@gmail.com</td>\n      <td>NaN</td>\n      <td>...</td>\n      <td>NaN</td>\n      <td>NaN</td>\n      <td>2022-05-16</td>\n      <td>24</td>\n      <td>morshnevayv@gmail.com</td>\n      <td>NaN</td>\n      <td>NaN</td>\n      <td>0.0</td>\n      <td>Unknown</td>\n      <td>Unknown</td>\n    </tr>\n    <tr>\n      <th>621</th>\n      <td>NaN</td>\n      <td>NaT</td>\n      <td>NaT</td>\n      <td>Якушев Сергей</td>\n      <td>М</td>\n      <td>0</td>\n      <td>NaN</td>\n      <td>@tezzz79</td>\n      <td>yakushev.mgn@gmail.com</td>\n      <td>NaN</td>\n      <td>...</td>\n      <td>NaN</td>\n      <td>NaN</td>\n      <td>2022-09-09</td>\n      <td>28</td>\n      <td>s-jakushev-28</td>\n      <td>NaN</td>\n      <td>NaN</td>\n      <td>0.0</td>\n      <td>Unknown</td>\n      <td>Unknown</td>\n    </tr>\n    <tr>\n      <th>622</th>\n      <td>NaN</td>\n      <td>NaT</td>\n      <td>NaT</td>\n      <td>Макогон Сергей</td>\n      <td>М</td>\n      <td>0</td>\n      <td>NaN</td>\n      <td>999160374</td>\n      <td>makogon22@mail.ru</td>\n      <td>NaN</td>\n      <td>...</td>\n      <td>NaN</td>\n      <td>NaN</td>\n      <td>2022-04-15</td>\n      <td>23</td>\n      <td>s-makogon</td>\n      <td>NaN</td>\n      <td>NaN</td>\n      <td>0.0</td>\n      <td>Unknown</td>\n      <td>Unknown</td>\n    </tr>\n    <tr>\n      <th>623</th>\n      <td>NaN</td>\n      <td>NaT</td>\n      <td>NaT</td>\n      <td>Баев Вадим</td>\n      <td>М</td>\n      <td>0</td>\n      <td>NaN</td>\n      <td>https://t.me/VadimOlegowich</td>\n      <td>Vadim.olegowich@gmail.com</td>\n      <td>NaN</td>\n      <td>...</td>\n      <td>NaN</td>\n      <td>NaN</td>\n      <td>2022-03-10</td>\n      <td>2</td>\n      <td>v-baev-7</td>\n      <td>NaN</td>\n      <td>NaN</td>\n      <td>0.0</td>\n      <td>Unknown</td>\n      <td>Unknown</td>\n    </tr>\n  </tbody>\n</table>\n<p>238 rows × 22 columns</p>\n</div>"
     },
     "execution_count": 9,
     "metadata": {},
     "output_type": "execute_result"
    }
   ],
   "source": [
    "df.query(\"Start_date == 'NaT'\")"
   ],
   "metadata": {
    "collapsed": false
   }
  },
  {
   "cell_type": "markdown",
   "source": [
    "Напишу отдельный таск где я буду фильтровать дату:"
   ],
   "metadata": {
    "collapsed": false
   }
  },
  {
   "cell_type": "code",
   "execution_count": 10,
   "outputs": [],
   "source": [
    "def filter_data(df_final):\n",
    "    #Меняю всем колонкам на всяких случай значения, чтобы не было проблем с типами данных:\n",
    "    df_final[[\"Full_name\", \"Gender\", \"Contacts\", \"Mail\", \"City_Country\", \"Courses\", \"Grade\", \"Status\", \"Current_Job\",\n",
    "              \"student_login\", \"Student_hr\", \"Last_job\", \"success_rate\", \"age_group\"]] = df_final[\n",
    "        [\"Full_name\", \"Gender\", \"Contacts\", \"Mail\", \"City_Country\", \"Courses\", \"Grade\", \"Status\", \"Current_Job\",\n",
    "         \"student_login\", \"Student_hr\", \"Last_job\", \"success_rate\", \"age_group\"]].astype(str)\n",
    "    df_final.student_login = df_final.student_login.replace(\"nan\", \"Unknown\")\n",
    "    df_final.Student_hr = df_final.Student_hr.replace(\"nan\", \"Unknown\")\n",
    "\n",
    "    #Здесь ставлю одинаковые значения, чтобы не было проблем с добавлением в бд:\n",
    "    df_final[\"Contract_date\"].fillna(\"2000-01-01\", inplace=True)\n",
    "    df_final[\"Start_date\"].fillna(\"2000-01-01\", inplace=True)\n",
    "    df_final[\"Start_Class_date\"].fillna(\"2000-01-01\", inplace=True)\n",
    "\n",
    "    #Остальные значения ставлю как Unknown:\n",
    "    df_final.replace(\"nan\", \"Unknown\", inplace=True)\n",
    "\n",
    "    #Также ставлю значения, которых точно не будет в данных, фильтрую прям в superset:\n",
    "    df_final.Start_Shift.fillna(0.0, inplace=True)\n",
    "    df_final.Class_number.fillna(-5.0, inplace=True)\n",
    "\n",
    "    df_final.City_Country = df_final.City_Country.replace(\"Saint Petersburg\", \"Saint-Petersburg\")\n",
    "\n",
    "    #Оставляем только те записи студентов, которые пришли к нам на трудоустройство:\n",
    "    df_final = df_final.query(\"Start_date != '2000-01-01'\")\n",
    "    return df_final"
   ],
   "metadata": {
    "collapsed": false
   }
  },
  {
   "cell_type": "markdown",
   "source": [
    "### Условные значения, которые после будут помогать мне в процессе работы:\n",
    "\n",
    "- Если колонка Contract_date == 2000-01-01 значит дата контракта неизвестна;\n",
    "- Если колонка Start_date == 2000-01-01 значит дата старта неизвестна;\n",
    "- Если колонка Start_Class_date == 2000-01-01 значит дата старта потока неизвестна;\n",
    "- Если колонка time_difference равна 0, значит студент не получил офер.\n",
    "\n",
    "Остальные фильтры также были в работе, но они не являются столь важными как эти."
   ],
   "metadata": {
    "collapsed": false
   }
  },
  {
   "cell_type": "code",
   "execution_count": 11,
   "outputs": [
    {
     "data": {
      "text/plain": "\u001B[1;33m/home/onixx/anaconda3/lib/python3.9/site-packages/pandas/core/\u001B[0m\u001B[1;33mframe.py\u001B[0m\u001B[1;33m:\u001B[0m\u001B[1;33m3641\u001B[0m\u001B[1;33m SettingWithCopyWarning\u001B[0m\u001B[33m:\u001B[0m\n\u001B[33mA value is trying to be set on a copy of a slice from a DataFrame.\u001B[0m\n\u001B[33mTry using .loc\u001B[0m\u001B[1;33m[\u001B[0m\u001B[33mrow_indexer,col_indexer\u001B[0m\u001B[1;33m]\u001B[0m\u001B[33m = value instead\u001B[0m\n\n\u001B[33mSee the caveats in the documentation: \u001B[0m\u001B[4;33mhttps://pandas.pydata.org/pandas-docs/stable/user_guide/indexing.html#returning-a-view-versus-a-copy\u001B[0m\n",
      "text/html": "<pre style=\"white-space:pre;overflow-x:auto;line-height:normal;font-family:Menlo,'DejaVu Sans Mono',consolas,'Courier New',monospace\"><span style=\"color: #808000; text-decoration-color: #808000; font-weight: bold\">/home/onixx/anaconda3/lib/python3.9/site-packages/pandas/core/frame.py:</span><span style=\"color: #808000; text-decoration-color: #808000; font-weight: bold\">3641</span><span style=\"color: #808000; text-decoration-color: #808000; font-weight: bold\"> SettingWithCopyWarning</span><span style=\"color: #808000; text-decoration-color: #808000\">:</span>\n<span style=\"color: #808000; text-decoration-color: #808000\">A value is trying to be set on a copy of a slice from a DataFrame.</span>\n<span style=\"color: #808000; text-decoration-color: #808000\">Try using .loc</span><span style=\"color: #808000; text-decoration-color: #808000; font-weight: bold\">[</span><span style=\"color: #808000; text-decoration-color: #808000\">row_indexer,col_indexer</span><span style=\"color: #808000; text-decoration-color: #808000; font-weight: bold\">]</span><span style=\"color: #808000; text-decoration-color: #808000\"> = value instead</span>\n\n<span style=\"color: #808000; text-decoration-color: #808000\">See the caveats in the documentation: </span><span style=\"color: #808000; text-decoration-color: #808000; text-decoration: underline\">https://pandas.pydata.org/pandas-docs/stable/user_guide/indexing.html#returning-a-view-versus-a-copy</span>\n</pre>\n"
     },
     "metadata": {},
     "output_type": "display_data"
    },
    {
     "data": {
      "text/plain": "\u001B[1;33m/home/onixx/anaconda3/lib/python3.9/site-packages/pandas/core/\u001B[0m\u001B[1;33mgeneric.py\u001B[0m\u001B[1;33m:\u001B[0m\u001B[1;33m5516\u001B[0m\u001B[1;33m SettingWithCopyWarning\u001B[0m\u001B[33m:\u001B[0m\n\u001B[33mA value is trying to be set on a copy of a slice from a DataFrame.\u001B[0m\n\u001B[33mTry using .loc\u001B[0m\u001B[1;33m[\u001B[0m\u001B[33mrow_indexer,col_indexer\u001B[0m\u001B[1;33m]\u001B[0m\u001B[33m = value instead\u001B[0m\n\n\u001B[33mSee the caveats in the documentation: \u001B[0m\u001B[4;33mhttps://pandas.pydata.org/pandas-docs/stable/user_guide/indexing.html#returning-a-view-versus-a-copy\u001B[0m\n",
      "text/html": "<pre style=\"white-space:pre;overflow-x:auto;line-height:normal;font-family:Menlo,'DejaVu Sans Mono',consolas,'Courier New',monospace\"><span style=\"color: #808000; text-decoration-color: #808000; font-weight: bold\">/home/onixx/anaconda3/lib/python3.9/site-packages/pandas/core/generic.py:</span><span style=\"color: #808000; text-decoration-color: #808000; font-weight: bold\">5516</span><span style=\"color: #808000; text-decoration-color: #808000; font-weight: bold\"> SettingWithCopyWarning</span><span style=\"color: #808000; text-decoration-color: #808000\">:</span>\n<span style=\"color: #808000; text-decoration-color: #808000\">A value is trying to be set on a copy of a slice from a DataFrame.</span>\n<span style=\"color: #808000; text-decoration-color: #808000\">Try using .loc</span><span style=\"color: #808000; text-decoration-color: #808000; font-weight: bold\">[</span><span style=\"color: #808000; text-decoration-color: #808000\">row_indexer,col_indexer</span><span style=\"color: #808000; text-decoration-color: #808000; font-weight: bold\">]</span><span style=\"color: #808000; text-decoration-color: #808000\"> = value instead</span>\n\n<span style=\"color: #808000; text-decoration-color: #808000\">See the caveats in the documentation: </span><span style=\"color: #808000; text-decoration-color: #808000; text-decoration: underline\">https://pandas.pydata.org/pandas-docs/stable/user_guide/indexing.html#returning-a-view-versus-a-copy</span>\n</pre>\n"
     },
     "metadata": {},
     "output_type": "display_data"
    },
    {
     "data": {
      "text/plain": "\u001B[1;33m/home/onixx/anaconda3/lib/python3.9/site-packages/pandas/core/\u001B[0m\u001B[1;33mgeneric.py\u001B[0m\u001B[1;33m:\u001B[0m\u001B[1;33m6392\u001B[0m\u001B[1;33m SettingWithCopyWarning\u001B[0m\u001B[33m:\u001B[0m\n\u001B[33mA value is trying to be set on a copy of a slice from a DataFrame\u001B[0m\n\n\u001B[33mSee the caveats in the documentation: \u001B[0m\u001B[4;33mhttps://pandas.pydata.org/pandas-docs/stable/user_guide/indexing.html#returning-a-view-versus-a-copy\u001B[0m\n",
      "text/html": "<pre style=\"white-space:pre;overflow-x:auto;line-height:normal;font-family:Menlo,'DejaVu Sans Mono',consolas,'Courier New',monospace\"><span style=\"color: #808000; text-decoration-color: #808000; font-weight: bold\">/home/onixx/anaconda3/lib/python3.9/site-packages/pandas/core/generic.py:</span><span style=\"color: #808000; text-decoration-color: #808000; font-weight: bold\">6392</span><span style=\"color: #808000; text-decoration-color: #808000; font-weight: bold\"> SettingWithCopyWarning</span><span style=\"color: #808000; text-decoration-color: #808000\">:</span>\n<span style=\"color: #808000; text-decoration-color: #808000\">A value is trying to be set on a copy of a slice from a DataFrame</span>\n\n<span style=\"color: #808000; text-decoration-color: #808000\">See the caveats in the documentation: </span><span style=\"color: #808000; text-decoration-color: #808000; text-decoration: underline\">https://pandas.pydata.org/pandas-docs/stable/user_guide/indexing.html#returning-a-view-versus-a-copy</span>\n</pre>\n"
     },
     "metadata": {},
     "output_type": "display_data"
    },
    {
     "data": {
      "text/plain": "\u001B[1;33m/home/onixx/anaconda3/lib/python3.9/site-packages/pandas/core/\u001B[0m\u001B[1;33mframe.py\u001B[0m\u001B[1;33m:\u001B[0m\u001B[1;33m5238\u001B[0m\u001B[1;33m SettingWithCopyWarning\u001B[0m\u001B[33m:\u001B[0m\n\u001B[33mA value is trying to be set on a copy of a slice from a DataFrame\u001B[0m\n\n\u001B[33mSee the caveats in the documentation: \u001B[0m\u001B[4;33mhttps://pandas.pydata.org/pandas-docs/stable/user_guide/indexing.html#returning-a-view-versus-a-copy\u001B[0m\n",
      "text/html": "<pre style=\"white-space:pre;overflow-x:auto;line-height:normal;font-family:Menlo,'DejaVu Sans Mono',consolas,'Courier New',monospace\"><span style=\"color: #808000; text-decoration-color: #808000; font-weight: bold\">/home/onixx/anaconda3/lib/python3.9/site-packages/pandas/core/frame.py:</span><span style=\"color: #808000; text-decoration-color: #808000; font-weight: bold\">5238</span><span style=\"color: #808000; text-decoration-color: #808000; font-weight: bold\"> SettingWithCopyWarning</span><span style=\"color: #808000; text-decoration-color: #808000\">:</span>\n<span style=\"color: #808000; text-decoration-color: #808000\">A value is trying to be set on a copy of a slice from a DataFrame</span>\n\n<span style=\"color: #808000; text-decoration-color: #808000\">See the caveats in the documentation: </span><span style=\"color: #808000; text-decoration-color: #808000; text-decoration: underline\">https://pandas.pydata.org/pandas-docs/stable/user_guide/indexing.html#returning-a-view-versus-a-copy</span>\n</pre>\n"
     },
     "metadata": {},
     "output_type": "display_data"
    },
    {
     "data": {
      "text/plain": "   Student_id Start_date Contract_date           Full_name Gender  Age  \\\n0         1.0 2021-11-01    2021-11-18   Маргарита Мариева      Ж   25   \n1         2.0 2021-04-20    2021-05-11     Тихонова Марина      Ж   26   \n4         5.0 2021-05-17    2021-06-28       Зарипов Айдар      М   27   \n5         6.0 2021-04-22    2021-05-11  Пономарев Валентин      М   24   \n6         7.0 2022-06-06    2022-07-12    Квашневский Олег      М   24   \n\n   Start_Shift         Contacts                          Mail  \\\n0          1.0  8-952-798-30-85  margarita.marieva@gmail.com    \n1          3.0  8-965-778-86-09           marinane7@gmail.com   \n4          3.0  8-911-039-74-37           zaripov0392@mail.ru   \n5          1.0  8-981-955-87-61        ponvalentine@gmail.com   \n6          3.0         @biotvrg     oleg.kvashnevsky@mail.ru    \n\n        City_Country  ...        Status Current_Job Start_Class_date  \\\n0  Saint Petersburg   ...  Нашел работу   Вкусвилл        2000-01-01   \n1  Saint Petersburg   ...  Нашел работу      Яндекс       2000-01-01   \n4  Saint Petersburg   ...  Нашел работу       Окко        2020-10-01   \n5  Saint Petersburg   ...  Нашел работу      Karuna       2000-01-01   \n6  Saint Petersburg   ...  Нашел работу       Bnovo       2020-08-01   \n\n  Class_number student_login Student_hr        Last_job time_difference  \\\n0            5       Unknown    Unknown   ООО Технолюкс            17.0   \n1         -5.0       Unknown    Unknown     Geekbrains             21.0   \n4            5       Unknown    Unknown         Civitta            42.0   \n5         -5.0       Unknown    Unknown  Linxdatacenter            19.0   \n6            3       Unknown    Unknown          Essity            36.0   \n\n  success_rate     age_group  \n0      Success   first_group  \n1      Success  second_group  \n4      Success  second_group  \n5      Success   first_group  \n6      Success   first_group  \n\n[5 rows x 22 columns]",
      "text/html": "<div>\n<style scoped>\n    .dataframe tbody tr th:only-of-type {\n        vertical-align: middle;\n    }\n\n    .dataframe tbody tr th {\n        vertical-align: top;\n    }\n\n    .dataframe thead th {\n        text-align: right;\n    }\n</style>\n<table border=\"1\" class=\"dataframe\">\n  <thead>\n    <tr style=\"text-align: right;\">\n      <th></th>\n      <th>Student_id</th>\n      <th>Start_date</th>\n      <th>Contract_date</th>\n      <th>Full_name</th>\n      <th>Gender</th>\n      <th>Age</th>\n      <th>Start_Shift</th>\n      <th>Contacts</th>\n      <th>Mail</th>\n      <th>City_Country</th>\n      <th>...</th>\n      <th>Status</th>\n      <th>Current_Job</th>\n      <th>Start_Class_date</th>\n      <th>Class_number</th>\n      <th>student_login</th>\n      <th>Student_hr</th>\n      <th>Last_job</th>\n      <th>time_difference</th>\n      <th>success_rate</th>\n      <th>age_group</th>\n    </tr>\n  </thead>\n  <tbody>\n    <tr>\n      <th>0</th>\n      <td>1.0</td>\n      <td>2021-11-01</td>\n      <td>2021-11-18</td>\n      <td>Маргарита Мариева</td>\n      <td>Ж</td>\n      <td>25</td>\n      <td>1.0</td>\n      <td>8-952-798-30-85</td>\n      <td>margarita.marieva@gmail.com</td>\n      <td>Saint Petersburg</td>\n      <td>...</td>\n      <td>Нашел работу</td>\n      <td>Вкусвилл</td>\n      <td>2000-01-01</td>\n      <td>5</td>\n      <td>Unknown</td>\n      <td>Unknown</td>\n      <td>ООО Технолюкс</td>\n      <td>17.0</td>\n      <td>Success</td>\n      <td>first_group</td>\n    </tr>\n    <tr>\n      <th>1</th>\n      <td>2.0</td>\n      <td>2021-04-20</td>\n      <td>2021-05-11</td>\n      <td>Тихонова Марина</td>\n      <td>Ж</td>\n      <td>26</td>\n      <td>3.0</td>\n      <td>8-965-778-86-09</td>\n      <td>marinane7@gmail.com</td>\n      <td>Saint Petersburg</td>\n      <td>...</td>\n      <td>Нашел работу</td>\n      <td>Яндекс</td>\n      <td>2000-01-01</td>\n      <td>-5.0</td>\n      <td>Unknown</td>\n      <td>Unknown</td>\n      <td>Geekbrains</td>\n      <td>21.0</td>\n      <td>Success</td>\n      <td>second_group</td>\n    </tr>\n    <tr>\n      <th>4</th>\n      <td>5.0</td>\n      <td>2021-05-17</td>\n      <td>2021-06-28</td>\n      <td>Зарипов Айдар</td>\n      <td>М</td>\n      <td>27</td>\n      <td>3.0</td>\n      <td>8-911-039-74-37</td>\n      <td>zaripov0392@mail.ru</td>\n      <td>Saint Petersburg</td>\n      <td>...</td>\n      <td>Нашел работу</td>\n      <td>Окко</td>\n      <td>2020-10-01</td>\n      <td>5</td>\n      <td>Unknown</td>\n      <td>Unknown</td>\n      <td>Civitta</td>\n      <td>42.0</td>\n      <td>Success</td>\n      <td>second_group</td>\n    </tr>\n    <tr>\n      <th>5</th>\n      <td>6.0</td>\n      <td>2021-04-22</td>\n      <td>2021-05-11</td>\n      <td>Пономарев Валентин</td>\n      <td>М</td>\n      <td>24</td>\n      <td>1.0</td>\n      <td>8-981-955-87-61</td>\n      <td>ponvalentine@gmail.com</td>\n      <td>Saint Petersburg</td>\n      <td>...</td>\n      <td>Нашел работу</td>\n      <td>Karuna</td>\n      <td>2000-01-01</td>\n      <td>-5.0</td>\n      <td>Unknown</td>\n      <td>Unknown</td>\n      <td>Linxdatacenter</td>\n      <td>19.0</td>\n      <td>Success</td>\n      <td>first_group</td>\n    </tr>\n    <tr>\n      <th>6</th>\n      <td>7.0</td>\n      <td>2022-06-06</td>\n      <td>2022-07-12</td>\n      <td>Квашневский Олег</td>\n      <td>М</td>\n      <td>24</td>\n      <td>3.0</td>\n      <td>@biotvrg</td>\n      <td>oleg.kvashnevsky@mail.ru</td>\n      <td>Saint Petersburg</td>\n      <td>...</td>\n      <td>Нашел работу</td>\n      <td>Bnovo</td>\n      <td>2020-08-01</td>\n      <td>3</td>\n      <td>Unknown</td>\n      <td>Unknown</td>\n      <td>Essity</td>\n      <td>36.0</td>\n      <td>Success</td>\n      <td>first_group</td>\n    </tr>\n  </tbody>\n</table>\n<p>5 rows × 22 columns</p>\n</div>"
     },
     "execution_count": 11,
     "metadata": {},
     "output_type": "execute_result"
    }
   ],
   "source": [
    "df = filter_data(df)\n",
    "df.head()"
   ],
   "metadata": {
    "collapsed": false
   }
  },
  {
   "cell_type": "markdown",
   "source": [
    "##### Проверка данных, а также место для ответов на вопросы коллег:"
   ],
   "metadata": {
    "collapsed": false
   }
  },
  {
   "cell_type": "code",
   "execution_count": 12,
   "outputs": [
    {
     "data": {
      "text/plain": "     Student_id Start_date Contract_date            Full_name Gender  Age  \\\n27         29.0 2021-08-23    2000-01-01    Трошин Александр       М   40   \n57         59.0 2021-09-01    2000-01-01    Кулагин Владимир       М   37   \n58         60.0 2021-09-15    2000-01-01            Май Антон      М   29   \n69         71.0 2022-09-05    2000-01-01       Анохина Инзира      Ж   32   \n100       102.0 2021-11-01    2000-01-01     Александр Хилько      М   29   \n..          ...        ...           ...                  ...    ...  ...   \n535       537.0 2022-09-18    2000-01-01          Салехи Ника      Ж   33   \n538       540.0 2022-09-01    2000-01-01  Мангурсузян Рафаэль      М   35   \n549       551.0 2022-09-16    2000-01-01       Тимошенко Анна      Ж   37   \n553         NaN 2022-09-20    2000-01-01       Матвей Майоров      М   24   \n561         NaN 2022-09-21    2000-01-01       Пряхин Николай      М   27   \n\n     Start_Shift                 Contacts                         Mail  \\\n27           2.0          @Grodno_Raymond            Ray_Beam2@mail.ru   \n57           2.0                   @k17vv                k17vv@mail.ru   \n58           2.0               @A_May_615              may.a.a@mail.ru   \n69           2.0                 Inzira90           Inzira90@yandex.ru   \n100          3.0             375293316446               hilkoa@mail.ru   \n..           ...                      ...                          ...   \n535          2.0          @nika_salehi_pr              nika-az@mail.ru   \n538          2.0  https://t.me/ra_fa_el_0             mrvsea@gmail.com   \n549          3.0     https://t.me/aiotena  01anna.timoshenko@gmail.com   \n553          3.0   https://t.me/matveymex                 mmat9@me.com   \n561          3.0   https://t.me/npryakhin         n.pryakhin@gmail.com   \n\n          City_Country  ...           Status Current_Job Start_Class_date  \\\n27            Belarus   ...         В поиске     Unknown       2000-01-01   \n57        Krasnoyarsk   ...  Пассивный поиск     Unknown       2000-01-01   \n58         Novosibirsk  ...         В поиске     Unknown       2021-02-15   \n69              Moscow  ...  Пассивный поиск     Unknown       2000-01-01   \n100           Belarus   ...         В поиске     Unknown       2000-01-01   \n..                 ...  ...              ...         ...              ...   \n535  Saint-Petersburg   ...         В поиске     Unknown       2022-12-03   \n538             Moscow  ...         В поиске     Unknown       2021-11-01   \n549            Vietnam  ...         В поиске     Unknown       2022-08-19   \n553            Moscow   ...         В поиске     Unknown       2022-05-01   \n561             Moscow  ...         В поиске     Unknown       2022-03-15   \n\n    Class_number                student_login  Student_hr        Last_job  \\\n27           7.0                      Unknown      Оксана         Яндекс    \n57          10.0                      Unknown      Оксана     Гк Пирамида   \n58           9.0                      Unknown       Белла     Media Buyer   \n69           9.0                      Unknown       Белла         Яндекс    \n100          1.0                      Unknown      Оксана             ОМА   \n..           ...                          ...         ...             ...   \n535         22.0              nika-az@mail.ru       Белла         Unknown   \n538         18.0            r-mangursuzjan-18       Белла         Unknown   \n549         10.0  01anna.timoshenko@gmail.com      Оксана            ЦПУР   \n553          7.0                    m-majorov      Оксана  Otkrtitie Bank   \n561         22.0                 n-prjahin-22      Оксана     ТК Сервис М   \n\n    time_difference success_rate     age_group  \n27              0.0      Unknown   third_group  \n57              0.0      Unknown   third_group  \n58              0.0      Unknown  second_group  \n69              0.0      Unknown  second_group  \n100             0.0      Unknown  second_group  \n..              ...          ...           ...  \n535             0.0      Unknown  second_group  \n538             0.0      Unknown  second_group  \n549             0.0      Unknown   third_group  \n553             0.0      Unknown   first_group  \n561             0.0      Unknown  second_group  \n\n[102 rows x 22 columns]",
      "text/html": "<div>\n<style scoped>\n    .dataframe tbody tr th:only-of-type {\n        vertical-align: middle;\n    }\n\n    .dataframe tbody tr th {\n        vertical-align: top;\n    }\n\n    .dataframe thead th {\n        text-align: right;\n    }\n</style>\n<table border=\"1\" class=\"dataframe\">\n  <thead>\n    <tr style=\"text-align: right;\">\n      <th></th>\n      <th>Student_id</th>\n      <th>Start_date</th>\n      <th>Contract_date</th>\n      <th>Full_name</th>\n      <th>Gender</th>\n      <th>Age</th>\n      <th>Start_Shift</th>\n      <th>Contacts</th>\n      <th>Mail</th>\n      <th>City_Country</th>\n      <th>...</th>\n      <th>Status</th>\n      <th>Current_Job</th>\n      <th>Start_Class_date</th>\n      <th>Class_number</th>\n      <th>student_login</th>\n      <th>Student_hr</th>\n      <th>Last_job</th>\n      <th>time_difference</th>\n      <th>success_rate</th>\n      <th>age_group</th>\n    </tr>\n  </thead>\n  <tbody>\n    <tr>\n      <th>27</th>\n      <td>29.0</td>\n      <td>2021-08-23</td>\n      <td>2000-01-01</td>\n      <td>Трошин Александр</td>\n      <td>М</td>\n      <td>40</td>\n      <td>2.0</td>\n      <td>@Grodno_Raymond</td>\n      <td>Ray_Beam2@mail.ru</td>\n      <td>Belarus</td>\n      <td>...</td>\n      <td>В поиске</td>\n      <td>Unknown</td>\n      <td>2000-01-01</td>\n      <td>7.0</td>\n      <td>Unknown</td>\n      <td>Оксана</td>\n      <td>Яндекс</td>\n      <td>0.0</td>\n      <td>Unknown</td>\n      <td>third_group</td>\n    </tr>\n    <tr>\n      <th>57</th>\n      <td>59.0</td>\n      <td>2021-09-01</td>\n      <td>2000-01-01</td>\n      <td>Кулагин Владимир</td>\n      <td>М</td>\n      <td>37</td>\n      <td>2.0</td>\n      <td>@k17vv</td>\n      <td>k17vv@mail.ru</td>\n      <td>Krasnoyarsk</td>\n      <td>...</td>\n      <td>Пассивный поиск</td>\n      <td>Unknown</td>\n      <td>2000-01-01</td>\n      <td>10.0</td>\n      <td>Unknown</td>\n      <td>Оксана</td>\n      <td>Гк Пирамида</td>\n      <td>0.0</td>\n      <td>Unknown</td>\n      <td>third_group</td>\n    </tr>\n    <tr>\n      <th>58</th>\n      <td>60.0</td>\n      <td>2021-09-15</td>\n      <td>2000-01-01</td>\n      <td>Май Антон</td>\n      <td>М</td>\n      <td>29</td>\n      <td>2.0</td>\n      <td>@A_May_615</td>\n      <td>may.a.a@mail.ru</td>\n      <td>Novosibirsk</td>\n      <td>...</td>\n      <td>В поиске</td>\n      <td>Unknown</td>\n      <td>2021-02-15</td>\n      <td>9.0</td>\n      <td>Unknown</td>\n      <td>Белла</td>\n      <td>Media Buyer</td>\n      <td>0.0</td>\n      <td>Unknown</td>\n      <td>second_group</td>\n    </tr>\n    <tr>\n      <th>69</th>\n      <td>71.0</td>\n      <td>2022-09-05</td>\n      <td>2000-01-01</td>\n      <td>Анохина Инзира</td>\n      <td>Ж</td>\n      <td>32</td>\n      <td>2.0</td>\n      <td>Inzira90</td>\n      <td>Inzira90@yandex.ru</td>\n      <td>Moscow</td>\n      <td>...</td>\n      <td>Пассивный поиск</td>\n      <td>Unknown</td>\n      <td>2000-01-01</td>\n      <td>9.0</td>\n      <td>Unknown</td>\n      <td>Белла</td>\n      <td>Яндекс</td>\n      <td>0.0</td>\n      <td>Unknown</td>\n      <td>second_group</td>\n    </tr>\n    <tr>\n      <th>100</th>\n      <td>102.0</td>\n      <td>2021-11-01</td>\n      <td>2000-01-01</td>\n      <td>Александр Хилько</td>\n      <td>М</td>\n      <td>29</td>\n      <td>3.0</td>\n      <td>375293316446</td>\n      <td>hilkoa@mail.ru</td>\n      <td>Belarus</td>\n      <td>...</td>\n      <td>В поиске</td>\n      <td>Unknown</td>\n      <td>2000-01-01</td>\n      <td>1.0</td>\n      <td>Unknown</td>\n      <td>Оксана</td>\n      <td>ОМА</td>\n      <td>0.0</td>\n      <td>Unknown</td>\n      <td>second_group</td>\n    </tr>\n    <tr>\n      <th>...</th>\n      <td>...</td>\n      <td>...</td>\n      <td>...</td>\n      <td>...</td>\n      <td>...</td>\n      <td>...</td>\n      <td>...</td>\n      <td>...</td>\n      <td>...</td>\n      <td>...</td>\n      <td>...</td>\n      <td>...</td>\n      <td>...</td>\n      <td>...</td>\n      <td>...</td>\n      <td>...</td>\n      <td>...</td>\n      <td>...</td>\n      <td>...</td>\n      <td>...</td>\n      <td>...</td>\n    </tr>\n    <tr>\n      <th>535</th>\n      <td>537.0</td>\n      <td>2022-09-18</td>\n      <td>2000-01-01</td>\n      <td>Салехи Ника</td>\n      <td>Ж</td>\n      <td>33</td>\n      <td>2.0</td>\n      <td>@nika_salehi_pr</td>\n      <td>nika-az@mail.ru</td>\n      <td>Saint-Petersburg</td>\n      <td>...</td>\n      <td>В поиске</td>\n      <td>Unknown</td>\n      <td>2022-12-03</td>\n      <td>22.0</td>\n      <td>nika-az@mail.ru</td>\n      <td>Белла</td>\n      <td>Unknown</td>\n      <td>0.0</td>\n      <td>Unknown</td>\n      <td>second_group</td>\n    </tr>\n    <tr>\n      <th>538</th>\n      <td>540.0</td>\n      <td>2022-09-01</td>\n      <td>2000-01-01</td>\n      <td>Мангурсузян Рафаэль</td>\n      <td>М</td>\n      <td>35</td>\n      <td>2.0</td>\n      <td>https://t.me/ra_fa_el_0</td>\n      <td>mrvsea@gmail.com</td>\n      <td>Moscow</td>\n      <td>...</td>\n      <td>В поиске</td>\n      <td>Unknown</td>\n      <td>2021-11-01</td>\n      <td>18.0</td>\n      <td>r-mangursuzjan-18</td>\n      <td>Белла</td>\n      <td>Unknown</td>\n      <td>0.0</td>\n      <td>Unknown</td>\n      <td>second_group</td>\n    </tr>\n    <tr>\n      <th>549</th>\n      <td>551.0</td>\n      <td>2022-09-16</td>\n      <td>2000-01-01</td>\n      <td>Тимошенко Анна</td>\n      <td>Ж</td>\n      <td>37</td>\n      <td>3.0</td>\n      <td>https://t.me/aiotena</td>\n      <td>01anna.timoshenko@gmail.com</td>\n      <td>Vietnam</td>\n      <td>...</td>\n      <td>В поиске</td>\n      <td>Unknown</td>\n      <td>2022-08-19</td>\n      <td>10.0</td>\n      <td>01anna.timoshenko@gmail.com</td>\n      <td>Оксана</td>\n      <td>ЦПУР</td>\n      <td>0.0</td>\n      <td>Unknown</td>\n      <td>third_group</td>\n    </tr>\n    <tr>\n      <th>553</th>\n      <td>NaN</td>\n      <td>2022-09-20</td>\n      <td>2000-01-01</td>\n      <td>Матвей Майоров</td>\n      <td>М</td>\n      <td>24</td>\n      <td>3.0</td>\n      <td>https://t.me/matveymex</td>\n      <td>mmat9@me.com</td>\n      <td>Moscow</td>\n      <td>...</td>\n      <td>В поиске</td>\n      <td>Unknown</td>\n      <td>2022-05-01</td>\n      <td>7.0</td>\n      <td>m-majorov</td>\n      <td>Оксана</td>\n      <td>Otkrtitie Bank</td>\n      <td>0.0</td>\n      <td>Unknown</td>\n      <td>first_group</td>\n    </tr>\n    <tr>\n      <th>561</th>\n      <td>NaN</td>\n      <td>2022-09-21</td>\n      <td>2000-01-01</td>\n      <td>Пряхин Николай</td>\n      <td>М</td>\n      <td>27</td>\n      <td>3.0</td>\n      <td>https://t.me/npryakhin</td>\n      <td>n.pryakhin@gmail.com</td>\n      <td>Moscow</td>\n      <td>...</td>\n      <td>В поиске</td>\n      <td>Unknown</td>\n      <td>2022-03-15</td>\n      <td>22.0</td>\n      <td>n-prjahin-22</td>\n      <td>Оксана</td>\n      <td>ТК Сервис М</td>\n      <td>0.0</td>\n      <td>Unknown</td>\n      <td>second_group</td>\n    </tr>\n  </tbody>\n</table>\n<p>102 rows × 22 columns</p>\n</div>"
     },
     "execution_count": 12,
     "metadata": {},
     "output_type": "execute_result"
    }
   ],
   "source": [
    "df.query(\"Contract_date == '2000-01-01'\")"
   ],
   "metadata": {
    "collapsed": false
   }
  },
  {
   "cell_type": "code",
   "execution_count": null,
   "outputs": [],
   "source": [
    "df.at[58, \"Full_name\"] = \"Апрель Антон\""
   ],
   "metadata": {
    "collapsed": false
   }
  },
  {
   "cell_type": "markdown",
   "source": [
    "Напишу таск, который будет очищать данные и после заново загружать, при эом сейчас выполню самый простой вариант, а далее буду его дорабатывать:"
   ],
   "metadata": {
    "collapsed": false
   }
  },
  {
   "cell_type": "code",
   "execution_count": null,
   "outputs": [],
   "source": [
    "def clean_upload_data(df):\n",
    "    #Здесь будет очищать данные:\n",
    "    connection_employment.execute(\"TRUNCATE default.employment_final\")\n",
    "\n",
    "    #Здесь будем добавлять данные:\n",
    "    connection_employment.execute(\"INSERT INTO default.employment_final VALUES\", df.to_dict(orient=\"records\"))\n",
    "    connection_employment.execute('OPTIMIZE TABLE default.employment_final DEDUPLICATE BY Student_id')"
   ],
   "metadata": {
    "collapsed": false
   }
  },
  {
   "cell_type": "code",
   "execution_count": null,
   "outputs": [],
   "source": [
    "clean_upload_data(df)"
   ],
   "metadata": {
    "collapsed": false
   }
  },
  {
   "cell_type": "code",
   "execution_count": null,
   "outputs": [],
   "source": [
    "df.Student_hr.unique()"
   ],
   "metadata": {
    "collapsed": false
   }
  },
  {
   "cell_type": "code",
   "execution_count": null,
   "outputs": [],
   "source": [
    "df.query(\"Student_hr == 'Настя'\").Full_name.to_excel(\"your_studnets.xlsx\", index=False)"
   ],
   "metadata": {
    "collapsed": false
   }
  },
  {
   "cell_type": "code",
   "execution_count": null,
   "outputs": [],
   "source": [
    "df.query(\"Student_hr == 'Белла'\").Full_name.to_excel(\"your_studnets.xlsx\", index=False)"
   ],
   "metadata": {
    "collapsed": false
   }
  },
  {
   "cell_type": "markdown",
   "source": [
    "Рассчитаем показатель успеваемости за последние 3 месяца:"
   ],
   "metadata": {
    "collapsed": false
   }
  },
  {
   "cell_type": "code",
   "execution_count": null,
   "outputs": [],
   "source": [
    "last_three_month = df.query(\"Start_date >= '2022-06-12'\")"
   ],
   "metadata": {
    "collapsed": false
   }
  },
  {
   "cell_type": "code",
   "execution_count": null,
   "outputs": [],
   "source": [
    "round((last_three_month.query(\"time_difference <= 90 and time_difference != 0\").shape[0] / last_three_month.shape[\n",
    "    0]) * 100, 2)"
   ],
   "metadata": {
    "collapsed": false
   }
  },
  {
   "cell_type": "markdown",
   "source": [
    "Хочу посмотреть на распределение за сколько дней студенты находили работу:"
   ],
   "metadata": {
    "collapsed": false
   }
  },
  {
   "cell_type": "code",
   "execution_count": null,
   "outputs": [],
   "source": [
    "sns.histplot(last_three_month.time_difference);"
   ],
   "metadata": {
    "collapsed": false
   }
  },
  {
   "cell_type": "code",
   "execution_count": null,
   "outputs": [],
   "source": [
    "default_args = {\n",
    "    'owner': 'v-saharov',\n",
    "    'depends_on_past': False,\n",
    "    'retries': 2,\n",
    "    'retry_delay': timedelta(minutes=5),\n",
    "    'start_date': datetime(2022, 4, 8),\n",
    "}\n",
    "schedule_interval = \"* 22 * * 7\""
   ],
   "metadata": {
    "collapsed": false
   }
  },
  {
   "cell_type": "code",
   "execution_count": null,
   "outputs": [],
   "source": [
    "#Для clikchouse на сервере:\n",
    "client = Client(host=Variable.get(\"CLICKHOUSE_HOST\"),\n",
    "                port=Variable.get(\"CLICKHOUSE_PORT\"),\n",
    "                user=Variable.get(\"CLICKHOUSE_USER\"),\n",
    "                password=Variable.get(\"CLICKHOUSE_PASSWORD\"),\n",
    "                database='analytics')"
   ],
   "metadata": {
    "collapsed": false
   }
  }
 ],
 "metadata": {
  "kernelspec": {
   "display_name": "Python 3",
   "language": "python",
   "name": "python3"
  },
  "language_info": {
   "codemirror_mode": {
    "name": "ipython",
    "version": 2
   },
   "file_extension": ".py",
   "mimetype": "text/x-python",
   "name": "python",
   "nbconvert_exporter": "python",
   "pygments_lexer": "ipython2",
   "version": "2.7.6"
  }
 },
 "nbformat": 4,
 "nbformat_minor": 0
}
