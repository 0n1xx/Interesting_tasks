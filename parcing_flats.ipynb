{
 "cells": [
  {
   "cell_type": "markdown",
   "source": [
    "### Парсинг на Python:\n",
    "\n",
    "Для начала я хочу написать, что я всего лишь 2 раза занимался такой штукой и сейчас решил изучить ее поподробнее. Для начала научусь работать с библиотекой BeatifulSoup и сделаю небольшую систему оповещений и она будет состоять из следующих тасков, которые будут обернуты в dag:\n",
    "1. Паршу вакансии(практически закончил разобраться почему порой он берет значения не от туда, а также стоило бы добавить описание, чтобы сообщения отправлялись с пользой); +\n",
    "2. Загружаю значения в бд; +\n",
    "3. Беру только новые значения, а то есть left-only join; +\n",
    "4. Отправляю все новые значения в телеграм канал каждый день, при этом также можно будет подумать в каком формате отсылать сообщения и в какие графики."
   ],
   "metadata": {
    "collapsed": false,
    "pycharm": {
     "name": "#%% md\n"
    }
   }
  },
  {
   "cell_type": "markdown",
   "source": [
    "##### To-Do list:\n",
    "1. Разобраться с выводом description, subway;\n",
    "2. Оптимизировать парсер;\n",
    "2. Подобрать оптимальные фильтры и написать таск;\n",
    "3. Создать таск с ботом с отправкой сообщения."
   ],
   "metadata": {
    "collapsed": false,
    "pycharm": {
     "name": "#%% md\n"
    }
   }
  },
  {
   "cell_type": "code",
   "execution_count": 1,
   "outputs": [],
   "source": [
    "#Для датафрейма:\n",
    "import pandas as pd\n",
    "import numpy as np\n",
    "\n",
    "#Для визуализации:\n",
    "import seaborn as sns\n",
    "import matplotlib.pyplot as plt\n",
    "\n",
    "#Для парсинга:\n",
    "import requests\n",
    "from hyper.contrib import HTTP20Adapter\n",
    "from bs4 import BeautifulSoup as bs\n",
    "from time import sleep\n",
    "\n",
    "#Для airflow и clickhouse:\n",
    "from airflow.decorators import dag, task\n",
    "from datetime import datetime, timedelta\n",
    "from clickhouse_driver import Client\n",
    "\n",
    "#Для бота:\n",
    "import telegram\n",
    "import io"
   ],
   "metadata": {
    "collapsed": false,
    "pycharm": {
     "name": "#%%\n"
    }
   }
  },
  {
   "cell_type": "markdown",
   "source": [
    "Сначала укажу все дефолтные параметры:"
   ],
   "metadata": {
    "collapsed": false,
    "pycharm": {
     "name": "#%% md\n"
    }
   }
  },
  {
   "cell_type": "code",
   "execution_count": 2,
   "outputs": [],
   "source": [
    "default_args = {\n",
    "    'owner': 'airflow',\n",
    "    'depends_on_past': False,\n",
    "    'retries': 2,\n",
    "    'retry_delay': timedelta(minutes=3),\n",
    "    'start_date': datetime(2022, 9, 3),\n",
    "}"
   ],
   "metadata": {
    "collapsed": false,
    "pycharm": {
     "name": "#%%\n"
    }
   }
  },
  {
   "cell_type": "code",
   "execution_count": 3,
   "outputs": [],
   "source": [
    "client = Client(host='localhost')"
   ],
   "metadata": {
    "collapsed": false,
    "pycharm": {
     "name": "#%%\n"
    }
   }
  },
  {
   "cell_type": "code",
   "execution_count": 4,
   "outputs": [],
   "source": [
    "my_token = \"5711117341:AAEiU75eEX5RTbMEncnGh32JwsnhTSHtDrM\"\n",
    "bot = telegram.Bot(token=my_token)"
   ],
   "metadata": {
    "collapsed": false,
    "pycharm": {
     "name": "#%%\n"
    }
   }
  },
  {
   "cell_type": "code",
   "execution_count": 5,
   "outputs": [
    {
     "name": "stdout",
     "output_type": "stream",
     "text": [
      "{'channel_post': {'chat': {'id': -1001786025908, 'title': 'Квартиры в Москве', 'type': 'channel'}, 'channel_chat_created': False, 'photo': [], 'supergroup_chat_created': False, 'text': '/start', 'message_id': 4, 'date': 1662054739, 'sender_chat': {'id': -1001786025908, 'title': 'Квартиры в Москве', 'type': 'channel'}, 'delete_chat_photo': False, 'new_chat_members': [], 'new_chat_photo': [], 'caption_entities': [], 'group_chat_created': False, 'entities': [{'type': 'bot_command', 'length': 6, 'offset': 0}]}, 'update_id': 729828266}\n"
     ]
    }
   ],
   "source": [
    "updates = bot.getUpdates()\n",
    "print(updates[-1])"
   ],
   "metadata": {
    "collapsed": false,
    "pycharm": {
     "name": "#%%\n"
    }
   }
  },
  {
   "cell_type": "code",
   "execution_count": 8,
   "outputs": [],
   "source": [
    "chat_id = -1001786025908"
   ],
   "metadata": {
    "collapsed": false,
    "pycharm": {
     "name": "#%%\n"
    }
   }
  },
  {
   "cell_type": "code",
   "execution_count": 9,
   "outputs": [],
   "source": [
    "schedule_interval = \"00 22 * * 7\""
   ],
   "metadata": {
    "collapsed": false,
    "pycharm": {
     "name": "#%%\n"
    }
   }
  },
  {
   "cell_type": "markdown",
   "source": [
    "Парсить я буду квартиры в Москве с сайта авито, далее я хочу поисследовать данные и сделать какие-то выводы."
   ],
   "metadata": {
    "collapsed": false,
    "pycharm": {
     "name": "#%% md\n"
    }
   }
  },
  {
   "cell_type": "markdown",
   "source": [
    "Что буду парсить:\n",
    "1. Ссылку;\n",
    "2. Цену за квадратный метр;\n",
    "3. Стоимость за квадратный метр;\n",
    "4. Стоимость квартиры;\n",
    "5. Описание;\n",
    "6. Расстояние от метро."
   ],
   "metadata": {
    "collapsed": false,
    "pycharm": {
     "name": "#%% md\n"
    }
   }
  },
  {
   "cell_type": "code",
   "execution_count": 53,
   "outputs": [],
   "source": [
    "lst_links = []\n",
    "lst_square = []\n",
    "lst_price = []\n",
    "lst_subway = []\n",
    "lst_description = []\n",
    "lst_minutes = []"
   ],
   "metadata": {
    "collapsed": false,
    "pycharm": {
     "name": "#%%\n"
    }
   }
  },
  {
   "cell_type": "code",
   "execution_count": 11,
   "outputs": [],
   "source": [
    "def parce_vacancies():\n",
    "    #Сначала создаем цикл, где будем идти по страницам:\n",
    "    for page in range(1, 99):\n",
    "        print(page)  #чтобы отслеживать на какой страницы мы\n",
    "        full_url = f\"https://www.avito.ru/moskva/kvartiry/prodam-ASgBAgICAUSSA8YQ?cd=1&p={page}\"\n",
    "        source = requests.Session()\n",
    "        source.mount('https://', HTTP20Adapter())\n",
    "        response = source.get(full_url)\n",
    "        sleep(7)  #чтобы не перегружался\n",
    "        #инкодим значения иначе будет эльфийский\n",
    "        response.encoding = 'utf-8'\n",
    "        soup = bs(response.text, 'lxml')\n",
    "\n",
    "        all_flats = soup.findAll(\"div\", class_=\"iva-item-content-rejJg\")\n",
    "\n",
    "        #А здесь уже большой цикл обработки, где будем идти и собирать данные с каждой квартиры:\n",
    "        for flat in all_flats:\n",
    "\n",
    "            #Ссылка на квартиру:\n",
    "            var_link = flat.find(\"a\",\n",
    "                                 \"link-link-MbQDP link-design-default-_nSbv title-root-zZCwT iva-item-title-py3i_ title-listRedesign-_rejR title-root_maxHeight-X6PsH\")\n",
    "            if type(var_link) != type(None):\n",
    "                local_var_link = \"https://www.avito.ru\" + var_link.get(\"href\")\n",
    "                lst_links.append([local_var_link])\n",
    "            else:\n",
    "                lst_links.append([None])\n",
    "\n",
    "            #Отбираем цену за квадрат:\n",
    "            var_square = flat.find(\"span\",\n",
    "                                   class_=\"price-noaccent-X6dOy price-normalizedPrice-PplY9 text-text-LurtD text-size-s-BxGpL\")\n",
    "            if type(var_square) != type(None):\n",
    "                var = flat.find(\"span\",\n",
    "                                class_=\"price-noaccent-X6dOy price-normalizedPrice-PplY9 text-text-LurtD text-size-s-BxGpL\").text\n",
    "                correct_number_square_price = \"\"\n",
    "                #Очищаем строку от бесполезного мусора:\n",
    "                for var_square_circle in var:\n",
    "                    if var_square_circle.isdigit():\n",
    "                        correct_number_square_price += var_square_circle\n",
    "                #Убираем последнею цифру, там значение в квадрате:\n",
    "                correct_number_square_price = correct_number_square_price.replace(correct_number_square_price[-1], \"\")\n",
    "                lst_square.append(correct_number_square_price)\n",
    "            else:\n",
    "                lst_square.append(None)\n",
    "\n",
    "            #Отбираем полную цену:\n",
    "            var_full_price = flat.find(\"span\", class_=\"price-text-_YGDY text-text-LurtD text-size-s-BxGpL\")\n",
    "            if type(var_full_price) != type(None):\n",
    "                full_price = var_full_price.text\n",
    "                correct_number_full_price = \"\"\n",
    "                #Оставляем лишь число:\n",
    "                for var_full_price_circle in full_price:\n",
    "                    if var_full_price_circle.isdigit():\n",
    "                        correct_number_full_price += var_full_price_circle\n",
    "\n",
    "                lst_price.append(correct_number_full_price)\n",
    "            else:\n",
    "                lst_price.append(None)\n",
    "\n",
    "            #Отбираем станцию метро:\n",
    "            var_subway = flat.find('div', class_=\"geo-georeferences-SEtee text-text-LurtD text-size-s-BxGpL\")\n",
    "            if type(var_subway) != type(None):\n",
    "                subway_name = var_subway.text\n",
    "                subway_full = \"\"\n",
    "                for var_subway_circle in subway_name:\n",
    "                    if var_subway_circle.isalpha():\n",
    "                        subway_full += var_subway_circle\n",
    "                    else:  #после станции идет время сколько от метро и это значение число, тем самым убираем его\n",
    "                        break\n",
    "                lst_subway.append(subway_full)\n",
    "            else:\n",
    "                lst_subway.append(None)\n",
    "\n",
    "            #Описание квартиры:\n",
    "            var_description = flat.find(\"div\",class_=\"iva-item-text-Ge6dR iva-item-description-FDgK4 text-text-LurtD text-size-s-BxGpL\")\n",
    "            if type(var_description) != type(None):\n",
    "                description = var_description.text\n",
    "                lst_description.append(description)\n",
    "            else:\n",
    "                lst_description.append(None)\n",
    "\n",
    "            #Добавляю расстояние от метро:\n",
    "            var_minutes = flat.find(\"span\",class_=\"geo-periodSection-bQIE4\")\n",
    "            if type(var_minutes) != type(None):\n",
    "                var_minutes_text = var_minutes.text\n",
    "                var_minutes_full = \"\"\n",
    "                for var_minute_circle in var_minutes_text:\n",
    "                    if var_minute_circle == '–' or var_minute_circle.isdigit():\n",
    "                        var_minutes_full += var_minute_circle\n",
    "                lst_minutes.append(var_minutes_full)\n",
    "            else:\n",
    "                lst_minutes.append(None)\n",
    "\n",
    "    #Создаем датафрейм:\n",
    "    full_df = pd.DataFrame(data={\"square_price\": lst_square, \"full_price\": lst_price, \"subway\": lst_subway,\"links\": lst_links,\"description\":lst_description,'destination_from_nearest_subway':lst_minutes})\n",
    "\n",
    "    return full_df\n"
   ],
   "metadata": {
    "collapsed": false,
    "pycharm": {
     "name": "#%%\n"
    }
   }
  },
  {
   "cell_type": "code",
   "execution_count": 12,
   "outputs": [
    {
     "name": "stdout",
     "output_type": "stream",
     "text": [
      "1\n",
      "[\u001B[34m2022-09-01 22:15:41,714\u001B[0m] {\u001B[34mconnection.py:\u001B[0m724} INFO\u001B[0m - Received unhandled event <RemoteSettingsChanged changed_settings:{ChangedSetting(setting=SettingCodes.MAX_CONCURRENT_STREAMS, original_value=None, new_value=16), ChangedSetting(setting=SettingCodes.INITIAL_WINDOW_SIZE, original_value=65535, new_value=65536), ChangedSetting(setting=SettingCodes._max_frame_size, original_value=16384, new_value=16777215)}>\u001B[0m\n",
      "[\u001B[34m2022-09-01 22:15:41,716\u001B[0m] {\u001B[34mconnection.py:\u001B[0m724} INFO\u001B[0m - Received unhandled event <WindowUpdated stream_id:0, delta:2147418112>\u001B[0m\n",
      "[\u001B[34m2022-09-01 22:15:41,738\u001B[0m] {\u001B[34mconnection.py:\u001B[0m724} INFO\u001B[0m - Received unhandled event <SettingsAcknowledged changed_settings:{ChangedSetting(setting=SettingCodes.ENABLE_PUSH, original_value=1, new_value=0)}>\u001B[0m\n",
      "[\u001B[34m2022-09-01 22:15:41,740\u001B[0m] {\u001B[34mconnection.py:\u001B[0m724} INFO\u001B[0m - Received unhandled event <SettingsAcknowledged changed_settings:{}>\u001B[0m\n",
      "2\n",
      "[\u001B[34m2022-09-01 22:15:52,081\u001B[0m] {\u001B[34mconnection.py:\u001B[0m724} INFO\u001B[0m - Received unhandled event <RemoteSettingsChanged changed_settings:{ChangedSetting(setting=SettingCodes.MAX_CONCURRENT_STREAMS, original_value=None, new_value=16), ChangedSetting(setting=SettingCodes.INITIAL_WINDOW_SIZE, original_value=65535, new_value=65536), ChangedSetting(setting=SettingCodes._max_frame_size, original_value=16384, new_value=16777215)}>\u001B[0m\n",
      "[\u001B[34m2022-09-01 22:15:52,082\u001B[0m] {\u001B[34mconnection.py:\u001B[0m724} INFO\u001B[0m - Received unhandled event <WindowUpdated stream_id:0, delta:2147418112>\u001B[0m\n",
      "[\u001B[34m2022-09-01 22:15:52,107\u001B[0m] {\u001B[34mconnection.py:\u001B[0m724} INFO\u001B[0m - Received unhandled event <SettingsAcknowledged changed_settings:{ChangedSetting(setting=SettingCodes.ENABLE_PUSH, original_value=1, new_value=0)}>\u001B[0m\n",
      "[\u001B[34m2022-09-01 22:15:52,108\u001B[0m] {\u001B[34mconnection.py:\u001B[0m724} INFO\u001B[0m - Received unhandled event <SettingsAcknowledged changed_settings:{}>\u001B[0m\n",
      "3\n",
      "[\u001B[34m2022-09-01 22:16:01,817\u001B[0m] {\u001B[34mconnection.py:\u001B[0m724} INFO\u001B[0m - Received unhandled event <RemoteSettingsChanged changed_settings:{ChangedSetting(setting=SettingCodes.MAX_CONCURRENT_STREAMS, original_value=None, new_value=16), ChangedSetting(setting=SettingCodes.INITIAL_WINDOW_SIZE, original_value=65535, new_value=65536), ChangedSetting(setting=SettingCodes._max_frame_size, original_value=16384, new_value=16777215)}>\u001B[0m\n",
      "[\u001B[34m2022-09-01 22:16:01,818\u001B[0m] {\u001B[34mconnection.py:\u001B[0m724} INFO\u001B[0m - Received unhandled event <WindowUpdated stream_id:0, delta:2147418112>\u001B[0m\n",
      "[\u001B[34m2022-09-01 22:16:01,837\u001B[0m] {\u001B[34mconnection.py:\u001B[0m724} INFO\u001B[0m - Received unhandled event <SettingsAcknowledged changed_settings:{ChangedSetting(setting=SettingCodes.ENABLE_PUSH, original_value=1, new_value=0)}>\u001B[0m\n",
      "[\u001B[34m2022-09-01 22:16:01,838\u001B[0m] {\u001B[34mconnection.py:\u001B[0m724} INFO\u001B[0m - Received unhandled event <SettingsAcknowledged changed_settings:{}>\u001B[0m\n",
      "4\n",
      "[\u001B[34m2022-09-01 22:16:11,444\u001B[0m] {\u001B[34mconnection.py:\u001B[0m724} INFO\u001B[0m - Received unhandled event <RemoteSettingsChanged changed_settings:{ChangedSetting(setting=SettingCodes.MAX_CONCURRENT_STREAMS, original_value=None, new_value=16), ChangedSetting(setting=SettingCodes.INITIAL_WINDOW_SIZE, original_value=65535, new_value=65536), ChangedSetting(setting=SettingCodes._max_frame_size, original_value=16384, new_value=16777215)}>\u001B[0m\n",
      "[\u001B[34m2022-09-01 22:16:11,446\u001B[0m] {\u001B[34mconnection.py:\u001B[0m724} INFO\u001B[0m - Received unhandled event <WindowUpdated stream_id:0, delta:2147418112>\u001B[0m\n",
      "[\u001B[34m2022-09-01 22:16:11,469\u001B[0m] {\u001B[34mconnection.py:\u001B[0m724} INFO\u001B[0m - Received unhandled event <SettingsAcknowledged changed_settings:{ChangedSetting(setting=SettingCodes.ENABLE_PUSH, original_value=1, new_value=0)}>\u001B[0m\n",
      "[\u001B[34m2022-09-01 22:16:11,470\u001B[0m] {\u001B[34mconnection.py:\u001B[0m724} INFO\u001B[0m - Received unhandled event <SettingsAcknowledged changed_settings:{}>\u001B[0m\n",
      "5\n",
      "[\u001B[34m2022-09-01 22:16:21,555\u001B[0m] {\u001B[34mconnection.py:\u001B[0m724} INFO\u001B[0m - Received unhandled event <RemoteSettingsChanged changed_settings:{ChangedSetting(setting=SettingCodes.MAX_CONCURRENT_STREAMS, original_value=None, new_value=16), ChangedSetting(setting=SettingCodes.INITIAL_WINDOW_SIZE, original_value=65535, new_value=65536), ChangedSetting(setting=SettingCodes._max_frame_size, original_value=16384, new_value=16777215)}>\u001B[0m\n",
      "[\u001B[34m2022-09-01 22:16:21,557\u001B[0m] {\u001B[34mconnection.py:\u001B[0m724} INFO\u001B[0m - Received unhandled event <WindowUpdated stream_id:0, delta:2147418112>\u001B[0m\n",
      "[\u001B[34m2022-09-01 22:16:21,576\u001B[0m] {\u001B[34mconnection.py:\u001B[0m724} INFO\u001B[0m - Received unhandled event <SettingsAcknowledged changed_settings:{ChangedSetting(setting=SettingCodes.ENABLE_PUSH, original_value=1, new_value=0)}>\u001B[0m\n",
      "[\u001B[34m2022-09-01 22:16:21,583\u001B[0m] {\u001B[34mconnection.py:\u001B[0m724} INFO\u001B[0m - Received unhandled event <SettingsAcknowledged changed_settings:{}>\u001B[0m\n",
      "6\n",
      "[\u001B[34m2022-09-01 22:16:31,362\u001B[0m] {\u001B[34mconnection.py:\u001B[0m724} INFO\u001B[0m - Received unhandled event <RemoteSettingsChanged changed_settings:{ChangedSetting(setting=SettingCodes.MAX_CONCURRENT_STREAMS, original_value=None, new_value=16), ChangedSetting(setting=SettingCodes.INITIAL_WINDOW_SIZE, original_value=65535, new_value=65536), ChangedSetting(setting=SettingCodes._max_frame_size, original_value=16384, new_value=16777215)}>\u001B[0m\n",
      "[\u001B[34m2022-09-01 22:16:31,363\u001B[0m] {\u001B[34mconnection.py:\u001B[0m724} INFO\u001B[0m - Received unhandled event <WindowUpdated stream_id:0, delta:2147418112>\u001B[0m\n",
      "[\u001B[34m2022-09-01 22:16:31,384\u001B[0m] {\u001B[34mconnection.py:\u001B[0m724} INFO\u001B[0m - Received unhandled event <SettingsAcknowledged changed_settings:{ChangedSetting(setting=SettingCodes.ENABLE_PUSH, original_value=1, new_value=0)}>\u001B[0m\n",
      "[\u001B[34m2022-09-01 22:16:31,386\u001B[0m] {\u001B[34mconnection.py:\u001B[0m724} INFO\u001B[0m - Received unhandled event <SettingsAcknowledged changed_settings:{}>\u001B[0m\n",
      "7\n",
      "[\u001B[34m2022-09-01 22:16:41,304\u001B[0m] {\u001B[34mconnection.py:\u001B[0m724} INFO\u001B[0m - Received unhandled event <RemoteSettingsChanged changed_settings:{ChangedSetting(setting=SettingCodes.MAX_CONCURRENT_STREAMS, original_value=None, new_value=16), ChangedSetting(setting=SettingCodes.INITIAL_WINDOW_SIZE, original_value=65535, new_value=65536), ChangedSetting(setting=SettingCodes._max_frame_size, original_value=16384, new_value=16777215)}>\u001B[0m\n",
      "[\u001B[34m2022-09-01 22:16:41,305\u001B[0m] {\u001B[34mconnection.py:\u001B[0m724} INFO\u001B[0m - Received unhandled event <WindowUpdated stream_id:0, delta:2147418112>\u001B[0m\n",
      "[\u001B[34m2022-09-01 22:16:41,320\u001B[0m] {\u001B[34mconnection.py:\u001B[0m724} INFO\u001B[0m - Received unhandled event <SettingsAcknowledged changed_settings:{ChangedSetting(setting=SettingCodes.ENABLE_PUSH, original_value=1, new_value=0)}>\u001B[0m\n",
      "[\u001B[34m2022-09-01 22:16:41,321\u001B[0m] {\u001B[34mconnection.py:\u001B[0m724} INFO\u001B[0m - Received unhandled event <SettingsAcknowledged changed_settings:{}>\u001B[0m\n",
      "8\n",
      "[\u001B[34m2022-09-01 22:16:50,548\u001B[0m] {\u001B[34mconnection.py:\u001B[0m724} INFO\u001B[0m - Received unhandled event <RemoteSettingsChanged changed_settings:{ChangedSetting(setting=SettingCodes.MAX_CONCURRENT_STREAMS, original_value=None, new_value=16), ChangedSetting(setting=SettingCodes.INITIAL_WINDOW_SIZE, original_value=65535, new_value=65536), ChangedSetting(setting=SettingCodes._max_frame_size, original_value=16384, new_value=16777215)}>\u001B[0m\n",
      "[\u001B[34m2022-09-01 22:16:50,551\u001B[0m] {\u001B[34mconnection.py:\u001B[0m724} INFO\u001B[0m - Received unhandled event <WindowUpdated stream_id:0, delta:2147418112>\u001B[0m\n",
      "[\u001B[34m2022-09-01 22:16:50,568\u001B[0m] {\u001B[34mconnection.py:\u001B[0m724} INFO\u001B[0m - Received unhandled event <SettingsAcknowledged changed_settings:{ChangedSetting(setting=SettingCodes.ENABLE_PUSH, original_value=1, new_value=0)}>\u001B[0m\n",
      "[\u001B[34m2022-09-01 22:16:50,570\u001B[0m] {\u001B[34mconnection.py:\u001B[0m724} INFO\u001B[0m - Received unhandled event <SettingsAcknowledged changed_settings:{}>\u001B[0m\n",
      "9\n",
      "[\u001B[34m2022-09-01 22:17:01,052\u001B[0m] {\u001B[34mconnection.py:\u001B[0m724} INFO\u001B[0m - Received unhandled event <RemoteSettingsChanged changed_settings:{ChangedSetting(setting=SettingCodes.MAX_CONCURRENT_STREAMS, original_value=None, new_value=16), ChangedSetting(setting=SettingCodes.INITIAL_WINDOW_SIZE, original_value=65535, new_value=65536), ChangedSetting(setting=SettingCodes._max_frame_size, original_value=16384, new_value=16777215)}>\u001B[0m\n",
      "[\u001B[34m2022-09-01 22:17:01,053\u001B[0m] {\u001B[34mconnection.py:\u001B[0m724} INFO\u001B[0m - Received unhandled event <WindowUpdated stream_id:0, delta:2147418112>\u001B[0m\n",
      "[\u001B[34m2022-09-01 22:17:01,072\u001B[0m] {\u001B[34mconnection.py:\u001B[0m724} INFO\u001B[0m - Received unhandled event <SettingsAcknowledged changed_settings:{ChangedSetting(setting=SettingCodes.ENABLE_PUSH, original_value=1, new_value=0)}>\u001B[0m\n",
      "[\u001B[34m2022-09-01 22:17:01,073\u001B[0m] {\u001B[34mconnection.py:\u001B[0m724} INFO\u001B[0m - Received unhandled event <SettingsAcknowledged changed_settings:{}>\u001B[0m\n",
      "10\n",
      "[\u001B[34m2022-09-01 22:17:12,328\u001B[0m] {\u001B[34mconnection.py:\u001B[0m724} INFO\u001B[0m - Received unhandled event <RemoteSettingsChanged changed_settings:{ChangedSetting(setting=SettingCodes.MAX_CONCURRENT_STREAMS, original_value=None, new_value=16), ChangedSetting(setting=SettingCodes.INITIAL_WINDOW_SIZE, original_value=65535, new_value=65536), ChangedSetting(setting=SettingCodes._max_frame_size, original_value=16384, new_value=16777215)}>\u001B[0m\n",
      "[\u001B[34m2022-09-01 22:17:12,328\u001B[0m] {\u001B[34mconnection.py:\u001B[0m724} INFO\u001B[0m - Received unhandled event <WindowUpdated stream_id:0, delta:2147418112>\u001B[0m\n",
      "[\u001B[34m2022-09-01 22:17:12,348\u001B[0m] {\u001B[34mconnection.py:\u001B[0m724} INFO\u001B[0m - Received unhandled event <SettingsAcknowledged changed_settings:{ChangedSetting(setting=SettingCodes.ENABLE_PUSH, original_value=1, new_value=0)}>\u001B[0m\n",
      "[\u001B[34m2022-09-01 22:17:12,349\u001B[0m] {\u001B[34mconnection.py:\u001B[0m724} INFO\u001B[0m - Received unhandled event <SettingsAcknowledged changed_settings:{}>\u001B[0m\n",
      "11\n",
      "[\u001B[34m2022-09-01 22:17:23,086\u001B[0m] {\u001B[34mconnection.py:\u001B[0m724} INFO\u001B[0m - Received unhandled event <RemoteSettingsChanged changed_settings:{ChangedSetting(setting=SettingCodes.MAX_CONCURRENT_STREAMS, original_value=None, new_value=16), ChangedSetting(setting=SettingCodes.INITIAL_WINDOW_SIZE, original_value=65535, new_value=65536), ChangedSetting(setting=SettingCodes._max_frame_size, original_value=16384, new_value=16777215)}>\u001B[0m\n",
      "[\u001B[34m2022-09-01 22:17:23,088\u001B[0m] {\u001B[34mconnection.py:\u001B[0m724} INFO\u001B[0m - Received unhandled event <WindowUpdated stream_id:0, delta:2147418112>\u001B[0m\n",
      "[\u001B[34m2022-09-01 22:17:23,103\u001B[0m] {\u001B[34mconnection.py:\u001B[0m724} INFO\u001B[0m - Received unhandled event <SettingsAcknowledged changed_settings:{ChangedSetting(setting=SettingCodes.ENABLE_PUSH, original_value=1, new_value=0)}>\u001B[0m\n",
      "[\u001B[34m2022-09-01 22:17:23,105\u001B[0m] {\u001B[34mconnection.py:\u001B[0m724} INFO\u001B[0m - Received unhandled event <SettingsAcknowledged changed_settings:{}>\u001B[0m\n",
      "12\n",
      "[\u001B[34m2022-09-01 22:17:33,800\u001B[0m] {\u001B[34mconnection.py:\u001B[0m724} INFO\u001B[0m - Received unhandled event <RemoteSettingsChanged changed_settings:{ChangedSetting(setting=SettingCodes.MAX_CONCURRENT_STREAMS, original_value=None, new_value=16), ChangedSetting(setting=SettingCodes.INITIAL_WINDOW_SIZE, original_value=65535, new_value=65536), ChangedSetting(setting=SettingCodes._max_frame_size, original_value=16384, new_value=16777215)}>\u001B[0m\n",
      "[\u001B[34m2022-09-01 22:17:33,802\u001B[0m] {\u001B[34mconnection.py:\u001B[0m724} INFO\u001B[0m - Received unhandled event <WindowUpdated stream_id:0, delta:2147418112>\u001B[0m\n",
      "[\u001B[34m2022-09-01 22:17:33,824\u001B[0m] {\u001B[34mconnection.py:\u001B[0m724} INFO\u001B[0m - Received unhandled event <SettingsAcknowledged changed_settings:{ChangedSetting(setting=SettingCodes.ENABLE_PUSH, original_value=1, new_value=0)}>\u001B[0m\n",
      "[\u001B[34m2022-09-01 22:17:33,826\u001B[0m] {\u001B[34mconnection.py:\u001B[0m724} INFO\u001B[0m - Received unhandled event <SettingsAcknowledged changed_settings:{}>\u001B[0m\n",
      "13\n",
      "[\u001B[34m2022-09-01 22:17:45,537\u001B[0m] {\u001B[34mconnection.py:\u001B[0m724} INFO\u001B[0m - Received unhandled event <RemoteSettingsChanged changed_settings:{ChangedSetting(setting=SettingCodes.MAX_CONCURRENT_STREAMS, original_value=None, new_value=16), ChangedSetting(setting=SettingCodes.INITIAL_WINDOW_SIZE, original_value=65535, new_value=65536), ChangedSetting(setting=SettingCodes._max_frame_size, original_value=16384, new_value=16777215)}>\u001B[0m\n",
      "[\u001B[34m2022-09-01 22:17:45,538\u001B[0m] {\u001B[34mconnection.py:\u001B[0m724} INFO\u001B[0m - Received unhandled event <WindowUpdated stream_id:0, delta:2147418112>\u001B[0m\n",
      "[\u001B[34m2022-09-01 22:17:45,561\u001B[0m] {\u001B[34mconnection.py:\u001B[0m724} INFO\u001B[0m - Received unhandled event <SettingsAcknowledged changed_settings:{ChangedSetting(setting=SettingCodes.ENABLE_PUSH, original_value=1, new_value=0)}>\u001B[0m\n",
      "[\u001B[34m2022-09-01 22:17:45,561\u001B[0m] {\u001B[34mconnection.py:\u001B[0m724} INFO\u001B[0m - Received unhandled event <SettingsAcknowledged changed_settings:{}>\u001B[0m\n",
      "14\n",
      "[\u001B[34m2022-09-01 22:17:59,469\u001B[0m] {\u001B[34mconnection.py:\u001B[0m724} INFO\u001B[0m - Received unhandled event <RemoteSettingsChanged changed_settings:{ChangedSetting(setting=SettingCodes.MAX_CONCURRENT_STREAMS, original_value=None, new_value=16), ChangedSetting(setting=SettingCodes.INITIAL_WINDOW_SIZE, original_value=65535, new_value=65536), ChangedSetting(setting=SettingCodes._max_frame_size, original_value=16384, new_value=16777215)}>\u001B[0m\n",
      "[\u001B[34m2022-09-01 22:17:59,470\u001B[0m] {\u001B[34mconnection.py:\u001B[0m724} INFO\u001B[0m - Received unhandled event <WindowUpdated stream_id:0, delta:2147418112>\u001B[0m\n",
      "[\u001B[34m2022-09-01 22:17:59,489\u001B[0m] {\u001B[34mconnection.py:\u001B[0m724} INFO\u001B[0m - Received unhandled event <SettingsAcknowledged changed_settings:{ChangedSetting(setting=SettingCodes.ENABLE_PUSH, original_value=1, new_value=0)}>\u001B[0m\n",
      "[\u001B[34m2022-09-01 22:17:59,490\u001B[0m] {\u001B[34mconnection.py:\u001B[0m724} INFO\u001B[0m - Received unhandled event <SettingsAcknowledged changed_settings:{}>\u001B[0m\n",
      "15\n",
      "[\u001B[34m2022-09-01 22:18:12,827\u001B[0m] {\u001B[34mconnection.py:\u001B[0m724} INFO\u001B[0m - Received unhandled event <RemoteSettingsChanged changed_settings:{ChangedSetting(setting=SettingCodes.MAX_CONCURRENT_STREAMS, original_value=None, new_value=16), ChangedSetting(setting=SettingCodes.INITIAL_WINDOW_SIZE, original_value=65535, new_value=65536), ChangedSetting(setting=SettingCodes._max_frame_size, original_value=16384, new_value=16777215)}>\u001B[0m\n",
      "[\u001B[34m2022-09-01 22:18:12,829\u001B[0m] {\u001B[34mconnection.py:\u001B[0m724} INFO\u001B[0m - Received unhandled event <WindowUpdated stream_id:0, delta:2147418112>\u001B[0m\n",
      "[\u001B[34m2022-09-01 22:18:12,854\u001B[0m] {\u001B[34mconnection.py:\u001B[0m724} INFO\u001B[0m - Received unhandled event <SettingsAcknowledged changed_settings:{ChangedSetting(setting=SettingCodes.ENABLE_PUSH, original_value=1, new_value=0)}>\u001B[0m\n",
      "[\u001B[34m2022-09-01 22:18:12,855\u001B[0m] {\u001B[34mconnection.py:\u001B[0m724} INFO\u001B[0m - Received unhandled event <SettingsAcknowledged changed_settings:{}>\u001B[0m\n",
      "16\n",
      "[\u001B[34m2022-09-01 22:18:25,109\u001B[0m] {\u001B[34mconnection.py:\u001B[0m724} INFO\u001B[0m - Received unhandled event <RemoteSettingsChanged changed_settings:{ChangedSetting(setting=SettingCodes.MAX_CONCURRENT_STREAMS, original_value=None, new_value=16), ChangedSetting(setting=SettingCodes.INITIAL_WINDOW_SIZE, original_value=65535, new_value=65536), ChangedSetting(setting=SettingCodes._max_frame_size, original_value=16384, new_value=16777215)}>\u001B[0m\n",
      "[\u001B[34m2022-09-01 22:18:25,111\u001B[0m] {\u001B[34mconnection.py:\u001B[0m724} INFO\u001B[0m - Received unhandled event <WindowUpdated stream_id:0, delta:2147418112>\u001B[0m\n",
      "[\u001B[34m2022-09-01 22:18:25,125\u001B[0m] {\u001B[34mconnection.py:\u001B[0m724} INFO\u001B[0m - Received unhandled event <SettingsAcknowledged changed_settings:{ChangedSetting(setting=SettingCodes.ENABLE_PUSH, original_value=1, new_value=0)}>\u001B[0m\n",
      "[\u001B[34m2022-09-01 22:18:25,128\u001B[0m] {\u001B[34mconnection.py:\u001B[0m724} INFO\u001B[0m - Received unhandled event <SettingsAcknowledged changed_settings:{}>\u001B[0m\n",
      "17\n",
      "[\u001B[34m2022-09-01 22:18:37,443\u001B[0m] {\u001B[34mconnection.py:\u001B[0m724} INFO\u001B[0m - Received unhandled event <RemoteSettingsChanged changed_settings:{ChangedSetting(setting=SettingCodes.MAX_CONCURRENT_STREAMS, original_value=None, new_value=16), ChangedSetting(setting=SettingCodes.INITIAL_WINDOW_SIZE, original_value=65535, new_value=65536), ChangedSetting(setting=SettingCodes._max_frame_size, original_value=16384, new_value=16777215)}>\u001B[0m\n",
      "[\u001B[34m2022-09-01 22:18:37,445\u001B[0m] {\u001B[34mconnection.py:\u001B[0m724} INFO\u001B[0m - Received unhandled event <WindowUpdated stream_id:0, delta:2147418112>\u001B[0m\n",
      "[\u001B[34m2022-09-01 22:18:37,459\u001B[0m] {\u001B[34mconnection.py:\u001B[0m724} INFO\u001B[0m - Received unhandled event <SettingsAcknowledged changed_settings:{ChangedSetting(setting=SettingCodes.ENABLE_PUSH, original_value=1, new_value=0)}>\u001B[0m\n",
      "[\u001B[34m2022-09-01 22:18:37,461\u001B[0m] {\u001B[34mconnection.py:\u001B[0m724} INFO\u001B[0m - Received unhandled event <SettingsAcknowledged changed_settings:{}>\u001B[0m\n",
      "18\n",
      "[\u001B[34m2022-09-01 22:18:50,555\u001B[0m] {\u001B[34mconnection.py:\u001B[0m724} INFO\u001B[0m - Received unhandled event <RemoteSettingsChanged changed_settings:{ChangedSetting(setting=SettingCodes.MAX_CONCURRENT_STREAMS, original_value=None, new_value=16), ChangedSetting(setting=SettingCodes.INITIAL_WINDOW_SIZE, original_value=65535, new_value=65536), ChangedSetting(setting=SettingCodes._max_frame_size, original_value=16384, new_value=16777215)}>\u001B[0m\n",
      "[\u001B[34m2022-09-01 22:18:50,557\u001B[0m] {\u001B[34mconnection.py:\u001B[0m724} INFO\u001B[0m - Received unhandled event <WindowUpdated stream_id:0, delta:2147418112>\u001B[0m\n",
      "[\u001B[34m2022-09-01 22:18:50,571\u001B[0m] {\u001B[34mconnection.py:\u001B[0m724} INFO\u001B[0m - Received unhandled event <SettingsAcknowledged changed_settings:{ChangedSetting(setting=SettingCodes.ENABLE_PUSH, original_value=1, new_value=0)}>\u001B[0m\n",
      "[\u001B[34m2022-09-01 22:18:50,573\u001B[0m] {\u001B[34mconnection.py:\u001B[0m724} INFO\u001B[0m - Received unhandled event <SettingsAcknowledged changed_settings:{}>\u001B[0m\n",
      "19\n",
      "[\u001B[34m2022-09-01 22:19:03,144\u001B[0m] {\u001B[34mconnection.py:\u001B[0m724} INFO\u001B[0m - Received unhandled event <RemoteSettingsChanged changed_settings:{ChangedSetting(setting=SettingCodes.MAX_CONCURRENT_STREAMS, original_value=None, new_value=16), ChangedSetting(setting=SettingCodes.INITIAL_WINDOW_SIZE, original_value=65535, new_value=65536), ChangedSetting(setting=SettingCodes._max_frame_size, original_value=16384, new_value=16777215)}>\u001B[0m\n",
      "[\u001B[34m2022-09-01 22:19:03,146\u001B[0m] {\u001B[34mconnection.py:\u001B[0m724} INFO\u001B[0m - Received unhandled event <WindowUpdated stream_id:0, delta:2147418112>\u001B[0m\n",
      "[\u001B[34m2022-09-01 22:19:03,164\u001B[0m] {\u001B[34mconnection.py:\u001B[0m724} INFO\u001B[0m - Received unhandled event <SettingsAcknowledged changed_settings:{ChangedSetting(setting=SettingCodes.ENABLE_PUSH, original_value=1, new_value=0)}>\u001B[0m\n",
      "[\u001B[34m2022-09-01 22:19:03,166\u001B[0m] {\u001B[34mconnection.py:\u001B[0m724} INFO\u001B[0m - Received unhandled event <SettingsAcknowledged changed_settings:{}>\u001B[0m\n",
      "20\n",
      "[\u001B[34m2022-09-01 22:19:17,550\u001B[0m] {\u001B[34mconnection.py:\u001B[0m724} INFO\u001B[0m - Received unhandled event <RemoteSettingsChanged changed_settings:{ChangedSetting(setting=SettingCodes.MAX_CONCURRENT_STREAMS, original_value=None, new_value=16), ChangedSetting(setting=SettingCodes.INITIAL_WINDOW_SIZE, original_value=65535, new_value=65536), ChangedSetting(setting=SettingCodes._max_frame_size, original_value=16384, new_value=16777215)}>\u001B[0m\n",
      "[\u001B[34m2022-09-01 22:19:17,550\u001B[0m] {\u001B[34mconnection.py:\u001B[0m724} INFO\u001B[0m - Received unhandled event <WindowUpdated stream_id:0, delta:2147418112>\u001B[0m\n",
      "[\u001B[34m2022-09-01 22:19:17,566\u001B[0m] {\u001B[34mconnection.py:\u001B[0m724} INFO\u001B[0m - Received unhandled event <SettingsAcknowledged changed_settings:{ChangedSetting(setting=SettingCodes.ENABLE_PUSH, original_value=1, new_value=0)}>\u001B[0m\n",
      "[\u001B[34m2022-09-01 22:19:17,567\u001B[0m] {\u001B[34mconnection.py:\u001B[0m724} INFO\u001B[0m - Received unhandled event <SettingsAcknowledged changed_settings:{}>\u001B[0m\n",
      "21\n",
      "[\u001B[34m2022-09-01 22:19:31,147\u001B[0m] {\u001B[34mconnection.py:\u001B[0m724} INFO\u001B[0m - Received unhandled event <RemoteSettingsChanged changed_settings:{ChangedSetting(setting=SettingCodes.MAX_CONCURRENT_STREAMS, original_value=None, new_value=16), ChangedSetting(setting=SettingCodes.INITIAL_WINDOW_SIZE, original_value=65535, new_value=65536), ChangedSetting(setting=SettingCodes._max_frame_size, original_value=16384, new_value=16777215)}>\u001B[0m\n",
      "[\u001B[34m2022-09-01 22:19:31,148\u001B[0m] {\u001B[34mconnection.py:\u001B[0m724} INFO\u001B[0m - Received unhandled event <WindowUpdated stream_id:0, delta:2147418112>\u001B[0m\n",
      "[\u001B[34m2022-09-01 22:19:31,175\u001B[0m] {\u001B[34mconnection.py:\u001B[0m724} INFO\u001B[0m - Received unhandled event <SettingsAcknowledged changed_settings:{ChangedSetting(setting=SettingCodes.ENABLE_PUSH, original_value=1, new_value=0)}>\u001B[0m\n",
      "[\u001B[34m2022-09-01 22:19:31,176\u001B[0m] {\u001B[34mconnection.py:\u001B[0m724} INFO\u001B[0m - Received unhandled event <SettingsAcknowledged changed_settings:{}>\u001B[0m\n",
      "22\n",
      "[\u001B[34m2022-09-01 22:19:44,290\u001B[0m] {\u001B[34mconnection.py:\u001B[0m724} INFO\u001B[0m - Received unhandled event <RemoteSettingsChanged changed_settings:{ChangedSetting(setting=SettingCodes.MAX_CONCURRENT_STREAMS, original_value=None, new_value=16), ChangedSetting(setting=SettingCodes.INITIAL_WINDOW_SIZE, original_value=65535, new_value=65536), ChangedSetting(setting=SettingCodes._max_frame_size, original_value=16384, new_value=16777215)}>\u001B[0m\n",
      "[\u001B[34m2022-09-01 22:19:44,291\u001B[0m] {\u001B[34mconnection.py:\u001B[0m724} INFO\u001B[0m - Received unhandled event <WindowUpdated stream_id:0, delta:2147418112>\u001B[0m\n",
      "[\u001B[34m2022-09-01 22:19:44,306\u001B[0m] {\u001B[34mconnection.py:\u001B[0m724} INFO\u001B[0m - Received unhandled event <SettingsAcknowledged changed_settings:{ChangedSetting(setting=SettingCodes.ENABLE_PUSH, original_value=1, new_value=0)}>\u001B[0m\n",
      "[\u001B[34m2022-09-01 22:19:44,306\u001B[0m] {\u001B[34mconnection.py:\u001B[0m724} INFO\u001B[0m - Received unhandled event <SettingsAcknowledged changed_settings:{}>\u001B[0m\n",
      "23\n",
      "[\u001B[34m2022-09-01 22:19:53,705\u001B[0m] {\u001B[34mconnection.py:\u001B[0m724} INFO\u001B[0m - Received unhandled event <RemoteSettingsChanged changed_settings:{ChangedSetting(setting=SettingCodes.MAX_CONCURRENT_STREAMS, original_value=None, new_value=16), ChangedSetting(setting=SettingCodes.INITIAL_WINDOW_SIZE, original_value=65535, new_value=65536), ChangedSetting(setting=SettingCodes._max_frame_size, original_value=16384, new_value=16777215)}>\u001B[0m\n",
      "[\u001B[34m2022-09-01 22:19:53,706\u001B[0m] {\u001B[34mconnection.py:\u001B[0m724} INFO\u001B[0m - Received unhandled event <WindowUpdated stream_id:0, delta:2147418112>\u001B[0m\n",
      "[\u001B[34m2022-09-01 22:19:53,723\u001B[0m] {\u001B[34mconnection.py:\u001B[0m724} INFO\u001B[0m - Received unhandled event <SettingsAcknowledged changed_settings:{ChangedSetting(setting=SettingCodes.ENABLE_PUSH, original_value=1, new_value=0)}>\u001B[0m\n",
      "[\u001B[34m2022-09-01 22:19:53,725\u001B[0m] {\u001B[34mconnection.py:\u001B[0m724} INFO\u001B[0m - Received unhandled event <SettingsAcknowledged changed_settings:{}>\u001B[0m\n",
      "24\n",
      "[\u001B[34m2022-09-01 22:20:03,831\u001B[0m] {\u001B[34mconnection.py:\u001B[0m724} INFO\u001B[0m - Received unhandled event <RemoteSettingsChanged changed_settings:{ChangedSetting(setting=SettingCodes.MAX_CONCURRENT_STREAMS, original_value=None, new_value=16), ChangedSetting(setting=SettingCodes.INITIAL_WINDOW_SIZE, original_value=65535, new_value=65536), ChangedSetting(setting=SettingCodes._max_frame_size, original_value=16384, new_value=16777215)}>\u001B[0m\n",
      "[\u001B[34m2022-09-01 22:20:03,833\u001B[0m] {\u001B[34mconnection.py:\u001B[0m724} INFO\u001B[0m - Received unhandled event <WindowUpdated stream_id:0, delta:2147418112>\u001B[0m\n",
      "[\u001B[34m2022-09-01 22:20:03,851\u001B[0m] {\u001B[34mconnection.py:\u001B[0m724} INFO\u001B[0m - Received unhandled event <SettingsAcknowledged changed_settings:{ChangedSetting(setting=SettingCodes.ENABLE_PUSH, original_value=1, new_value=0)}>\u001B[0m\n",
      "[\u001B[34m2022-09-01 22:20:03,853\u001B[0m] {\u001B[34mconnection.py:\u001B[0m724} INFO\u001B[0m - Received unhandled event <SettingsAcknowledged changed_settings:{}>\u001B[0m\n",
      "25\n",
      "[\u001B[34m2022-09-01 22:20:13,683\u001B[0m] {\u001B[34mconnection.py:\u001B[0m724} INFO\u001B[0m - Received unhandled event <RemoteSettingsChanged changed_settings:{ChangedSetting(setting=SettingCodes.MAX_CONCURRENT_STREAMS, original_value=None, new_value=16), ChangedSetting(setting=SettingCodes.INITIAL_WINDOW_SIZE, original_value=65535, new_value=65536), ChangedSetting(setting=SettingCodes._max_frame_size, original_value=16384, new_value=16777215)}>\u001B[0m\n",
      "[\u001B[34m2022-09-01 22:20:13,684\u001B[0m] {\u001B[34mconnection.py:\u001B[0m724} INFO\u001B[0m - Received unhandled event <WindowUpdated stream_id:0, delta:2147418112>\u001B[0m\n",
      "[\u001B[34m2022-09-01 22:20:13,703\u001B[0m] {\u001B[34mconnection.py:\u001B[0m724} INFO\u001B[0m - Received unhandled event <SettingsAcknowledged changed_settings:{ChangedSetting(setting=SettingCodes.ENABLE_PUSH, original_value=1, new_value=0)}>\u001B[0m\n",
      "[\u001B[34m2022-09-01 22:20:13,704\u001B[0m] {\u001B[34mconnection.py:\u001B[0m724} INFO\u001B[0m - Received unhandled event <SettingsAcknowledged changed_settings:{}>\u001B[0m\n",
      "26\n",
      "[\u001B[34m2022-09-01 22:20:23,611\u001B[0m] {\u001B[34mconnection.py:\u001B[0m724} INFO\u001B[0m - Received unhandled event <RemoteSettingsChanged changed_settings:{ChangedSetting(setting=SettingCodes.MAX_CONCURRENT_STREAMS, original_value=None, new_value=16), ChangedSetting(setting=SettingCodes.INITIAL_WINDOW_SIZE, original_value=65535, new_value=65536), ChangedSetting(setting=SettingCodes._max_frame_size, original_value=16384, new_value=16777215)}>\u001B[0m\n",
      "[\u001B[34m2022-09-01 22:20:23,611\u001B[0m] {\u001B[34mconnection.py:\u001B[0m724} INFO\u001B[0m - Received unhandled event <WindowUpdated stream_id:0, delta:2147418112>\u001B[0m\n",
      "[\u001B[34m2022-09-01 22:20:23,631\u001B[0m] {\u001B[34mconnection.py:\u001B[0m724} INFO\u001B[0m - Received unhandled event <SettingsAcknowledged changed_settings:{ChangedSetting(setting=SettingCodes.ENABLE_PUSH, original_value=1, new_value=0)}>\u001B[0m\n",
      "[\u001B[34m2022-09-01 22:20:23,631\u001B[0m] {\u001B[34mconnection.py:\u001B[0m724} INFO\u001B[0m - Received unhandled event <SettingsAcknowledged changed_settings:{}>\u001B[0m\n",
      "27\n",
      "[\u001B[34m2022-09-01 22:20:33,707\u001B[0m] {\u001B[34mconnection.py:\u001B[0m724} INFO\u001B[0m - Received unhandled event <RemoteSettingsChanged changed_settings:{ChangedSetting(setting=SettingCodes.MAX_CONCURRENT_STREAMS, original_value=None, new_value=16), ChangedSetting(setting=SettingCodes.INITIAL_WINDOW_SIZE, original_value=65535, new_value=65536), ChangedSetting(setting=SettingCodes._max_frame_size, original_value=16384, new_value=16777215)}>\u001B[0m\n",
      "[\u001B[34m2022-09-01 22:20:33,708\u001B[0m] {\u001B[34mconnection.py:\u001B[0m724} INFO\u001B[0m - Received unhandled event <WindowUpdated stream_id:0, delta:2147418112>\u001B[0m\n",
      "[\u001B[34m2022-09-01 22:20:33,723\u001B[0m] {\u001B[34mconnection.py:\u001B[0m724} INFO\u001B[0m - Received unhandled event <SettingsAcknowledged changed_settings:{ChangedSetting(setting=SettingCodes.ENABLE_PUSH, original_value=1, new_value=0)}>\u001B[0m\n",
      "[\u001B[34m2022-09-01 22:20:33,724\u001B[0m] {\u001B[34mconnection.py:\u001B[0m724} INFO\u001B[0m - Received unhandled event <SettingsAcknowledged changed_settings:{}>\u001B[0m\n",
      "28\n",
      "[\u001B[34m2022-09-01 22:20:43,508\u001B[0m] {\u001B[34mconnection.py:\u001B[0m724} INFO\u001B[0m - Received unhandled event <RemoteSettingsChanged changed_settings:{ChangedSetting(setting=SettingCodes.MAX_CONCURRENT_STREAMS, original_value=None, new_value=16), ChangedSetting(setting=SettingCodes.INITIAL_WINDOW_SIZE, original_value=65535, new_value=65536), ChangedSetting(setting=SettingCodes._max_frame_size, original_value=16384, new_value=16777215)}>\u001B[0m\n",
      "[\u001B[34m2022-09-01 22:20:43,509\u001B[0m] {\u001B[34mconnection.py:\u001B[0m724} INFO\u001B[0m - Received unhandled event <WindowUpdated stream_id:0, delta:2147418112>\u001B[0m\n",
      "[\u001B[34m2022-09-01 22:20:43,533\u001B[0m] {\u001B[34mconnection.py:\u001B[0m724} INFO\u001B[0m - Received unhandled event <SettingsAcknowledged changed_settings:{ChangedSetting(setting=SettingCodes.ENABLE_PUSH, original_value=1, new_value=0)}>\u001B[0m\n",
      "[\u001B[34m2022-09-01 22:20:43,534\u001B[0m] {\u001B[34mconnection.py:\u001B[0m724} INFO\u001B[0m - Received unhandled event <SettingsAcknowledged changed_settings:{}>\u001B[0m\n",
      "29\n",
      "[\u001B[34m2022-09-01 22:20:54,439\u001B[0m] {\u001B[34mconnection.py:\u001B[0m724} INFO\u001B[0m - Received unhandled event <RemoteSettingsChanged changed_settings:{ChangedSetting(setting=SettingCodes.MAX_CONCURRENT_STREAMS, original_value=None, new_value=16), ChangedSetting(setting=SettingCodes.INITIAL_WINDOW_SIZE, original_value=65535, new_value=65536), ChangedSetting(setting=SettingCodes._max_frame_size, original_value=16384, new_value=16777215)}>\u001B[0m\n",
      "[\u001B[34m2022-09-01 22:20:54,440\u001B[0m] {\u001B[34mconnection.py:\u001B[0m724} INFO\u001B[0m - Received unhandled event <WindowUpdated stream_id:0, delta:2147418112>\u001B[0m\n",
      "[\u001B[34m2022-09-01 22:20:54,478\u001B[0m] {\u001B[34mconnection.py:\u001B[0m724} INFO\u001B[0m - Received unhandled event <SettingsAcknowledged changed_settings:{ChangedSetting(setting=SettingCodes.ENABLE_PUSH, original_value=1, new_value=0)}>\u001B[0m\n",
      "[\u001B[34m2022-09-01 22:20:54,479\u001B[0m] {\u001B[34mconnection.py:\u001B[0m724} INFO\u001B[0m - Received unhandled event <SettingsAcknowledged changed_settings:{}>\u001B[0m\n",
      "30\n",
      "[\u001B[34m2022-09-01 22:21:04,602\u001B[0m] {\u001B[34mconnection.py:\u001B[0m724} INFO\u001B[0m - Received unhandled event <RemoteSettingsChanged changed_settings:{ChangedSetting(setting=SettingCodes.MAX_CONCURRENT_STREAMS, original_value=None, new_value=16), ChangedSetting(setting=SettingCodes.INITIAL_WINDOW_SIZE, original_value=65535, new_value=65536), ChangedSetting(setting=SettingCodes._max_frame_size, original_value=16384, new_value=16777215)}>\u001B[0m\n",
      "[\u001B[34m2022-09-01 22:21:04,603\u001B[0m] {\u001B[34mconnection.py:\u001B[0m724} INFO\u001B[0m - Received unhandled event <WindowUpdated stream_id:0, delta:2147418112>\u001B[0m\n",
      "[\u001B[34m2022-09-01 22:21:04,617\u001B[0m] {\u001B[34mconnection.py:\u001B[0m724} INFO\u001B[0m - Received unhandled event <SettingsAcknowledged changed_settings:{ChangedSetting(setting=SettingCodes.ENABLE_PUSH, original_value=1, new_value=0)}>\u001B[0m\n",
      "[\u001B[34m2022-09-01 22:21:04,618\u001B[0m] {\u001B[34mconnection.py:\u001B[0m724} INFO\u001B[0m - Received unhandled event <SettingsAcknowledged changed_settings:{}>\u001B[0m\n",
      "31\n",
      "[\u001B[34m2022-09-01 22:21:14,075\u001B[0m] {\u001B[34mconnection.py:\u001B[0m724} INFO\u001B[0m - Received unhandled event <RemoteSettingsChanged changed_settings:{ChangedSetting(setting=SettingCodes.MAX_CONCURRENT_STREAMS, original_value=None, new_value=16), ChangedSetting(setting=SettingCodes.INITIAL_WINDOW_SIZE, original_value=65535, new_value=65536), ChangedSetting(setting=SettingCodes._max_frame_size, original_value=16384, new_value=16777215)}>\u001B[0m\n",
      "[\u001B[34m2022-09-01 22:21:14,077\u001B[0m] {\u001B[34mconnection.py:\u001B[0m724} INFO\u001B[0m - Received unhandled event <WindowUpdated stream_id:0, delta:2147418112>\u001B[0m\n",
      "[\u001B[34m2022-09-01 22:21:14,091\u001B[0m] {\u001B[34mconnection.py:\u001B[0m724} INFO\u001B[0m - Received unhandled event <SettingsAcknowledged changed_settings:{ChangedSetting(setting=SettingCodes.ENABLE_PUSH, original_value=1, new_value=0)}>\u001B[0m\n",
      "[\u001B[34m2022-09-01 22:21:14,092\u001B[0m] {\u001B[34mconnection.py:\u001B[0m724} INFO\u001B[0m - Received unhandled event <SettingsAcknowledged changed_settings:{}>\u001B[0m\n",
      "32\n",
      "[\u001B[34m2022-09-01 22:21:23,648\u001B[0m] {\u001B[34mconnection.py:\u001B[0m724} INFO\u001B[0m - Received unhandled event <RemoteSettingsChanged changed_settings:{ChangedSetting(setting=SettingCodes.MAX_CONCURRENT_STREAMS, original_value=None, new_value=16), ChangedSetting(setting=SettingCodes.INITIAL_WINDOW_SIZE, original_value=65535, new_value=65536), ChangedSetting(setting=SettingCodes._max_frame_size, original_value=16384, new_value=16777215)}>\u001B[0m\n",
      "[\u001B[34m2022-09-01 22:21:23,649\u001B[0m] {\u001B[34mconnection.py:\u001B[0m724} INFO\u001B[0m - Received unhandled event <WindowUpdated stream_id:0, delta:2147418112>\u001B[0m\n",
      "[\u001B[34m2022-09-01 22:21:23,668\u001B[0m] {\u001B[34mconnection.py:\u001B[0m724} INFO\u001B[0m - Received unhandled event <SettingsAcknowledged changed_settings:{ChangedSetting(setting=SettingCodes.ENABLE_PUSH, original_value=1, new_value=0)}>\u001B[0m\n",
      "[\u001B[34m2022-09-01 22:21:23,669\u001B[0m] {\u001B[34mconnection.py:\u001B[0m724} INFO\u001B[0m - Received unhandled event <SettingsAcknowledged changed_settings:{}>\u001B[0m\n",
      "33\n",
      "[\u001B[34m2022-09-01 22:21:33,749\u001B[0m] {\u001B[34mconnection.py:\u001B[0m724} INFO\u001B[0m - Received unhandled event <RemoteSettingsChanged changed_settings:{ChangedSetting(setting=SettingCodes.MAX_CONCURRENT_STREAMS, original_value=None, new_value=16), ChangedSetting(setting=SettingCodes.INITIAL_WINDOW_SIZE, original_value=65535, new_value=65536), ChangedSetting(setting=SettingCodes._max_frame_size, original_value=16384, new_value=16777215)}>\u001B[0m\n",
      "[\u001B[34m2022-09-01 22:21:33,750\u001B[0m] {\u001B[34mconnection.py:\u001B[0m724} INFO\u001B[0m - Received unhandled event <WindowUpdated stream_id:0, delta:2147418112>\u001B[0m\n",
      "[\u001B[34m2022-09-01 22:21:33,765\u001B[0m] {\u001B[34mconnection.py:\u001B[0m724} INFO\u001B[0m - Received unhandled event <SettingsAcknowledged changed_settings:{ChangedSetting(setting=SettingCodes.ENABLE_PUSH, original_value=1, new_value=0)}>\u001B[0m\n",
      "[\u001B[34m2022-09-01 22:21:33,766\u001B[0m] {\u001B[34mconnection.py:\u001B[0m724} INFO\u001B[0m - Received unhandled event <SettingsAcknowledged changed_settings:{}>\u001B[0m\n",
      "34\n",
      "[\u001B[34m2022-09-01 22:21:43,546\u001B[0m] {\u001B[34mconnection.py:\u001B[0m724} INFO\u001B[0m - Received unhandled event <RemoteSettingsChanged changed_settings:{ChangedSetting(setting=SettingCodes.MAX_CONCURRENT_STREAMS, original_value=None, new_value=16), ChangedSetting(setting=SettingCodes.INITIAL_WINDOW_SIZE, original_value=65535, new_value=65536), ChangedSetting(setting=SettingCodes._max_frame_size, original_value=16384, new_value=16777215)}>\u001B[0m\n",
      "[\u001B[34m2022-09-01 22:21:43,547\u001B[0m] {\u001B[34mconnection.py:\u001B[0m724} INFO\u001B[0m - Received unhandled event <WindowUpdated stream_id:0, delta:2147418112>\u001B[0m\n",
      "[\u001B[34m2022-09-01 22:21:43,566\u001B[0m] {\u001B[34mconnection.py:\u001B[0m724} INFO\u001B[0m - Received unhandled event <SettingsAcknowledged changed_settings:{ChangedSetting(setting=SettingCodes.ENABLE_PUSH, original_value=1, new_value=0)}>\u001B[0m\n",
      "[\u001B[34m2022-09-01 22:21:43,567\u001B[0m] {\u001B[34mconnection.py:\u001B[0m724} INFO\u001B[0m - Received unhandled event <SettingsAcknowledged changed_settings:{}>\u001B[0m\n",
      "35\n",
      "[\u001B[34m2022-09-01 22:21:53,629\u001B[0m] {\u001B[34mconnection.py:\u001B[0m724} INFO\u001B[0m - Received unhandled event <RemoteSettingsChanged changed_settings:{ChangedSetting(setting=SettingCodes.MAX_CONCURRENT_STREAMS, original_value=None, new_value=16), ChangedSetting(setting=SettingCodes.INITIAL_WINDOW_SIZE, original_value=65535, new_value=65536), ChangedSetting(setting=SettingCodes._max_frame_size, original_value=16384, new_value=16777215)}>\u001B[0m\n",
      "[\u001B[34m2022-09-01 22:21:53,630\u001B[0m] {\u001B[34mconnection.py:\u001B[0m724} INFO\u001B[0m - Received unhandled event <WindowUpdated stream_id:0, delta:2147418112>\u001B[0m\n",
      "[\u001B[34m2022-09-01 22:21:53,649\u001B[0m] {\u001B[34mconnection.py:\u001B[0m724} INFO\u001B[0m - Received unhandled event <SettingsAcknowledged changed_settings:{ChangedSetting(setting=SettingCodes.ENABLE_PUSH, original_value=1, new_value=0)}>\u001B[0m\n",
      "[\u001B[34m2022-09-01 22:21:53,650\u001B[0m] {\u001B[34mconnection.py:\u001B[0m724} INFO\u001B[0m - Received unhandled event <SettingsAcknowledged changed_settings:{}>\u001B[0m\n",
      "36\n",
      "[\u001B[34m2022-09-01 22:22:03,322\u001B[0m] {\u001B[34mconnection.py:\u001B[0m724} INFO\u001B[0m - Received unhandled event <RemoteSettingsChanged changed_settings:{ChangedSetting(setting=SettingCodes.MAX_CONCURRENT_STREAMS, original_value=None, new_value=16), ChangedSetting(setting=SettingCodes.INITIAL_WINDOW_SIZE, original_value=65535, new_value=65536), ChangedSetting(setting=SettingCodes._max_frame_size, original_value=16384, new_value=16777215)}>\u001B[0m\n",
      "[\u001B[34m2022-09-01 22:22:03,324\u001B[0m] {\u001B[34mconnection.py:\u001B[0m724} INFO\u001B[0m - Received unhandled event <WindowUpdated stream_id:0, delta:2147418112>\u001B[0m\n",
      "[\u001B[34m2022-09-01 22:22:03,338\u001B[0m] {\u001B[34mconnection.py:\u001B[0m724} INFO\u001B[0m - Received unhandled event <SettingsAcknowledged changed_settings:{ChangedSetting(setting=SettingCodes.ENABLE_PUSH, original_value=1, new_value=0)}>\u001B[0m\n",
      "[\u001B[34m2022-09-01 22:22:03,340\u001B[0m] {\u001B[34mconnection.py:\u001B[0m724} INFO\u001B[0m - Received unhandled event <SettingsAcknowledged changed_settings:{}>\u001B[0m\n",
      "37\n",
      "[\u001B[34m2022-09-01 22:22:12,645\u001B[0m] {\u001B[34mconnection.py:\u001B[0m724} INFO\u001B[0m - Received unhandled event <RemoteSettingsChanged changed_settings:{ChangedSetting(setting=SettingCodes.MAX_CONCURRENT_STREAMS, original_value=None, new_value=16), ChangedSetting(setting=SettingCodes.INITIAL_WINDOW_SIZE, original_value=65535, new_value=65536), ChangedSetting(setting=SettingCodes._max_frame_size, original_value=16384, new_value=16777215)}>\u001B[0m\n",
      "[\u001B[34m2022-09-01 22:22:12,647\u001B[0m] {\u001B[34mconnection.py:\u001B[0m724} INFO\u001B[0m - Received unhandled event <WindowUpdated stream_id:0, delta:2147418112>\u001B[0m\n",
      "[\u001B[34m2022-09-01 22:22:12,662\u001B[0m] {\u001B[34mconnection.py:\u001B[0m724} INFO\u001B[0m - Received unhandled event <SettingsAcknowledged changed_settings:{ChangedSetting(setting=SettingCodes.ENABLE_PUSH, original_value=1, new_value=0)}>\u001B[0m\n",
      "[\u001B[34m2022-09-01 22:22:12,664\u001B[0m] {\u001B[34mconnection.py:\u001B[0m724} INFO\u001B[0m - Received unhandled event <SettingsAcknowledged changed_settings:{}>\u001B[0m\n",
      "38\n",
      "[\u001B[34m2022-09-01 22:22:22,430\u001B[0m] {\u001B[34mconnection.py:\u001B[0m724} INFO\u001B[0m - Received unhandled event <RemoteSettingsChanged changed_settings:{ChangedSetting(setting=SettingCodes.MAX_CONCURRENT_STREAMS, original_value=None, new_value=16), ChangedSetting(setting=SettingCodes.INITIAL_WINDOW_SIZE, original_value=65535, new_value=65536), ChangedSetting(setting=SettingCodes._max_frame_size, original_value=16384, new_value=16777215)}>\u001B[0m\n",
      "[\u001B[34m2022-09-01 22:22:22,432\u001B[0m] {\u001B[34mconnection.py:\u001B[0m724} INFO\u001B[0m - Received unhandled event <WindowUpdated stream_id:0, delta:2147418112>\u001B[0m\n",
      "[\u001B[34m2022-09-01 22:22:22,450\u001B[0m] {\u001B[34mconnection.py:\u001B[0m724} INFO\u001B[0m - Received unhandled event <SettingsAcknowledged changed_settings:{ChangedSetting(setting=SettingCodes.ENABLE_PUSH, original_value=1, new_value=0)}>\u001B[0m\n",
      "[\u001B[34m2022-09-01 22:22:22,452\u001B[0m] {\u001B[34mconnection.py:\u001B[0m724} INFO\u001B[0m - Received unhandled event <SettingsAcknowledged changed_settings:{}>\u001B[0m\n",
      "39\n",
      "[\u001B[34m2022-09-01 22:22:32,295\u001B[0m] {\u001B[34mconnection.py:\u001B[0m724} INFO\u001B[0m - Received unhandled event <RemoteSettingsChanged changed_settings:{ChangedSetting(setting=SettingCodes.MAX_CONCURRENT_STREAMS, original_value=None, new_value=16), ChangedSetting(setting=SettingCodes.INITIAL_WINDOW_SIZE, original_value=65535, new_value=65536), ChangedSetting(setting=SettingCodes._max_frame_size, original_value=16384, new_value=16777215)}>\u001B[0m\n",
      "[\u001B[34m2022-09-01 22:22:32,296\u001B[0m] {\u001B[34mconnection.py:\u001B[0m724} INFO\u001B[0m - Received unhandled event <WindowUpdated stream_id:0, delta:2147418112>\u001B[0m\n",
      "[\u001B[34m2022-09-01 22:22:32,315\u001B[0m] {\u001B[34mconnection.py:\u001B[0m724} INFO\u001B[0m - Received unhandled event <SettingsAcknowledged changed_settings:{ChangedSetting(setting=SettingCodes.ENABLE_PUSH, original_value=1, new_value=0)}>\u001B[0m\n",
      "[\u001B[34m2022-09-01 22:22:32,316\u001B[0m] {\u001B[34mconnection.py:\u001B[0m724} INFO\u001B[0m - Received unhandled event <SettingsAcknowledged changed_settings:{}>\u001B[0m\n",
      "40\n",
      "[\u001B[34m2022-09-01 22:22:42,456\u001B[0m] {\u001B[34mconnection.py:\u001B[0m724} INFO\u001B[0m - Received unhandled event <RemoteSettingsChanged changed_settings:{ChangedSetting(setting=SettingCodes.MAX_CONCURRENT_STREAMS, original_value=None, new_value=16), ChangedSetting(setting=SettingCodes.INITIAL_WINDOW_SIZE, original_value=65535, new_value=65536), ChangedSetting(setting=SettingCodes._max_frame_size, original_value=16384, new_value=16777215)}>\u001B[0m\n",
      "[\u001B[34m2022-09-01 22:22:42,458\u001B[0m] {\u001B[34mconnection.py:\u001B[0m724} INFO\u001B[0m - Received unhandled event <WindowUpdated stream_id:0, delta:2147418112>\u001B[0m\n",
      "[\u001B[34m2022-09-01 22:22:42,481\u001B[0m] {\u001B[34mconnection.py:\u001B[0m724} INFO\u001B[0m - Received unhandled event <SettingsAcknowledged changed_settings:{ChangedSetting(setting=SettingCodes.ENABLE_PUSH, original_value=1, new_value=0)}>\u001B[0m\n",
      "[\u001B[34m2022-09-01 22:22:42,483\u001B[0m] {\u001B[34mconnection.py:\u001B[0m724} INFO\u001B[0m - Received unhandled event <SettingsAcknowledged changed_settings:{}>\u001B[0m\n",
      "41\n",
      "[\u001B[34m2022-09-01 22:22:52,843\u001B[0m] {\u001B[34mconnection.py:\u001B[0m724} INFO\u001B[0m - Received unhandled event <RemoteSettingsChanged changed_settings:{ChangedSetting(setting=SettingCodes.MAX_CONCURRENT_STREAMS, original_value=None, new_value=16), ChangedSetting(setting=SettingCodes.INITIAL_WINDOW_SIZE, original_value=65535, new_value=65536), ChangedSetting(setting=SettingCodes._max_frame_size, original_value=16384, new_value=16777215)}>\u001B[0m\n",
      "[\u001B[34m2022-09-01 22:22:52,844\u001B[0m] {\u001B[34mconnection.py:\u001B[0m724} INFO\u001B[0m - Received unhandled event <WindowUpdated stream_id:0, delta:2147418112>\u001B[0m\n",
      "[\u001B[34m2022-09-01 22:22:52,863\u001B[0m] {\u001B[34mconnection.py:\u001B[0m724} INFO\u001B[0m - Received unhandled event <SettingsAcknowledged changed_settings:{ChangedSetting(setting=SettingCodes.ENABLE_PUSH, original_value=1, new_value=0)}>\u001B[0m\n",
      "[\u001B[34m2022-09-01 22:22:52,863\u001B[0m] {\u001B[34mconnection.py:\u001B[0m724} INFO\u001B[0m - Received unhandled event <SettingsAcknowledged changed_settings:{}>\u001B[0m\n",
      "42\n",
      "[\u001B[34m2022-09-01 22:23:02,218\u001B[0m] {\u001B[34mconnection.py:\u001B[0m724} INFO\u001B[0m - Received unhandled event <RemoteSettingsChanged changed_settings:{ChangedSetting(setting=SettingCodes.MAX_CONCURRENT_STREAMS, original_value=None, new_value=16), ChangedSetting(setting=SettingCodes.INITIAL_WINDOW_SIZE, original_value=65535, new_value=65536), ChangedSetting(setting=SettingCodes._max_frame_size, original_value=16384, new_value=16777215)}>\u001B[0m\n",
      "[\u001B[34m2022-09-01 22:23:02,220\u001B[0m] {\u001B[34mconnection.py:\u001B[0m724} INFO\u001B[0m - Received unhandled event <WindowUpdated stream_id:0, delta:2147418112>\u001B[0m\n",
      "[\u001B[34m2022-09-01 22:23:02,239\u001B[0m] {\u001B[34mconnection.py:\u001B[0m724} INFO\u001B[0m - Received unhandled event <SettingsAcknowledged changed_settings:{ChangedSetting(setting=SettingCodes.ENABLE_PUSH, original_value=1, new_value=0)}>\u001B[0m\n",
      "[\u001B[34m2022-09-01 22:23:02,240\u001B[0m] {\u001B[34mconnection.py:\u001B[0m724} INFO\u001B[0m - Received unhandled event <SettingsAcknowledged changed_settings:{}>\u001B[0m\n",
      "43\n",
      "[\u001B[34m2022-09-01 22:23:12,164\u001B[0m] {\u001B[34mconnection.py:\u001B[0m724} INFO\u001B[0m - Received unhandled event <RemoteSettingsChanged changed_settings:{ChangedSetting(setting=SettingCodes.MAX_CONCURRENT_STREAMS, original_value=None, new_value=16), ChangedSetting(setting=SettingCodes.INITIAL_WINDOW_SIZE, original_value=65535, new_value=65536), ChangedSetting(setting=SettingCodes._max_frame_size, original_value=16384, new_value=16777215)}>\u001B[0m\n",
      "[\u001B[34m2022-09-01 22:23:12,165\u001B[0m] {\u001B[34mconnection.py:\u001B[0m724} INFO\u001B[0m - Received unhandled event <WindowUpdated stream_id:0, delta:2147418112>\u001B[0m\n",
      "[\u001B[34m2022-09-01 22:23:12,190\u001B[0m] {\u001B[34mconnection.py:\u001B[0m724} INFO\u001B[0m - Received unhandled event <SettingsAcknowledged changed_settings:{ChangedSetting(setting=SettingCodes.ENABLE_PUSH, original_value=1, new_value=0)}>\u001B[0m\n",
      "[\u001B[34m2022-09-01 22:23:12,191\u001B[0m] {\u001B[34mconnection.py:\u001B[0m724} INFO\u001B[0m - Received unhandled event <SettingsAcknowledged changed_settings:{}>\u001B[0m\n",
      "44\n",
      "[\u001B[34m2022-09-01 22:23:22,081\u001B[0m] {\u001B[34mconnection.py:\u001B[0m724} INFO\u001B[0m - Received unhandled event <RemoteSettingsChanged changed_settings:{ChangedSetting(setting=SettingCodes.MAX_CONCURRENT_STREAMS, original_value=None, new_value=16), ChangedSetting(setting=SettingCodes.INITIAL_WINDOW_SIZE, original_value=65535, new_value=65536), ChangedSetting(setting=SettingCodes._max_frame_size, original_value=16384, new_value=16777215)}>\u001B[0m\n",
      "[\u001B[34m2022-09-01 22:23:22,081\u001B[0m] {\u001B[34mconnection.py:\u001B[0m724} INFO\u001B[0m - Received unhandled event <WindowUpdated stream_id:0, delta:2147418112>\u001B[0m\n",
      "[\u001B[34m2022-09-01 22:23:22,101\u001B[0m] {\u001B[34mconnection.py:\u001B[0m724} INFO\u001B[0m - Received unhandled event <SettingsAcknowledged changed_settings:{ChangedSetting(setting=SettingCodes.ENABLE_PUSH, original_value=1, new_value=0)}>\u001B[0m\n",
      "[\u001B[34m2022-09-01 22:23:22,103\u001B[0m] {\u001B[34mconnection.py:\u001B[0m724} INFO\u001B[0m - Received unhandled event <SettingsAcknowledged changed_settings:{}>\u001B[0m\n",
      "45\n",
      "[\u001B[34m2022-09-01 22:23:32,314\u001B[0m] {\u001B[34mconnection.py:\u001B[0m724} INFO\u001B[0m - Received unhandled event <RemoteSettingsChanged changed_settings:{ChangedSetting(setting=SettingCodes.MAX_CONCURRENT_STREAMS, original_value=None, new_value=16), ChangedSetting(setting=SettingCodes.INITIAL_WINDOW_SIZE, original_value=65535, new_value=65536), ChangedSetting(setting=SettingCodes._max_frame_size, original_value=16384, new_value=16777215)}>\u001B[0m\n",
      "[\u001B[34m2022-09-01 22:23:32,315\u001B[0m] {\u001B[34mconnection.py:\u001B[0m724} INFO\u001B[0m - Received unhandled event <WindowUpdated stream_id:0, delta:2147418112>\u001B[0m\n",
      "[\u001B[34m2022-09-01 22:23:32,339\u001B[0m] {\u001B[34mconnection.py:\u001B[0m724} INFO\u001B[0m - Received unhandled event <SettingsAcknowledged changed_settings:{ChangedSetting(setting=SettingCodes.ENABLE_PUSH, original_value=1, new_value=0)}>\u001B[0m\n",
      "[\u001B[34m2022-09-01 22:23:32,340\u001B[0m] {\u001B[34mconnection.py:\u001B[0m724} INFO\u001B[0m - Received unhandled event <SettingsAcknowledged changed_settings:{}>\u001B[0m\n",
      "46\n",
      "[\u001B[34m2022-09-01 22:23:42,610\u001B[0m] {\u001B[34mconnection.py:\u001B[0m724} INFO\u001B[0m - Received unhandled event <RemoteSettingsChanged changed_settings:{ChangedSetting(setting=SettingCodes.MAX_CONCURRENT_STREAMS, original_value=None, new_value=16), ChangedSetting(setting=SettingCodes.INITIAL_WINDOW_SIZE, original_value=65535, new_value=65536), ChangedSetting(setting=SettingCodes._max_frame_size, original_value=16384, new_value=16777215)}>\u001B[0m\n",
      "[\u001B[34m2022-09-01 22:23:42,612\u001B[0m] {\u001B[34mconnection.py:\u001B[0m724} INFO\u001B[0m - Received unhandled event <WindowUpdated stream_id:0, delta:2147418112>\u001B[0m\n",
      "[\u001B[34m2022-09-01 22:23:42,631\u001B[0m] {\u001B[34mconnection.py:\u001B[0m724} INFO\u001B[0m - Received unhandled event <SettingsAcknowledged changed_settings:{ChangedSetting(setting=SettingCodes.ENABLE_PUSH, original_value=1, new_value=0)}>\u001B[0m\n",
      "[\u001B[34m2022-09-01 22:23:42,633\u001B[0m] {\u001B[34mconnection.py:\u001B[0m724} INFO\u001B[0m - Received unhandled event <SettingsAcknowledged changed_settings:{}>\u001B[0m\n",
      "47\n",
      "[\u001B[34m2022-09-01 22:23:52,672\u001B[0m] {\u001B[34mconnection.py:\u001B[0m724} INFO\u001B[0m - Received unhandled event <RemoteSettingsChanged changed_settings:{ChangedSetting(setting=SettingCodes.MAX_CONCURRENT_STREAMS, original_value=None, new_value=16), ChangedSetting(setting=SettingCodes.INITIAL_WINDOW_SIZE, original_value=65535, new_value=65536), ChangedSetting(setting=SettingCodes._max_frame_size, original_value=16384, new_value=16777215)}>\u001B[0m\n",
      "[\u001B[34m2022-09-01 22:23:52,674\u001B[0m] {\u001B[34mconnection.py:\u001B[0m724} INFO\u001B[0m - Received unhandled event <WindowUpdated stream_id:0, delta:2147418112>\u001B[0m\n",
      "[\u001B[34m2022-09-01 22:23:52,692\u001B[0m] {\u001B[34mconnection.py:\u001B[0m724} INFO\u001B[0m - Received unhandled event <SettingsAcknowledged changed_settings:{ChangedSetting(setting=SettingCodes.ENABLE_PUSH, original_value=1, new_value=0)}>\u001B[0m\n",
      "[\u001B[34m2022-09-01 22:23:52,695\u001B[0m] {\u001B[34mconnection.py:\u001B[0m724} INFO\u001B[0m - Received unhandled event <SettingsAcknowledged changed_settings:{}>\u001B[0m\n",
      "48\n",
      "[\u001B[34m2022-09-01 22:24:03,632\u001B[0m] {\u001B[34mconnection.py:\u001B[0m724} INFO\u001B[0m - Received unhandled event <RemoteSettingsChanged changed_settings:{ChangedSetting(setting=SettingCodes.MAX_CONCURRENT_STREAMS, original_value=None, new_value=16), ChangedSetting(setting=SettingCodes.INITIAL_WINDOW_SIZE, original_value=65535, new_value=65536), ChangedSetting(setting=SettingCodes._max_frame_size, original_value=16384, new_value=16777215)}>\u001B[0m\n",
      "[\u001B[34m2022-09-01 22:24:03,633\u001B[0m] {\u001B[34mconnection.py:\u001B[0m724} INFO\u001B[0m - Received unhandled event <WindowUpdated stream_id:0, delta:2147418112>\u001B[0m\n",
      "[\u001B[34m2022-09-01 22:24:03,653\u001B[0m] {\u001B[34mconnection.py:\u001B[0m724} INFO\u001B[0m - Received unhandled event <SettingsAcknowledged changed_settings:{ChangedSetting(setting=SettingCodes.ENABLE_PUSH, original_value=1, new_value=0)}>\u001B[0m\n",
      "[\u001B[34m2022-09-01 22:24:03,653\u001B[0m] {\u001B[34mconnection.py:\u001B[0m724} INFO\u001B[0m - Received unhandled event <SettingsAcknowledged changed_settings:{}>\u001B[0m\n",
      "49\n",
      "[\u001B[34m2022-09-01 22:24:13,192\u001B[0m] {\u001B[34mconnection.py:\u001B[0m724} INFO\u001B[0m - Received unhandled event <RemoteSettingsChanged changed_settings:{ChangedSetting(setting=SettingCodes.MAX_CONCURRENT_STREAMS, original_value=None, new_value=16), ChangedSetting(setting=SettingCodes.INITIAL_WINDOW_SIZE, original_value=65535, new_value=65536), ChangedSetting(setting=SettingCodes._max_frame_size, original_value=16384, new_value=16777215)}>\u001B[0m\n",
      "[\u001B[34m2022-09-01 22:24:13,192\u001B[0m] {\u001B[34mconnection.py:\u001B[0m724} INFO\u001B[0m - Received unhandled event <WindowUpdated stream_id:0, delta:2147418112>\u001B[0m\n",
      "[\u001B[34m2022-09-01 22:24:13,217\u001B[0m] {\u001B[34mconnection.py:\u001B[0m724} INFO\u001B[0m - Received unhandled event <SettingsAcknowledged changed_settings:{ChangedSetting(setting=SettingCodes.ENABLE_PUSH, original_value=1, new_value=0)}>\u001B[0m\n",
      "[\u001B[34m2022-09-01 22:24:13,218\u001B[0m] {\u001B[34mconnection.py:\u001B[0m724} INFO\u001B[0m - Received unhandled event <SettingsAcknowledged changed_settings:{}>\u001B[0m\n",
      "50\n",
      "[\u001B[34m2022-09-01 22:24:23,280\u001B[0m] {\u001B[34mconnection.py:\u001B[0m724} INFO\u001B[0m - Received unhandled event <RemoteSettingsChanged changed_settings:{ChangedSetting(setting=SettingCodes.MAX_CONCURRENT_STREAMS, original_value=None, new_value=16), ChangedSetting(setting=SettingCodes.INITIAL_WINDOW_SIZE, original_value=65535, new_value=65536), ChangedSetting(setting=SettingCodes._max_frame_size, original_value=16384, new_value=16777215)}>\u001B[0m\n",
      "[\u001B[34m2022-09-01 22:24:23,282\u001B[0m] {\u001B[34mconnection.py:\u001B[0m724} INFO\u001B[0m - Received unhandled event <WindowUpdated stream_id:0, delta:2147418112>\u001B[0m\n",
      "[\u001B[34m2022-09-01 22:24:23,300\u001B[0m] {\u001B[34mconnection.py:\u001B[0m724} INFO\u001B[0m - Received unhandled event <SettingsAcknowledged changed_settings:{ChangedSetting(setting=SettingCodes.ENABLE_PUSH, original_value=1, new_value=0)}>\u001B[0m\n",
      "[\u001B[34m2022-09-01 22:24:23,303\u001B[0m] {\u001B[34mconnection.py:\u001B[0m724} INFO\u001B[0m - Received unhandled event <SettingsAcknowledged changed_settings:{}>\u001B[0m\n",
      "51\n",
      "[\u001B[34m2022-09-01 22:24:34,080\u001B[0m] {\u001B[34mconnection.py:\u001B[0m724} INFO\u001B[0m - Received unhandled event <RemoteSettingsChanged changed_settings:{ChangedSetting(setting=SettingCodes.MAX_CONCURRENT_STREAMS, original_value=None, new_value=16), ChangedSetting(setting=SettingCodes.INITIAL_WINDOW_SIZE, original_value=65535, new_value=65536), ChangedSetting(setting=SettingCodes._max_frame_size, original_value=16384, new_value=16777215)}>\u001B[0m\n",
      "[\u001B[34m2022-09-01 22:24:34,080\u001B[0m] {\u001B[34mconnection.py:\u001B[0m724} INFO\u001B[0m - Received unhandled event <WindowUpdated stream_id:0, delta:2147418112>\u001B[0m\n",
      "[\u001B[34m2022-09-01 22:24:34,101\u001B[0m] {\u001B[34mconnection.py:\u001B[0m724} INFO\u001B[0m - Received unhandled event <SettingsAcknowledged changed_settings:{ChangedSetting(setting=SettingCodes.ENABLE_PUSH, original_value=1, new_value=0)}>\u001B[0m\n",
      "[\u001B[34m2022-09-01 22:24:34,102\u001B[0m] {\u001B[34mconnection.py:\u001B[0m724} INFO\u001B[0m - Received unhandled event <SettingsAcknowledged changed_settings:{}>\u001B[0m\n",
      "52\n",
      "[\u001B[34m2022-09-01 22:24:44,156\u001B[0m] {\u001B[34mconnection.py:\u001B[0m724} INFO\u001B[0m - Received unhandled event <RemoteSettingsChanged changed_settings:{ChangedSetting(setting=SettingCodes.MAX_CONCURRENT_STREAMS, original_value=None, new_value=16), ChangedSetting(setting=SettingCodes.INITIAL_WINDOW_SIZE, original_value=65535, new_value=65536), ChangedSetting(setting=SettingCodes._max_frame_size, original_value=16384, new_value=16777215)}>\u001B[0m\n",
      "[\u001B[34m2022-09-01 22:24:44,158\u001B[0m] {\u001B[34mconnection.py:\u001B[0m724} INFO\u001B[0m - Received unhandled event <WindowUpdated stream_id:0, delta:2147418112>\u001B[0m\n",
      "[\u001B[34m2022-09-01 22:24:44,176\u001B[0m] {\u001B[34mconnection.py:\u001B[0m724} INFO\u001B[0m - Received unhandled event <SettingsAcknowledged changed_settings:{ChangedSetting(setting=SettingCodes.ENABLE_PUSH, original_value=1, new_value=0)}>\u001B[0m\n",
      "[\u001B[34m2022-09-01 22:24:44,178\u001B[0m] {\u001B[34mconnection.py:\u001B[0m724} INFO\u001B[0m - Received unhandled event <SettingsAcknowledged changed_settings:{}>\u001B[0m\n",
      "53\n",
      "[\u001B[34m2022-09-01 22:24:54,069\u001B[0m] {\u001B[34mconnection.py:\u001B[0m724} INFO\u001B[0m - Received unhandled event <RemoteSettingsChanged changed_settings:{ChangedSetting(setting=SettingCodes.MAX_CONCURRENT_STREAMS, original_value=None, new_value=16), ChangedSetting(setting=SettingCodes.INITIAL_WINDOW_SIZE, original_value=65535, new_value=65536), ChangedSetting(setting=SettingCodes._max_frame_size, original_value=16384, new_value=16777215)}>\u001B[0m\n",
      "[\u001B[34m2022-09-01 22:24:54,071\u001B[0m] {\u001B[34mconnection.py:\u001B[0m724} INFO\u001B[0m - Received unhandled event <WindowUpdated stream_id:0, delta:2147418112>\u001B[0m\n",
      "[\u001B[34m2022-09-01 22:24:54,085\u001B[0m] {\u001B[34mconnection.py:\u001B[0m724} INFO\u001B[0m - Received unhandled event <SettingsAcknowledged changed_settings:{ChangedSetting(setting=SettingCodes.ENABLE_PUSH, original_value=1, new_value=0)}>\u001B[0m\n",
      "[\u001B[34m2022-09-01 22:24:54,087\u001B[0m] {\u001B[34mconnection.py:\u001B[0m724} INFO\u001B[0m - Received unhandled event <SettingsAcknowledged changed_settings:{}>\u001B[0m\n",
      "54\n",
      "[\u001B[34m2022-09-01 22:25:04,637\u001B[0m] {\u001B[34mconnection.py:\u001B[0m724} INFO\u001B[0m - Received unhandled event <RemoteSettingsChanged changed_settings:{ChangedSetting(setting=SettingCodes.MAX_CONCURRENT_STREAMS, original_value=None, new_value=16), ChangedSetting(setting=SettingCodes.INITIAL_WINDOW_SIZE, original_value=65535, new_value=65536), ChangedSetting(setting=SettingCodes._max_frame_size, original_value=16384, new_value=16777215)}>\u001B[0m\n",
      "[\u001B[34m2022-09-01 22:25:04,638\u001B[0m] {\u001B[34mconnection.py:\u001B[0m724} INFO\u001B[0m - Received unhandled event <WindowUpdated stream_id:0, delta:2147418112>\u001B[0m\n",
      "[\u001B[34m2022-09-01 22:25:04,652\u001B[0m] {\u001B[34mconnection.py:\u001B[0m724} INFO\u001B[0m - Received unhandled event <SettingsAcknowledged changed_settings:{ChangedSetting(setting=SettingCodes.ENABLE_PUSH, original_value=1, new_value=0)}>\u001B[0m\n",
      "[\u001B[34m2022-09-01 22:25:04,654\u001B[0m] {\u001B[34mconnection.py:\u001B[0m724} INFO\u001B[0m - Received unhandled event <SettingsAcknowledged changed_settings:{}>\u001B[0m\n",
      "55\n",
      "[\u001B[34m2022-09-01 22:25:14,810\u001B[0m] {\u001B[34mconnection.py:\u001B[0m724} INFO\u001B[0m - Received unhandled event <RemoteSettingsChanged changed_settings:{ChangedSetting(setting=SettingCodes.MAX_CONCURRENT_STREAMS, original_value=None, new_value=16), ChangedSetting(setting=SettingCodes.INITIAL_WINDOW_SIZE, original_value=65535, new_value=65536), ChangedSetting(setting=SettingCodes._max_frame_size, original_value=16384, new_value=16777215)}>\u001B[0m\n",
      "[\u001B[34m2022-09-01 22:25:14,812\u001B[0m] {\u001B[34mconnection.py:\u001B[0m724} INFO\u001B[0m - Received unhandled event <WindowUpdated stream_id:0, delta:2147418112>\u001B[0m\n",
      "[\u001B[34m2022-09-01 22:25:14,826\u001B[0m] {\u001B[34mconnection.py:\u001B[0m724} INFO\u001B[0m - Received unhandled event <SettingsAcknowledged changed_settings:{ChangedSetting(setting=SettingCodes.ENABLE_PUSH, original_value=1, new_value=0)}>\u001B[0m\n",
      "[\u001B[34m2022-09-01 22:25:14,829\u001B[0m] {\u001B[34mconnection.py:\u001B[0m724} INFO\u001B[0m - Received unhandled event <SettingsAcknowledged changed_settings:{}>\u001B[0m\n",
      "56\n",
      "[\u001B[34m2022-09-01 22:25:24,896\u001B[0m] {\u001B[34mconnection.py:\u001B[0m724} INFO\u001B[0m - Received unhandled event <RemoteSettingsChanged changed_settings:{ChangedSetting(setting=SettingCodes.MAX_CONCURRENT_STREAMS, original_value=None, new_value=16), ChangedSetting(setting=SettingCodes.INITIAL_WINDOW_SIZE, original_value=65535, new_value=65536), ChangedSetting(setting=SettingCodes._max_frame_size, original_value=16384, new_value=16777215)}>\u001B[0m\n",
      "[\u001B[34m2022-09-01 22:25:24,897\u001B[0m] {\u001B[34mconnection.py:\u001B[0m724} INFO\u001B[0m - Received unhandled event <WindowUpdated stream_id:0, delta:2147418112>\u001B[0m\n",
      "[\u001B[34m2022-09-01 22:25:24,916\u001B[0m] {\u001B[34mconnection.py:\u001B[0m724} INFO\u001B[0m - Received unhandled event <SettingsAcknowledged changed_settings:{ChangedSetting(setting=SettingCodes.ENABLE_PUSH, original_value=1, new_value=0)}>\u001B[0m\n",
      "[\u001B[34m2022-09-01 22:25:24,917\u001B[0m] {\u001B[34mconnection.py:\u001B[0m724} INFO\u001B[0m - Received unhandled event <SettingsAcknowledged changed_settings:{}>\u001B[0m\n",
      "57\n",
      "[\u001B[34m2022-09-01 22:25:35,114\u001B[0m] {\u001B[34mconnection.py:\u001B[0m724} INFO\u001B[0m - Received unhandled event <RemoteSettingsChanged changed_settings:{ChangedSetting(setting=SettingCodes.MAX_CONCURRENT_STREAMS, original_value=None, new_value=16), ChangedSetting(setting=SettingCodes.INITIAL_WINDOW_SIZE, original_value=65535, new_value=65536), ChangedSetting(setting=SettingCodes._max_frame_size, original_value=16384, new_value=16777215)}>\u001B[0m\n",
      "[\u001B[34m2022-09-01 22:25:35,115\u001B[0m] {\u001B[34mconnection.py:\u001B[0m724} INFO\u001B[0m - Received unhandled event <WindowUpdated stream_id:0, delta:2147418112>\u001B[0m\n",
      "[\u001B[34m2022-09-01 22:25:35,139\u001B[0m] {\u001B[34mconnection.py:\u001B[0m724} INFO\u001B[0m - Received unhandled event <SettingsAcknowledged changed_settings:{ChangedSetting(setting=SettingCodes.ENABLE_PUSH, original_value=1, new_value=0)}>\u001B[0m\n",
      "[\u001B[34m2022-09-01 22:25:35,143\u001B[0m] {\u001B[34mconnection.py:\u001B[0m724} INFO\u001B[0m - Received unhandled event <SettingsAcknowledged changed_settings:{}>\u001B[0m\n",
      "58\n",
      "[\u001B[34m2022-09-01 22:25:45,451\u001B[0m] {\u001B[34mconnection.py:\u001B[0m724} INFO\u001B[0m - Received unhandled event <RemoteSettingsChanged changed_settings:{ChangedSetting(setting=SettingCodes.MAX_CONCURRENT_STREAMS, original_value=None, new_value=16), ChangedSetting(setting=SettingCodes.INITIAL_WINDOW_SIZE, original_value=65535, new_value=65536), ChangedSetting(setting=SettingCodes._max_frame_size, original_value=16384, new_value=16777215)}>\u001B[0m\n",
      "[\u001B[34m2022-09-01 22:25:45,454\u001B[0m] {\u001B[34mconnection.py:\u001B[0m724} INFO\u001B[0m - Received unhandled event <WindowUpdated stream_id:0, delta:2147418112>\u001B[0m\n",
      "[\u001B[34m2022-09-01 22:25:45,471\u001B[0m] {\u001B[34mconnection.py:\u001B[0m724} INFO\u001B[0m - Received unhandled event <SettingsAcknowledged changed_settings:{ChangedSetting(setting=SettingCodes.ENABLE_PUSH, original_value=1, new_value=0)}>\u001B[0m\n",
      "[\u001B[34m2022-09-01 22:25:45,473\u001B[0m] {\u001B[34mconnection.py:\u001B[0m724} INFO\u001B[0m - Received unhandled event <SettingsAcknowledged changed_settings:{}>\u001B[0m\n",
      "59\n",
      "[\u001B[34m2022-09-01 22:25:56,210\u001B[0m] {\u001B[34mconnection.py:\u001B[0m724} INFO\u001B[0m - Received unhandled event <RemoteSettingsChanged changed_settings:{ChangedSetting(setting=SettingCodes.MAX_CONCURRENT_STREAMS, original_value=None, new_value=16), ChangedSetting(setting=SettingCodes.INITIAL_WINDOW_SIZE, original_value=65535, new_value=65536), ChangedSetting(setting=SettingCodes._max_frame_size, original_value=16384, new_value=16777215)}>\u001B[0m\n",
      "[\u001B[34m2022-09-01 22:25:56,211\u001B[0m] {\u001B[34mconnection.py:\u001B[0m724} INFO\u001B[0m - Received unhandled event <WindowUpdated stream_id:0, delta:2147418112>\u001B[0m\n",
      "[\u001B[34m2022-09-01 22:25:56,226\u001B[0m] {\u001B[34mconnection.py:\u001B[0m724} INFO\u001B[0m - Received unhandled event <SettingsAcknowledged changed_settings:{ChangedSetting(setting=SettingCodes.ENABLE_PUSH, original_value=1, new_value=0)}>\u001B[0m\n",
      "[\u001B[34m2022-09-01 22:25:56,227\u001B[0m] {\u001B[34mconnection.py:\u001B[0m724} INFO\u001B[0m - Received unhandled event <SettingsAcknowledged changed_settings:{}>\u001B[0m\n",
      "60\n",
      "[\u001B[34m2022-09-01 22:26:06,171\u001B[0m] {\u001B[34mconnection.py:\u001B[0m724} INFO\u001B[0m - Received unhandled event <RemoteSettingsChanged changed_settings:{ChangedSetting(setting=SettingCodes.MAX_CONCURRENT_STREAMS, original_value=None, new_value=16), ChangedSetting(setting=SettingCodes.INITIAL_WINDOW_SIZE, original_value=65535, new_value=65536), ChangedSetting(setting=SettingCodes._max_frame_size, original_value=16384, new_value=16777215)}>\u001B[0m\n",
      "[\u001B[34m2022-09-01 22:26:06,172\u001B[0m] {\u001B[34mconnection.py:\u001B[0m724} INFO\u001B[0m - Received unhandled event <WindowUpdated stream_id:0, delta:2147418112>\u001B[0m\n",
      "[\u001B[34m2022-09-01 22:26:06,196\u001B[0m] {\u001B[34mconnection.py:\u001B[0m724} INFO\u001B[0m - Received unhandled event <SettingsAcknowledged changed_settings:{ChangedSetting(setting=SettingCodes.ENABLE_PUSH, original_value=1, new_value=0)}>\u001B[0m\n",
      "[\u001B[34m2022-09-01 22:26:06,197\u001B[0m] {\u001B[34mconnection.py:\u001B[0m724} INFO\u001B[0m - Received unhandled event <SettingsAcknowledged changed_settings:{}>\u001B[0m\n",
      "61\n",
      "[\u001B[34m2022-09-01 22:26:16,938\u001B[0m] {\u001B[34mconnection.py:\u001B[0m724} INFO\u001B[0m - Received unhandled event <RemoteSettingsChanged changed_settings:{ChangedSetting(setting=SettingCodes.MAX_CONCURRENT_STREAMS, original_value=None, new_value=16), ChangedSetting(setting=SettingCodes.INITIAL_WINDOW_SIZE, original_value=65535, new_value=65536), ChangedSetting(setting=SettingCodes._max_frame_size, original_value=16384, new_value=16777215)}>\u001B[0m\n",
      "[\u001B[34m2022-09-01 22:26:16,939\u001B[0m] {\u001B[34mconnection.py:\u001B[0m724} INFO\u001B[0m - Received unhandled event <WindowUpdated stream_id:0, delta:2147418112>\u001B[0m\n",
      "[\u001B[34m2022-09-01 22:26:16,956\u001B[0m] {\u001B[34mconnection.py:\u001B[0m724} INFO\u001B[0m - Received unhandled event <SettingsAcknowledged changed_settings:{ChangedSetting(setting=SettingCodes.ENABLE_PUSH, original_value=1, new_value=0)}>\u001B[0m\n",
      "[\u001B[34m2022-09-01 22:26:16,957\u001B[0m] {\u001B[34mconnection.py:\u001B[0m724} INFO\u001B[0m - Received unhandled event <SettingsAcknowledged changed_settings:{}>\u001B[0m\n",
      "62\n",
      "[\u001B[34m2022-09-01 22:26:27,327\u001B[0m] {\u001B[34mconnection.py:\u001B[0m724} INFO\u001B[0m - Received unhandled event <RemoteSettingsChanged changed_settings:{ChangedSetting(setting=SettingCodes.MAX_CONCURRENT_STREAMS, original_value=None, new_value=16), ChangedSetting(setting=SettingCodes.INITIAL_WINDOW_SIZE, original_value=65535, new_value=65536), ChangedSetting(setting=SettingCodes._max_frame_size, original_value=16384, new_value=16777215)}>\u001B[0m\n",
      "[\u001B[34m2022-09-01 22:26:27,331\u001B[0m] {\u001B[34mconnection.py:\u001B[0m724} INFO\u001B[0m - Received unhandled event <WindowUpdated stream_id:0, delta:2147418112>\u001B[0m\n",
      "[\u001B[34m2022-09-01 22:26:27,349\u001B[0m] {\u001B[34mconnection.py:\u001B[0m724} INFO\u001B[0m - Received unhandled event <SettingsAcknowledged changed_settings:{ChangedSetting(setting=SettingCodes.ENABLE_PUSH, original_value=1, new_value=0)}>\u001B[0m\n",
      "[\u001B[34m2022-09-01 22:26:27,351\u001B[0m] {\u001B[34mconnection.py:\u001B[0m724} INFO\u001B[0m - Received unhandled event <SettingsAcknowledged changed_settings:{}>\u001B[0m\n",
      "63\n",
      "[\u001B[34m2022-09-01 22:26:37,848\u001B[0m] {\u001B[34mconnection.py:\u001B[0m724} INFO\u001B[0m - Received unhandled event <RemoteSettingsChanged changed_settings:{ChangedSetting(setting=SettingCodes.MAX_CONCURRENT_STREAMS, original_value=None, new_value=16), ChangedSetting(setting=SettingCodes.INITIAL_WINDOW_SIZE, original_value=65535, new_value=65536), ChangedSetting(setting=SettingCodes._max_frame_size, original_value=16384, new_value=16777215)}>\u001B[0m\n",
      "[\u001B[34m2022-09-01 22:26:37,849\u001B[0m] {\u001B[34mconnection.py:\u001B[0m724} INFO\u001B[0m - Received unhandled event <WindowUpdated stream_id:0, delta:2147418112>\u001B[0m\n",
      "[\u001B[34m2022-09-01 22:26:37,863\u001B[0m] {\u001B[34mconnection.py:\u001B[0m724} INFO\u001B[0m - Received unhandled event <SettingsAcknowledged changed_settings:{ChangedSetting(setting=SettingCodes.ENABLE_PUSH, original_value=1, new_value=0)}>\u001B[0m\n",
      "[\u001B[34m2022-09-01 22:26:37,864\u001B[0m] {\u001B[34mconnection.py:\u001B[0m724} INFO\u001B[0m - Received unhandled event <SettingsAcknowledged changed_settings:{}>\u001B[0m\n",
      "64\n",
      "[\u001B[34m2022-09-01 22:26:47,798\u001B[0m] {\u001B[34mconnection.py:\u001B[0m724} INFO\u001B[0m - Received unhandled event <RemoteSettingsChanged changed_settings:{ChangedSetting(setting=SettingCodes.MAX_CONCURRENT_STREAMS, original_value=None, new_value=16), ChangedSetting(setting=SettingCodes.INITIAL_WINDOW_SIZE, original_value=65535, new_value=65536), ChangedSetting(setting=SettingCodes._max_frame_size, original_value=16384, new_value=16777215)}>\u001B[0m\n",
      "[\u001B[34m2022-09-01 22:26:47,799\u001B[0m] {\u001B[34mconnection.py:\u001B[0m724} INFO\u001B[0m - Received unhandled event <WindowUpdated stream_id:0, delta:2147418112>\u001B[0m\n",
      "[\u001B[34m2022-09-01 22:26:47,823\u001B[0m] {\u001B[34mconnection.py:\u001B[0m724} INFO\u001B[0m - Received unhandled event <SettingsAcknowledged changed_settings:{ChangedSetting(setting=SettingCodes.ENABLE_PUSH, original_value=1, new_value=0)}>\u001B[0m\n",
      "[\u001B[34m2022-09-01 22:26:47,824\u001B[0m] {\u001B[34mconnection.py:\u001B[0m724} INFO\u001B[0m - Received unhandled event <SettingsAcknowledged changed_settings:{}>\u001B[0m\n",
      "65\n",
      "[\u001B[34m2022-09-01 22:26:58,743\u001B[0m] {\u001B[34mconnection.py:\u001B[0m724} INFO\u001B[0m - Received unhandled event <RemoteSettingsChanged changed_settings:{ChangedSetting(setting=SettingCodes.MAX_CONCURRENT_STREAMS, original_value=None, new_value=16), ChangedSetting(setting=SettingCodes.INITIAL_WINDOW_SIZE, original_value=65535, new_value=65536), ChangedSetting(setting=SettingCodes._max_frame_size, original_value=16384, new_value=16777215)}>\u001B[0m\n",
      "[\u001B[34m2022-09-01 22:26:58,743\u001B[0m] {\u001B[34mconnection.py:\u001B[0m724} INFO\u001B[0m - Received unhandled event <WindowUpdated stream_id:0, delta:2147418112>\u001B[0m\n",
      "[\u001B[34m2022-09-01 22:26:58,763\u001B[0m] {\u001B[34mconnection.py:\u001B[0m724} INFO\u001B[0m - Received unhandled event <SettingsAcknowledged changed_settings:{ChangedSetting(setting=SettingCodes.ENABLE_PUSH, original_value=1, new_value=0)}>\u001B[0m\n",
      "[\u001B[34m2022-09-01 22:26:58,764\u001B[0m] {\u001B[34mconnection.py:\u001B[0m724} INFO\u001B[0m - Received unhandled event <SettingsAcknowledged changed_settings:{}>\u001B[0m\n",
      "66\n",
      "[\u001B[34m2022-09-01 22:27:09,324\u001B[0m] {\u001B[34mconnection.py:\u001B[0m724} INFO\u001B[0m - Received unhandled event <RemoteSettingsChanged changed_settings:{ChangedSetting(setting=SettingCodes.MAX_CONCURRENT_STREAMS, original_value=None, new_value=16), ChangedSetting(setting=SettingCodes.INITIAL_WINDOW_SIZE, original_value=65535, new_value=65536), ChangedSetting(setting=SettingCodes._max_frame_size, original_value=16384, new_value=16777215)}>\u001B[0m\n",
      "[\u001B[34m2022-09-01 22:27:09,325\u001B[0m] {\u001B[34mconnection.py:\u001B[0m724} INFO\u001B[0m - Received unhandled event <WindowUpdated stream_id:0, delta:2147418112>\u001B[0m\n",
      "[\u001B[34m2022-09-01 22:27:09,349\u001B[0m] {\u001B[34mconnection.py:\u001B[0m724} INFO\u001B[0m - Received unhandled event <SettingsAcknowledged changed_settings:{ChangedSetting(setting=SettingCodes.ENABLE_PUSH, original_value=1, new_value=0)}>\u001B[0m\n",
      "[\u001B[34m2022-09-01 22:27:09,351\u001B[0m] {\u001B[34mconnection.py:\u001B[0m724} INFO\u001B[0m - Received unhandled event <SettingsAcknowledged changed_settings:{}>\u001B[0m\n",
      "67\n",
      "[\u001B[34m2022-09-01 22:27:20,452\u001B[0m] {\u001B[34mconnection.py:\u001B[0m724} INFO\u001B[0m - Received unhandled event <RemoteSettingsChanged changed_settings:{ChangedSetting(setting=SettingCodes.MAX_CONCURRENT_STREAMS, original_value=None, new_value=16), ChangedSetting(setting=SettingCodes.INITIAL_WINDOW_SIZE, original_value=65535, new_value=65536), ChangedSetting(setting=SettingCodes._max_frame_size, original_value=16384, new_value=16777215)}>\u001B[0m\n",
      "[\u001B[34m2022-09-01 22:27:20,454\u001B[0m] {\u001B[34mconnection.py:\u001B[0m724} INFO\u001B[0m - Received unhandled event <WindowUpdated stream_id:0, delta:2147418112>\u001B[0m\n",
      "[\u001B[34m2022-09-01 22:27:20,473\u001B[0m] {\u001B[34mconnection.py:\u001B[0m724} INFO\u001B[0m - Received unhandled event <SettingsAcknowledged changed_settings:{ChangedSetting(setting=SettingCodes.ENABLE_PUSH, original_value=1, new_value=0)}>\u001B[0m\n",
      "[\u001B[34m2022-09-01 22:27:20,475\u001B[0m] {\u001B[34mconnection.py:\u001B[0m724} INFO\u001B[0m - Received unhandled event <SettingsAcknowledged changed_settings:{}>\u001B[0m\n",
      "68\n",
      "[\u001B[34m2022-09-01 22:27:31,313\u001B[0m] {\u001B[34mconnection.py:\u001B[0m724} INFO\u001B[0m - Received unhandled event <RemoteSettingsChanged changed_settings:{ChangedSetting(setting=SettingCodes.MAX_CONCURRENT_STREAMS, original_value=None, new_value=16), ChangedSetting(setting=SettingCodes.INITIAL_WINDOW_SIZE, original_value=65535, new_value=65536), ChangedSetting(setting=SettingCodes._max_frame_size, original_value=16384, new_value=16777215)}>\u001B[0m\n",
      "[\u001B[34m2022-09-01 22:27:31,315\u001B[0m] {\u001B[34mconnection.py:\u001B[0m724} INFO\u001B[0m - Received unhandled event <WindowUpdated stream_id:0, delta:2147418112>\u001B[0m\n",
      "[\u001B[34m2022-09-01 22:27:31,328\u001B[0m] {\u001B[34mconnection.py:\u001B[0m724} INFO\u001B[0m - Received unhandled event <SettingsAcknowledged changed_settings:{ChangedSetting(setting=SettingCodes.ENABLE_PUSH, original_value=1, new_value=0)}>\u001B[0m\n",
      "[\u001B[34m2022-09-01 22:27:31,337\u001B[0m] {\u001B[34mconnection.py:\u001B[0m724} INFO\u001B[0m - Received unhandled event <SettingsAcknowledged changed_settings:{}>\u001B[0m\n",
      "69\n",
      "[\u001B[34m2022-09-01 22:27:41,257\u001B[0m] {\u001B[34mconnection.py:\u001B[0m724} INFO\u001B[0m - Received unhandled event <RemoteSettingsChanged changed_settings:{ChangedSetting(setting=SettingCodes.MAX_CONCURRENT_STREAMS, original_value=None, new_value=16), ChangedSetting(setting=SettingCodes.INITIAL_WINDOW_SIZE, original_value=65535, new_value=65536), ChangedSetting(setting=SettingCodes._max_frame_size, original_value=16384, new_value=16777215)}>\u001B[0m\n",
      "[\u001B[34m2022-09-01 22:27:41,258\u001B[0m] {\u001B[34mconnection.py:\u001B[0m724} INFO\u001B[0m - Received unhandled event <WindowUpdated stream_id:0, delta:2147418112>\u001B[0m\n",
      "[\u001B[34m2022-09-01 22:27:41,277\u001B[0m] {\u001B[34mconnection.py:\u001B[0m724} INFO\u001B[0m - Received unhandled event <SettingsAcknowledged changed_settings:{ChangedSetting(setting=SettingCodes.ENABLE_PUSH, original_value=1, new_value=0)}>\u001B[0m\n",
      "[\u001B[34m2022-09-01 22:27:41,282\u001B[0m] {\u001B[34mconnection.py:\u001B[0m724} INFO\u001B[0m - Received unhandled event <SettingsAcknowledged changed_settings:{}>\u001B[0m\n",
      "70\n",
      "[\u001B[34m2022-09-01 22:27:51,755\u001B[0m] {\u001B[34mconnection.py:\u001B[0m724} INFO\u001B[0m - Received unhandled event <RemoteSettingsChanged changed_settings:{ChangedSetting(setting=SettingCodes.MAX_CONCURRENT_STREAMS, original_value=None, new_value=16), ChangedSetting(setting=SettingCodes.INITIAL_WINDOW_SIZE, original_value=65535, new_value=65536), ChangedSetting(setting=SettingCodes._max_frame_size, original_value=16384, new_value=16777215)}>\u001B[0m\n",
      "[\u001B[34m2022-09-01 22:27:51,756\u001B[0m] {\u001B[34mconnection.py:\u001B[0m724} INFO\u001B[0m - Received unhandled event <WindowUpdated stream_id:0, delta:2147418112>\u001B[0m\n",
      "[\u001B[34m2022-09-01 22:27:51,785\u001B[0m] {\u001B[34mconnection.py:\u001B[0m724} INFO\u001B[0m - Received unhandled event <SettingsAcknowledged changed_settings:{ChangedSetting(setting=SettingCodes.ENABLE_PUSH, original_value=1, new_value=0)}>\u001B[0m\n",
      "[\u001B[34m2022-09-01 22:27:51,786\u001B[0m] {\u001B[34mconnection.py:\u001B[0m724} INFO\u001B[0m - Received unhandled event <SettingsAcknowledged changed_settings:{}>\u001B[0m\n",
      "71\n",
      "[\u001B[34m2022-09-01 22:28:02,325\u001B[0m] {\u001B[34mconnection.py:\u001B[0m724} INFO\u001B[0m - Received unhandled event <RemoteSettingsChanged changed_settings:{ChangedSetting(setting=SettingCodes.MAX_CONCURRENT_STREAMS, original_value=None, new_value=16), ChangedSetting(setting=SettingCodes.INITIAL_WINDOW_SIZE, original_value=65535, new_value=65536), ChangedSetting(setting=SettingCodes._max_frame_size, original_value=16384, new_value=16777215)}>\u001B[0m\n",
      "[\u001B[34m2022-09-01 22:28:02,326\u001B[0m] {\u001B[34mconnection.py:\u001B[0m724} INFO\u001B[0m - Received unhandled event <WindowUpdated stream_id:0, delta:2147418112>\u001B[0m\n",
      "[\u001B[34m2022-09-01 22:28:02,341\u001B[0m] {\u001B[34mconnection.py:\u001B[0m724} INFO\u001B[0m - Received unhandled event <SettingsAcknowledged changed_settings:{ChangedSetting(setting=SettingCodes.ENABLE_PUSH, original_value=1, new_value=0)}>\u001B[0m\n",
      "[\u001B[34m2022-09-01 22:28:02,342\u001B[0m] {\u001B[34mconnection.py:\u001B[0m724} INFO\u001B[0m - Received unhandled event <SettingsAcknowledged changed_settings:{}>\u001B[0m\n",
      "72\n",
      "[\u001B[34m2022-09-01 22:28:12,252\u001B[0m] {\u001B[34mconnection.py:\u001B[0m724} INFO\u001B[0m - Received unhandled event <RemoteSettingsChanged changed_settings:{ChangedSetting(setting=SettingCodes.MAX_CONCURRENT_STREAMS, original_value=None, new_value=16), ChangedSetting(setting=SettingCodes.INITIAL_WINDOW_SIZE, original_value=65535, new_value=65536), ChangedSetting(setting=SettingCodes._max_frame_size, original_value=16384, new_value=16777215)}>\u001B[0m\n",
      "[\u001B[34m2022-09-01 22:28:12,253\u001B[0m] {\u001B[34mconnection.py:\u001B[0m724} INFO\u001B[0m - Received unhandled event <WindowUpdated stream_id:0, delta:2147418112>\u001B[0m\n",
      "[\u001B[34m2022-09-01 22:28:12,268\u001B[0m] {\u001B[34mconnection.py:\u001B[0m724} INFO\u001B[0m - Received unhandled event <SettingsAcknowledged changed_settings:{ChangedSetting(setting=SettingCodes.ENABLE_PUSH, original_value=1, new_value=0)}>\u001B[0m\n",
      "[\u001B[34m2022-09-01 22:28:12,269\u001B[0m] {\u001B[34mconnection.py:\u001B[0m724} INFO\u001B[0m - Received unhandled event <SettingsAcknowledged changed_settings:{}>\u001B[0m\n",
      "73\n",
      "[\u001B[34m2022-09-01 22:28:22,418\u001B[0m] {\u001B[34mconnection.py:\u001B[0m724} INFO\u001B[0m - Received unhandled event <RemoteSettingsChanged changed_settings:{ChangedSetting(setting=SettingCodes.MAX_CONCURRENT_STREAMS, original_value=None, new_value=16), ChangedSetting(setting=SettingCodes.INITIAL_WINDOW_SIZE, original_value=65535, new_value=65536), ChangedSetting(setting=SettingCodes._max_frame_size, original_value=16384, new_value=16777215)}>\u001B[0m\n",
      "[\u001B[34m2022-09-01 22:28:22,418\u001B[0m] {\u001B[34mconnection.py:\u001B[0m724} INFO\u001B[0m - Received unhandled event <WindowUpdated stream_id:0, delta:2147418112>\u001B[0m\n",
      "[\u001B[34m2022-09-01 22:28:22,434\u001B[0m] {\u001B[34mconnection.py:\u001B[0m724} INFO\u001B[0m - Received unhandled event <SettingsAcknowledged changed_settings:{ChangedSetting(setting=SettingCodes.ENABLE_PUSH, original_value=1, new_value=0)}>\u001B[0m\n",
      "[\u001B[34m2022-09-01 22:28:22,437\u001B[0m] {\u001B[34mconnection.py:\u001B[0m724} INFO\u001B[0m - Received unhandled event <SettingsAcknowledged changed_settings:{}>\u001B[0m\n",
      "74\n",
      "[\u001B[34m2022-09-01 22:28:32,476\u001B[0m] {\u001B[34mconnection.py:\u001B[0m724} INFO\u001B[0m - Received unhandled event <RemoteSettingsChanged changed_settings:{ChangedSetting(setting=SettingCodes.MAX_CONCURRENT_STREAMS, original_value=None, new_value=16), ChangedSetting(setting=SettingCodes.INITIAL_WINDOW_SIZE, original_value=65535, new_value=65536), ChangedSetting(setting=SettingCodes._max_frame_size, original_value=16384, new_value=16777215)}>\u001B[0m\n",
      "[\u001B[34m2022-09-01 22:28:32,477\u001B[0m] {\u001B[34mconnection.py:\u001B[0m724} INFO\u001B[0m - Received unhandled event <WindowUpdated stream_id:0, delta:2147418112>\u001B[0m\n",
      "[\u001B[34m2022-09-01 22:28:32,496\u001B[0m] {\u001B[34mconnection.py:\u001B[0m724} INFO\u001B[0m - Received unhandled event <SettingsAcknowledged changed_settings:{ChangedSetting(setting=SettingCodes.ENABLE_PUSH, original_value=1, new_value=0)}>\u001B[0m\n",
      "[\u001B[34m2022-09-01 22:28:32,497\u001B[0m] {\u001B[34mconnection.py:\u001B[0m724} INFO\u001B[0m - Received unhandled event <SettingsAcknowledged changed_settings:{}>\u001B[0m\n",
      "75\n",
      "[\u001B[34m2022-09-01 22:28:42,637\u001B[0m] {\u001B[34mconnection.py:\u001B[0m724} INFO\u001B[0m - Received unhandled event <RemoteSettingsChanged changed_settings:{ChangedSetting(setting=SettingCodes.MAX_CONCURRENT_STREAMS, original_value=None, new_value=16), ChangedSetting(setting=SettingCodes.INITIAL_WINDOW_SIZE, original_value=65535, new_value=65536), ChangedSetting(setting=SettingCodes._max_frame_size, original_value=16384, new_value=16777215)}>\u001B[0m\n",
      "[\u001B[34m2022-09-01 22:28:42,637\u001B[0m] {\u001B[34mconnection.py:\u001B[0m724} INFO\u001B[0m - Received unhandled event <WindowUpdated stream_id:0, delta:2147418112>\u001B[0m\n",
      "[\u001B[34m2022-09-01 22:28:42,659\u001B[0m] {\u001B[34mconnection.py:\u001B[0m724} INFO\u001B[0m - Received unhandled event <SettingsAcknowledged changed_settings:{ChangedSetting(setting=SettingCodes.ENABLE_PUSH, original_value=1, new_value=0)}>\u001B[0m\n",
      "[\u001B[34m2022-09-01 22:28:42,661\u001B[0m] {\u001B[34mconnection.py:\u001B[0m724} INFO\u001B[0m - Received unhandled event <SettingsAcknowledged changed_settings:{}>\u001B[0m\n",
      "76\n",
      "[\u001B[34m2022-09-01 22:28:54,249\u001B[0m] {\u001B[34mconnection.py:\u001B[0m724} INFO\u001B[0m - Received unhandled event <RemoteSettingsChanged changed_settings:{ChangedSetting(setting=SettingCodes.MAX_CONCURRENT_STREAMS, original_value=None, new_value=16), ChangedSetting(setting=SettingCodes.INITIAL_WINDOW_SIZE, original_value=65535, new_value=65536), ChangedSetting(setting=SettingCodes._max_frame_size, original_value=16384, new_value=16777215)}>\u001B[0m\n",
      "[\u001B[34m2022-09-01 22:28:54,250\u001B[0m] {\u001B[34mconnection.py:\u001B[0m724} INFO\u001B[0m - Received unhandled event <WindowUpdated stream_id:0, delta:2147418112>\u001B[0m\n",
      "[\u001B[34m2022-09-01 22:28:54,264\u001B[0m] {\u001B[34mconnection.py:\u001B[0m724} INFO\u001B[0m - Received unhandled event <SettingsAcknowledged changed_settings:{ChangedSetting(setting=SettingCodes.ENABLE_PUSH, original_value=1, new_value=0)}>\u001B[0m\n",
      "[\u001B[34m2022-09-01 22:28:54,267\u001B[0m] {\u001B[34mconnection.py:\u001B[0m724} INFO\u001B[0m - Received unhandled event <SettingsAcknowledged changed_settings:{}>\u001B[0m\n",
      "77\n",
      "[\u001B[34m2022-09-01 22:29:04,315\u001B[0m] {\u001B[34mconnection.py:\u001B[0m724} INFO\u001B[0m - Received unhandled event <RemoteSettingsChanged changed_settings:{ChangedSetting(setting=SettingCodes.MAX_CONCURRENT_STREAMS, original_value=None, new_value=16), ChangedSetting(setting=SettingCodes.INITIAL_WINDOW_SIZE, original_value=65535, new_value=65536), ChangedSetting(setting=SettingCodes._max_frame_size, original_value=16384, new_value=16777215)}>\u001B[0m\n",
      "[\u001B[34m2022-09-01 22:29:04,319\u001B[0m] {\u001B[34mconnection.py:\u001B[0m724} INFO\u001B[0m - Received unhandled event <WindowUpdated stream_id:0, delta:2147418112>\u001B[0m\n",
      "[\u001B[34m2022-09-01 22:29:04,335\u001B[0m] {\u001B[34mconnection.py:\u001B[0m724} INFO\u001B[0m - Received unhandled event <SettingsAcknowledged changed_settings:{ChangedSetting(setting=SettingCodes.ENABLE_PUSH, original_value=1, new_value=0)}>\u001B[0m\n",
      "[\u001B[34m2022-09-01 22:29:04,340\u001B[0m] {\u001B[34mconnection.py:\u001B[0m724} INFO\u001B[0m - Received unhandled event <SettingsAcknowledged changed_settings:{}>\u001B[0m\n",
      "78\n",
      "[\u001B[34m2022-09-01 22:29:17,047\u001B[0m] {\u001B[34mconnection.py:\u001B[0m724} INFO\u001B[0m - Received unhandled event <RemoteSettingsChanged changed_settings:{ChangedSetting(setting=SettingCodes.MAX_CONCURRENT_STREAMS, original_value=None, new_value=16), ChangedSetting(setting=SettingCodes.INITIAL_WINDOW_SIZE, original_value=65535, new_value=65536), ChangedSetting(setting=SettingCodes._max_frame_size, original_value=16384, new_value=16777215)}>\u001B[0m\n",
      "[\u001B[34m2022-09-01 22:29:17,048\u001B[0m] {\u001B[34mconnection.py:\u001B[0m724} INFO\u001B[0m - Received unhandled event <WindowUpdated stream_id:0, delta:2147418112>\u001B[0m\n",
      "[\u001B[34m2022-09-01 22:29:17,070\u001B[0m] {\u001B[34mconnection.py:\u001B[0m724} INFO\u001B[0m - Received unhandled event <SettingsAcknowledged changed_settings:{ChangedSetting(setting=SettingCodes.ENABLE_PUSH, original_value=1, new_value=0)}>\u001B[0m\n",
      "[\u001B[34m2022-09-01 22:29:17,072\u001B[0m] {\u001B[34mconnection.py:\u001B[0m724} INFO\u001B[0m - Received unhandled event <SettingsAcknowledged changed_settings:{}>\u001B[0m\n",
      "79\n",
      "[\u001B[34m2022-09-01 22:29:28,400\u001B[0m] {\u001B[34mconnection.py:\u001B[0m724} INFO\u001B[0m - Received unhandled event <RemoteSettingsChanged changed_settings:{ChangedSetting(setting=SettingCodes.MAX_CONCURRENT_STREAMS, original_value=None, new_value=16), ChangedSetting(setting=SettingCodes.INITIAL_WINDOW_SIZE, original_value=65535, new_value=65536), ChangedSetting(setting=SettingCodes._max_frame_size, original_value=16384, new_value=16777215)}>\u001B[0m\n",
      "[\u001B[34m2022-09-01 22:29:28,401\u001B[0m] {\u001B[34mconnection.py:\u001B[0m724} INFO\u001B[0m - Received unhandled event <WindowUpdated stream_id:0, delta:2147418112>\u001B[0m\n",
      "[\u001B[34m2022-09-01 22:29:28,420\u001B[0m] {\u001B[34mconnection.py:\u001B[0m724} INFO\u001B[0m - Received unhandled event <SettingsAcknowledged changed_settings:{ChangedSetting(setting=SettingCodes.ENABLE_PUSH, original_value=1, new_value=0)}>\u001B[0m\n",
      "[\u001B[34m2022-09-01 22:29:28,421\u001B[0m] {\u001B[34mconnection.py:\u001B[0m724} INFO\u001B[0m - Received unhandled event <SettingsAcknowledged changed_settings:{}>\u001B[0m\n",
      "80\n",
      "[\u001B[34m2022-09-01 22:29:38,894\u001B[0m] {\u001B[34mconnection.py:\u001B[0m724} INFO\u001B[0m - Received unhandled event <RemoteSettingsChanged changed_settings:{ChangedSetting(setting=SettingCodes.MAX_CONCURRENT_STREAMS, original_value=None, new_value=16), ChangedSetting(setting=SettingCodes.INITIAL_WINDOW_SIZE, original_value=65535, new_value=65536), ChangedSetting(setting=SettingCodes._max_frame_size, original_value=16384, new_value=16777215)}>\u001B[0m\n",
      "[\u001B[34m2022-09-01 22:29:38,896\u001B[0m] {\u001B[34mconnection.py:\u001B[0m724} INFO\u001B[0m - Received unhandled event <WindowUpdated stream_id:0, delta:2147418112>\u001B[0m\n",
      "[\u001B[34m2022-09-01 22:29:38,914\u001B[0m] {\u001B[34mconnection.py:\u001B[0m724} INFO\u001B[0m - Received unhandled event <SettingsAcknowledged changed_settings:{ChangedSetting(setting=SettingCodes.ENABLE_PUSH, original_value=1, new_value=0)}>\u001B[0m\n",
      "[\u001B[34m2022-09-01 22:29:38,918\u001B[0m] {\u001B[34mconnection.py:\u001B[0m724} INFO\u001B[0m - Received unhandled event <SettingsAcknowledged changed_settings:{}>\u001B[0m\n",
      "81\n",
      "[\u001B[34m2022-09-01 22:29:48,851\u001B[0m] {\u001B[34mconnection.py:\u001B[0m724} INFO\u001B[0m - Received unhandled event <RemoteSettingsChanged changed_settings:{ChangedSetting(setting=SettingCodes.MAX_CONCURRENT_STREAMS, original_value=None, new_value=16), ChangedSetting(setting=SettingCodes.INITIAL_WINDOW_SIZE, original_value=65535, new_value=65536), ChangedSetting(setting=SettingCodes._max_frame_size, original_value=16384, new_value=16777215)}>\u001B[0m\n",
      "[\u001B[34m2022-09-01 22:29:48,852\u001B[0m] {\u001B[34mconnection.py:\u001B[0m724} INFO\u001B[0m - Received unhandled event <WindowUpdated stream_id:0, delta:2147418112>\u001B[0m\n",
      "[\u001B[34m2022-09-01 22:29:48,868\u001B[0m] {\u001B[34mconnection.py:\u001B[0m724} INFO\u001B[0m - Received unhandled event <SettingsAcknowledged changed_settings:{ChangedSetting(setting=SettingCodes.ENABLE_PUSH, original_value=1, new_value=0)}>\u001B[0m\n",
      "[\u001B[34m2022-09-01 22:29:48,869\u001B[0m] {\u001B[34mconnection.py:\u001B[0m724} INFO\u001B[0m - Received unhandled event <SettingsAcknowledged changed_settings:{}>\u001B[0m\n",
      "82\n",
      "[\u001B[34m2022-09-01 22:29:58,681\u001B[0m] {\u001B[34mconnection.py:\u001B[0m724} INFO\u001B[0m - Received unhandled event <RemoteSettingsChanged changed_settings:{ChangedSetting(setting=SettingCodes.MAX_CONCURRENT_STREAMS, original_value=None, new_value=16), ChangedSetting(setting=SettingCodes.INITIAL_WINDOW_SIZE, original_value=65535, new_value=65536), ChangedSetting(setting=SettingCodes._max_frame_size, original_value=16384, new_value=16777215)}>\u001B[0m\n",
      "[\u001B[34m2022-09-01 22:29:58,685\u001B[0m] {\u001B[34mconnection.py:\u001B[0m724} INFO\u001B[0m - Received unhandled event <WindowUpdated stream_id:0, delta:2147418112>\u001B[0m\n",
      "[\u001B[34m2022-09-01 22:29:58,701\u001B[0m] {\u001B[34mconnection.py:\u001B[0m724} INFO\u001B[0m - Received unhandled event <SettingsAcknowledged changed_settings:{ChangedSetting(setting=SettingCodes.ENABLE_PUSH, original_value=1, new_value=0)}>\u001B[0m\n",
      "[\u001B[34m2022-09-01 22:29:58,702\u001B[0m] {\u001B[34mconnection.py:\u001B[0m724} INFO\u001B[0m - Received unhandled event <SettingsAcknowledged changed_settings:{}>\u001B[0m\n",
      "83\n",
      "[\u001B[34m2022-09-01 22:30:09,452\u001B[0m] {\u001B[34mconnection.py:\u001B[0m724} INFO\u001B[0m - Received unhandled event <RemoteSettingsChanged changed_settings:{ChangedSetting(setting=SettingCodes.MAX_CONCURRENT_STREAMS, original_value=None, new_value=16), ChangedSetting(setting=SettingCodes.INITIAL_WINDOW_SIZE, original_value=65535, new_value=65536), ChangedSetting(setting=SettingCodes._max_frame_size, original_value=16384, new_value=16777215)}>\u001B[0m\n",
      "[\u001B[34m2022-09-01 22:30:09,453\u001B[0m] {\u001B[34mconnection.py:\u001B[0m724} INFO\u001B[0m - Received unhandled event <WindowUpdated stream_id:0, delta:2147418112>\u001B[0m\n",
      "[\u001B[34m2022-09-01 22:30:09,467\u001B[0m] {\u001B[34mconnection.py:\u001B[0m724} INFO\u001B[0m - Received unhandled event <SettingsAcknowledged changed_settings:{ChangedSetting(setting=SettingCodes.ENABLE_PUSH, original_value=1, new_value=0)}>\u001B[0m\n",
      "[\u001B[34m2022-09-01 22:30:09,468\u001B[0m] {\u001B[34mconnection.py:\u001B[0m724} INFO\u001B[0m - Received unhandled event <SettingsAcknowledged changed_settings:{}>\u001B[0m\n",
      "84\n",
      "[\u001B[34m2022-09-01 22:30:20,487\u001B[0m] {\u001B[34mconnection.py:\u001B[0m724} INFO\u001B[0m - Received unhandled event <RemoteSettingsChanged changed_settings:{ChangedSetting(setting=SettingCodes.MAX_CONCURRENT_STREAMS, original_value=None, new_value=16), ChangedSetting(setting=SettingCodes.INITIAL_WINDOW_SIZE, original_value=65535, new_value=65536), ChangedSetting(setting=SettingCodes._max_frame_size, original_value=16384, new_value=16777215)}>\u001B[0m\n",
      "[\u001B[34m2022-09-01 22:30:20,489\u001B[0m] {\u001B[34mconnection.py:\u001B[0m724} INFO\u001B[0m - Received unhandled event <WindowUpdated stream_id:0, delta:2147418112>\u001B[0m\n",
      "[\u001B[34m2022-09-01 22:30:20,507\u001B[0m] {\u001B[34mconnection.py:\u001B[0m724} INFO\u001B[0m - Received unhandled event <SettingsAcknowledged changed_settings:{ChangedSetting(setting=SettingCodes.ENABLE_PUSH, original_value=1, new_value=0)}>\u001B[0m\n",
      "[\u001B[34m2022-09-01 22:30:20,510\u001B[0m] {\u001B[34mconnection.py:\u001B[0m724} INFO\u001B[0m - Received unhandled event <SettingsAcknowledged changed_settings:{}>\u001B[0m\n",
      "85\n",
      "[\u001B[34m2022-09-01 22:30:31,448\u001B[0m] {\u001B[34mconnection.py:\u001B[0m724} INFO\u001B[0m - Received unhandled event <RemoteSettingsChanged changed_settings:{ChangedSetting(setting=SettingCodes.MAX_CONCURRENT_STREAMS, original_value=None, new_value=16), ChangedSetting(setting=SettingCodes.INITIAL_WINDOW_SIZE, original_value=65535, new_value=65536), ChangedSetting(setting=SettingCodes._max_frame_size, original_value=16384, new_value=16777215)}>\u001B[0m\n",
      "[\u001B[34m2022-09-01 22:30:31,450\u001B[0m] {\u001B[34mconnection.py:\u001B[0m724} INFO\u001B[0m - Received unhandled event <WindowUpdated stream_id:0, delta:2147418112>\u001B[0m\n",
      "[\u001B[34m2022-09-01 22:30:31,466\u001B[0m] {\u001B[34mconnection.py:\u001B[0m724} INFO\u001B[0m - Received unhandled event <SettingsAcknowledged changed_settings:{ChangedSetting(setting=SettingCodes.ENABLE_PUSH, original_value=1, new_value=0)}>\u001B[0m\n",
      "[\u001B[34m2022-09-01 22:30:31,472\u001B[0m] {\u001B[34mconnection.py:\u001B[0m724} INFO\u001B[0m - Received unhandled event <SettingsAcknowledged changed_settings:{}>\u001B[0m\n",
      "86\n",
      "[\u001B[34m2022-09-01 22:30:42,246\u001B[0m] {\u001B[34mconnection.py:\u001B[0m724} INFO\u001B[0m - Received unhandled event <RemoteSettingsChanged changed_settings:{ChangedSetting(setting=SettingCodes.MAX_CONCURRENT_STREAMS, original_value=None, new_value=16), ChangedSetting(setting=SettingCodes.INITIAL_WINDOW_SIZE, original_value=65535, new_value=65536), ChangedSetting(setting=SettingCodes._max_frame_size, original_value=16384, new_value=16777215)}>\u001B[0m\n",
      "[\u001B[34m2022-09-01 22:30:42,247\u001B[0m] {\u001B[34mconnection.py:\u001B[0m724} INFO\u001B[0m - Received unhandled event <WindowUpdated stream_id:0, delta:2147418112>\u001B[0m\n",
      "[\u001B[34m2022-09-01 22:30:42,266\u001B[0m] {\u001B[34mconnection.py:\u001B[0m724} INFO\u001B[0m - Received unhandled event <SettingsAcknowledged changed_settings:{ChangedSetting(setting=SettingCodes.ENABLE_PUSH, original_value=1, new_value=0)}>\u001B[0m\n",
      "[\u001B[34m2022-09-01 22:30:42,267\u001B[0m] {\u001B[34mconnection.py:\u001B[0m724} INFO\u001B[0m - Received unhandled event <SettingsAcknowledged changed_settings:{}>\u001B[0m\n",
      "87\n",
      "[\u001B[34m2022-09-01 22:30:52,734\u001B[0m] {\u001B[34mconnection.py:\u001B[0m724} INFO\u001B[0m - Received unhandled event <RemoteSettingsChanged changed_settings:{ChangedSetting(setting=SettingCodes.MAX_CONCURRENT_STREAMS, original_value=None, new_value=16), ChangedSetting(setting=SettingCodes.INITIAL_WINDOW_SIZE, original_value=65535, new_value=65536), ChangedSetting(setting=SettingCodes._max_frame_size, original_value=16384, new_value=16777215)}>\u001B[0m\n",
      "[\u001B[34m2022-09-01 22:30:52,735\u001B[0m] {\u001B[34mconnection.py:\u001B[0m724} INFO\u001B[0m - Received unhandled event <WindowUpdated stream_id:0, delta:2147418112>\u001B[0m\n",
      "[\u001B[34m2022-09-01 22:30:52,754\u001B[0m] {\u001B[34mconnection.py:\u001B[0m724} INFO\u001B[0m - Received unhandled event <SettingsAcknowledged changed_settings:{ChangedSetting(setting=SettingCodes.ENABLE_PUSH, original_value=1, new_value=0)}>\u001B[0m\n",
      "[\u001B[34m2022-09-01 22:30:52,755\u001B[0m] {\u001B[34mconnection.py:\u001B[0m724} INFO\u001B[0m - Received unhandled event <SettingsAcknowledged changed_settings:{}>\u001B[0m\n",
      "88\n",
      "[\u001B[34m2022-09-01 22:31:02,852\u001B[0m] {\u001B[34mconnection.py:\u001B[0m724} INFO\u001B[0m - Received unhandled event <RemoteSettingsChanged changed_settings:{ChangedSetting(setting=SettingCodes.MAX_CONCURRENT_STREAMS, original_value=None, new_value=16), ChangedSetting(setting=SettingCodes.INITIAL_WINDOW_SIZE, original_value=65535, new_value=65536), ChangedSetting(setting=SettingCodes._max_frame_size, original_value=16384, new_value=16777215)}>\u001B[0m\n",
      "[\u001B[34m2022-09-01 22:31:02,853\u001B[0m] {\u001B[34mconnection.py:\u001B[0m724} INFO\u001B[0m - Received unhandled event <WindowUpdated stream_id:0, delta:2147418112>\u001B[0m\n",
      "[\u001B[34m2022-09-01 22:31:02,868\u001B[0m] {\u001B[34mconnection.py:\u001B[0m724} INFO\u001B[0m - Received unhandled event <SettingsAcknowledged changed_settings:{ChangedSetting(setting=SettingCodes.ENABLE_PUSH, original_value=1, new_value=0)}>\u001B[0m\n",
      "[\u001B[34m2022-09-01 22:31:02,869\u001B[0m] {\u001B[34mconnection.py:\u001B[0m724} INFO\u001B[0m - Received unhandled event <SettingsAcknowledged changed_settings:{}>\u001B[0m\n",
      "89\n",
      "[\u001B[34m2022-09-01 22:31:13,065\u001B[0m] {\u001B[34mconnection.py:\u001B[0m724} INFO\u001B[0m - Received unhandled event <RemoteSettingsChanged changed_settings:{ChangedSetting(setting=SettingCodes.MAX_CONCURRENT_STREAMS, original_value=None, new_value=16), ChangedSetting(setting=SettingCodes.INITIAL_WINDOW_SIZE, original_value=65535, new_value=65536), ChangedSetting(setting=SettingCodes._max_frame_size, original_value=16384, new_value=16777215)}>\u001B[0m\n",
      "[\u001B[34m2022-09-01 22:31:13,066\u001B[0m] {\u001B[34mconnection.py:\u001B[0m724} INFO\u001B[0m - Received unhandled event <WindowUpdated stream_id:0, delta:2147418112>\u001B[0m\n",
      "[\u001B[34m2022-09-01 22:31:13,091\u001B[0m] {\u001B[34mconnection.py:\u001B[0m724} INFO\u001B[0m - Received unhandled event <SettingsAcknowledged changed_settings:{ChangedSetting(setting=SettingCodes.ENABLE_PUSH, original_value=1, new_value=0)}>\u001B[0m\n",
      "[\u001B[34m2022-09-01 22:31:13,094\u001B[0m] {\u001B[34mconnection.py:\u001B[0m724} INFO\u001B[0m - Received unhandled event <SettingsAcknowledged changed_settings:{}>\u001B[0m\n",
      "90\n",
      "[\u001B[34m2022-09-01 22:31:23,852\u001B[0m] {\u001B[34mconnection.py:\u001B[0m724} INFO\u001B[0m - Received unhandled event <RemoteSettingsChanged changed_settings:{ChangedSetting(setting=SettingCodes.MAX_CONCURRENT_STREAMS, original_value=None, new_value=16), ChangedSetting(setting=SettingCodes.INITIAL_WINDOW_SIZE, original_value=65535, new_value=65536), ChangedSetting(setting=SettingCodes._max_frame_size, original_value=16384, new_value=16777215)}>\u001B[0m\n",
      "[\u001B[34m2022-09-01 22:31:23,853\u001B[0m] {\u001B[34mconnection.py:\u001B[0m724} INFO\u001B[0m - Received unhandled event <WindowUpdated stream_id:0, delta:2147418112>\u001B[0m\n",
      "[\u001B[34m2022-09-01 22:31:23,877\u001B[0m] {\u001B[34mconnection.py:\u001B[0m724} INFO\u001B[0m - Received unhandled event <SettingsAcknowledged changed_settings:{ChangedSetting(setting=SettingCodes.ENABLE_PUSH, original_value=1, new_value=0)}>\u001B[0m\n",
      "[\u001B[34m2022-09-01 22:31:23,877\u001B[0m] {\u001B[34mconnection.py:\u001B[0m724} INFO\u001B[0m - Received unhandled event <SettingsAcknowledged changed_settings:{}>\u001B[0m\n",
      "91\n",
      "[\u001B[34m2022-09-01 22:31:36,213\u001B[0m] {\u001B[34mconnection.py:\u001B[0m724} INFO\u001B[0m - Received unhandled event <RemoteSettingsChanged changed_settings:{ChangedSetting(setting=SettingCodes.MAX_CONCURRENT_STREAMS, original_value=None, new_value=16), ChangedSetting(setting=SettingCodes.INITIAL_WINDOW_SIZE, original_value=65535, new_value=65536), ChangedSetting(setting=SettingCodes._max_frame_size, original_value=16384, new_value=16777215)}>\u001B[0m\n",
      "[\u001B[34m2022-09-01 22:31:36,214\u001B[0m] {\u001B[34mconnection.py:\u001B[0m724} INFO\u001B[0m - Received unhandled event <WindowUpdated stream_id:0, delta:2147418112>\u001B[0m\n",
      "[\u001B[34m2022-09-01 22:31:36,233\u001B[0m] {\u001B[34mconnection.py:\u001B[0m724} INFO\u001B[0m - Received unhandled event <SettingsAcknowledged changed_settings:{ChangedSetting(setting=SettingCodes.ENABLE_PUSH, original_value=1, new_value=0)}>\u001B[0m\n",
      "[\u001B[34m2022-09-01 22:31:36,234\u001B[0m] {\u001B[34mconnection.py:\u001B[0m724} INFO\u001B[0m - Received unhandled event <SettingsAcknowledged changed_settings:{}>\u001B[0m\n",
      "92\n",
      "[\u001B[34m2022-09-01 22:31:46,715\u001B[0m] {\u001B[34mconnection.py:\u001B[0m724} INFO\u001B[0m - Received unhandled event <RemoteSettingsChanged changed_settings:{ChangedSetting(setting=SettingCodes.MAX_CONCURRENT_STREAMS, original_value=None, new_value=16), ChangedSetting(setting=SettingCodes.INITIAL_WINDOW_SIZE, original_value=65535, new_value=65536), ChangedSetting(setting=SettingCodes._max_frame_size, original_value=16384, new_value=16777215)}>\u001B[0m\n",
      "[\u001B[34m2022-09-01 22:31:46,715\u001B[0m] {\u001B[34mconnection.py:\u001B[0m724} INFO\u001B[0m - Received unhandled event <WindowUpdated stream_id:0, delta:2147418112>\u001B[0m\n",
      "[\u001B[34m2022-09-01 22:31:46,730\u001B[0m] {\u001B[34mconnection.py:\u001B[0m724} INFO\u001B[0m - Received unhandled event <SettingsAcknowledged changed_settings:{ChangedSetting(setting=SettingCodes.ENABLE_PUSH, original_value=1, new_value=0)}>\u001B[0m\n",
      "[\u001B[34m2022-09-01 22:31:46,731\u001B[0m] {\u001B[34mconnection.py:\u001B[0m724} INFO\u001B[0m - Received unhandled event <SettingsAcknowledged changed_settings:{}>\u001B[0m\n",
      "93\n",
      "[\u001B[34m2022-09-01 22:31:56,367\u001B[0m] {\u001B[34mconnection.py:\u001B[0m724} INFO\u001B[0m - Received unhandled event <RemoteSettingsChanged changed_settings:{ChangedSetting(setting=SettingCodes.MAX_CONCURRENT_STREAMS, original_value=None, new_value=16), ChangedSetting(setting=SettingCodes.INITIAL_WINDOW_SIZE, original_value=65535, new_value=65536), ChangedSetting(setting=SettingCodes._max_frame_size, original_value=16384, new_value=16777215)}>\u001B[0m\n",
      "[\u001B[34m2022-09-01 22:31:56,367\u001B[0m] {\u001B[34mconnection.py:\u001B[0m724} INFO\u001B[0m - Received unhandled event <WindowUpdated stream_id:0, delta:2147418112>\u001B[0m\n",
      "[\u001B[34m2022-09-01 22:31:56,387\u001B[0m] {\u001B[34mconnection.py:\u001B[0m724} INFO\u001B[0m - Received unhandled event <SettingsAcknowledged changed_settings:{ChangedSetting(setting=SettingCodes.ENABLE_PUSH, original_value=1, new_value=0)}>\u001B[0m\n",
      "[\u001B[34m2022-09-01 22:31:56,388\u001B[0m] {\u001B[34mconnection.py:\u001B[0m724} INFO\u001B[0m - Received unhandled event <SettingsAcknowledged changed_settings:{}>\u001B[0m\n",
      "94\n",
      "[\u001B[34m2022-09-01 22:32:07,067\u001B[0m] {\u001B[34mconnection.py:\u001B[0m724} INFO\u001B[0m - Received unhandled event <RemoteSettingsChanged changed_settings:{ChangedSetting(setting=SettingCodes.MAX_CONCURRENT_STREAMS, original_value=None, new_value=16), ChangedSetting(setting=SettingCodes.INITIAL_WINDOW_SIZE, original_value=65535, new_value=65536), ChangedSetting(setting=SettingCodes._max_frame_size, original_value=16384, new_value=16777215)}>\u001B[0m\n",
      "[\u001B[34m2022-09-01 22:32:07,068\u001B[0m] {\u001B[34mconnection.py:\u001B[0m724} INFO\u001B[0m - Received unhandled event <WindowUpdated stream_id:0, delta:2147418112>\u001B[0m\n",
      "[\u001B[34m2022-09-01 22:32:07,087\u001B[0m] {\u001B[34mconnection.py:\u001B[0m724} INFO\u001B[0m - Received unhandled event <SettingsAcknowledged changed_settings:{ChangedSetting(setting=SettingCodes.ENABLE_PUSH, original_value=1, new_value=0)}>\u001B[0m\n",
      "[\u001B[34m2022-09-01 22:32:07,088\u001B[0m] {\u001B[34mconnection.py:\u001B[0m724} INFO\u001B[0m - Received unhandled event <SettingsAcknowledged changed_settings:{}>\u001B[0m\n",
      "95\n",
      "[\u001B[34m2022-09-01 22:32:18,109\u001B[0m] {\u001B[34mconnection.py:\u001B[0m724} INFO\u001B[0m - Received unhandled event <RemoteSettingsChanged changed_settings:{ChangedSetting(setting=SettingCodes.MAX_CONCURRENT_STREAMS, original_value=None, new_value=16), ChangedSetting(setting=SettingCodes.INITIAL_WINDOW_SIZE, original_value=65535, new_value=65536), ChangedSetting(setting=SettingCodes._max_frame_size, original_value=16384, new_value=16777215)}>\u001B[0m\n",
      "[\u001B[34m2022-09-01 22:32:18,111\u001B[0m] {\u001B[34mconnection.py:\u001B[0m724} INFO\u001B[0m - Received unhandled event <WindowUpdated stream_id:0, delta:2147418112>\u001B[0m\n",
      "[\u001B[34m2022-09-01 22:32:18,124\u001B[0m] {\u001B[34mconnection.py:\u001B[0m724} INFO\u001B[0m - Received unhandled event <SettingsAcknowledged changed_settings:{ChangedSetting(setting=SettingCodes.ENABLE_PUSH, original_value=1, new_value=0)}>\u001B[0m\n",
      "[\u001B[34m2022-09-01 22:32:18,126\u001B[0m] {\u001B[34mconnection.py:\u001B[0m724} INFO\u001B[0m - Received unhandled event <SettingsAcknowledged changed_settings:{}>\u001B[0m\n",
      "96\n",
      "[\u001B[34m2022-09-01 22:32:28,657\u001B[0m] {\u001B[34mconnection.py:\u001B[0m724} INFO\u001B[0m - Received unhandled event <RemoteSettingsChanged changed_settings:{ChangedSetting(setting=SettingCodes.MAX_CONCURRENT_STREAMS, original_value=None, new_value=16), ChangedSetting(setting=SettingCodes.INITIAL_WINDOW_SIZE, original_value=65535, new_value=65536), ChangedSetting(setting=SettingCodes._max_frame_size, original_value=16384, new_value=16777215)}>\u001B[0m\n",
      "[\u001B[34m2022-09-01 22:32:28,659\u001B[0m] {\u001B[34mconnection.py:\u001B[0m724} INFO\u001B[0m - Received unhandled event <WindowUpdated stream_id:0, delta:2147418112>\u001B[0m\n",
      "[\u001B[34m2022-09-01 22:32:28,672\u001B[0m] {\u001B[34mconnection.py:\u001B[0m724} INFO\u001B[0m - Received unhandled event <SettingsAcknowledged changed_settings:{ChangedSetting(setting=SettingCodes.ENABLE_PUSH, original_value=1, new_value=0)}>\u001B[0m\n",
      "[\u001B[34m2022-09-01 22:32:28,674\u001B[0m] {\u001B[34mconnection.py:\u001B[0m724} INFO\u001B[0m - Received unhandled event <SettingsAcknowledged changed_settings:{}>\u001B[0m\n",
      "97\n",
      "[\u001B[34m2022-09-01 22:32:38,959\u001B[0m] {\u001B[34mconnection.py:\u001B[0m724} INFO\u001B[0m - Received unhandled event <RemoteSettingsChanged changed_settings:{ChangedSetting(setting=SettingCodes.MAX_CONCURRENT_STREAMS, original_value=None, new_value=16), ChangedSetting(setting=SettingCodes.INITIAL_WINDOW_SIZE, original_value=65535, new_value=65536), ChangedSetting(setting=SettingCodes._max_frame_size, original_value=16384, new_value=16777215)}>\u001B[0m\n",
      "[\u001B[34m2022-09-01 22:32:38,960\u001B[0m] {\u001B[34mconnection.py:\u001B[0m724} INFO\u001B[0m - Received unhandled event <WindowUpdated stream_id:0, delta:2147418112>\u001B[0m\n",
      "[\u001B[34m2022-09-01 22:32:38,980\u001B[0m] {\u001B[34mconnection.py:\u001B[0m724} INFO\u001B[0m - Received unhandled event <SettingsAcknowledged changed_settings:{ChangedSetting(setting=SettingCodes.ENABLE_PUSH, original_value=1, new_value=0)}>\u001B[0m\n",
      "[\u001B[34m2022-09-01 22:32:38,981\u001B[0m] {\u001B[34mconnection.py:\u001B[0m724} INFO\u001B[0m - Received unhandled event <SettingsAcknowledged changed_settings:{}>\u001B[0m\n",
      "98\n",
      "[\u001B[34m2022-09-01 22:32:49,333\u001B[0m] {\u001B[34mconnection.py:\u001B[0m724} INFO\u001B[0m - Received unhandled event <RemoteSettingsChanged changed_settings:{ChangedSetting(setting=SettingCodes.MAX_CONCURRENT_STREAMS, original_value=None, new_value=16), ChangedSetting(setting=SettingCodes.INITIAL_WINDOW_SIZE, original_value=65535, new_value=65536), ChangedSetting(setting=SettingCodes._max_frame_size, original_value=16384, new_value=16777215)}>\u001B[0m\n",
      "[\u001B[34m2022-09-01 22:32:49,334\u001B[0m] {\u001B[34mconnection.py:\u001B[0m724} INFO\u001B[0m - Received unhandled event <WindowUpdated stream_id:0, delta:2147418112>\u001B[0m\n",
      "[\u001B[34m2022-09-01 22:32:49,349\u001B[0m] {\u001B[34mconnection.py:\u001B[0m724} INFO\u001B[0m - Received unhandled event <SettingsAcknowledged changed_settings:{ChangedSetting(setting=SettingCodes.ENABLE_PUSH, original_value=1, new_value=0)}>\u001B[0m\n",
      "[\u001B[34m2022-09-01 22:32:49,350\u001B[0m] {\u001B[34mconnection.py:\u001B[0m724} INFO\u001B[0m - Received unhandled event <SettingsAcknowledged changed_settings:{}>\u001B[0m\n"
     ]
    }
   ],
   "source": [
    "full_df = parce_vacancies()"
   ],
   "metadata": {
    "collapsed": false,
    "pycharm": {
     "name": "#%%\n"
    }
   }
  },
  {
   "cell_type": "code",
   "execution_count": 21,
   "outputs": [],
   "source": [
    "full_df_test = full_df.copy()"
   ],
   "metadata": {
    "collapsed": false,
    "pycharm": {
     "name": "#%%\n"
    }
   }
  },
  {
   "cell_type": "code",
   "execution_count": 37,
   "outputs": [
    {
     "data": {
      "text/plain": "   square_price  full_price       subway  \\\n0        370732    76000000  Баррикадная   \n1        228667     4116000     Лихоборы   \n2        479616    40000000   Смоленская   \n3        420635    26500000     Народное   \n4        743031   168668080      Охотный   \n\n                                               links  \\\n0  https://www.avito.ru/moskva/kvartiry/6-k._kvar...   \n1  https://www.avito.ru/moskva/kvartiry/apartamen...   \n2  https://www.avito.ru/moskva/kvartiry/2-k._kvar...   \n3  https://www.avito.ru/moskva/kvartiry/2-k._kvar...   \n4  https://www.avito.ru/moskva/kvartiry/3-k._kvar...   \n\n                                         description  \\\n0  №044931.\\n\\nШестикомнатная квартира с отделкой...   \n1  Официальный Отдел Продаж.\\n\\nМного Разных Вари...   \n2  Лот №40434597. Исторический центр Москвы — Арб...   \n3  Лот №38198708. ЖК «Континенталь». \\nПродается ...   \n4  №117083.\\n\\nВ жилом комплексе «Дом Композиторо...   \n\n  destination_from_nearest_subway  \n0                           11–15  \n1                           16–20  \n2                            6–10  \n3                           21–30  \n4                            6–10  ",
      "text/html": "<div>\n<style scoped>\n    .dataframe tbody tr th:only-of-type {\n        vertical-align: middle;\n    }\n\n    .dataframe tbody tr th {\n        vertical-align: top;\n    }\n\n    .dataframe thead th {\n        text-align: right;\n    }\n</style>\n<table border=\"1\" class=\"dataframe\">\n  <thead>\n    <tr style=\"text-align: right;\">\n      <th></th>\n      <th>square_price</th>\n      <th>full_price</th>\n      <th>subway</th>\n      <th>links</th>\n      <th>description</th>\n      <th>destination_from_nearest_subway</th>\n    </tr>\n  </thead>\n  <tbody>\n    <tr>\n      <th>0</th>\n      <td>370732</td>\n      <td>76000000</td>\n      <td>Баррикадная</td>\n      <td>https://www.avito.ru/moskva/kvartiry/6-k._kvar...</td>\n      <td>№044931.\\n\\nШестикомнатная квартира с отделкой...</td>\n      <td>11–15</td>\n    </tr>\n    <tr>\n      <th>1</th>\n      <td>228667</td>\n      <td>4116000</td>\n      <td>Лихоборы</td>\n      <td>https://www.avito.ru/moskva/kvartiry/apartamen...</td>\n      <td>Официальный Отдел Продаж.\\n\\nМного Разных Вари...</td>\n      <td>16–20</td>\n    </tr>\n    <tr>\n      <th>2</th>\n      <td>479616</td>\n      <td>40000000</td>\n      <td>Смоленская</td>\n      <td>https://www.avito.ru/moskva/kvartiry/2-k._kvar...</td>\n      <td>Лот №40434597. Исторический центр Москвы — Арб...</td>\n      <td>6–10</td>\n    </tr>\n    <tr>\n      <th>3</th>\n      <td>420635</td>\n      <td>26500000</td>\n      <td>Народное</td>\n      <td>https://www.avito.ru/moskva/kvartiry/2-k._kvar...</td>\n      <td>Лот №38198708. ЖК «Континенталь». \\nПродается ...</td>\n      <td>21–30</td>\n    </tr>\n    <tr>\n      <th>4</th>\n      <td>743031</td>\n      <td>168668080</td>\n      <td>Охотный</td>\n      <td>https://www.avito.ru/moskva/kvartiry/3-k._kvar...</td>\n      <td>№117083.\\n\\nВ жилом комплексе «Дом Композиторо...</td>\n      <td>6–10</td>\n    </tr>\n  </tbody>\n</table>\n</div>"
     },
     "execution_count": 37,
     "metadata": {},
     "output_type": "execute_result"
    }
   ],
   "source": [
    "full_df_test.head()"
   ],
   "metadata": {
    "collapsed": false,
    "pycharm": {
     "name": "#%%\n"
    }
   }
  },
  {
   "cell_type": "markdown",
   "source": [
    "Создал sql запрос на создание таблички:"
   ],
   "metadata": {
    "collapsed": false,
    "pycharm": {
     "name": "#%% md\n"
    }
   }
  },
  {
   "cell_type": "code",
   "execution_count": 83,
   "outputs": [],
   "source": [
    "query = \"\"\"\n",
    "CREATE TABLE default.vacancies(\n",
    "    square_price Int64,\n",
    "    full_price Int64,\n",
    "    subway String,\n",
    "    links String,\n",
    "    description String,\n",
    "    destination_from_nearest_subway String)\n",
    "ENGINE = MergeTree\n",
    "Order by links\n",
    "\"\"\""
   ],
   "metadata": {
    "collapsed": false,
    "pycharm": {
     "name": "#%%\n"
    }
   }
  },
  {
   "cell_type": "markdown",
   "source": [
    "Теперь создам таск небольшой пред обработкой:"
   ],
   "metadata": {
    "collapsed": false,
    "pycharm": {
     "name": "#%% md\n"
    }
   }
  },
  {
   "cell_type": "code",
   "execution_count": 32,
   "outputs": [
    {
     "data": {
      "text/plain": "square_price    12\nfull_price       0\nsubway          20\nlinks            0\ndtype: int64"
     },
     "execution_count": 32,
     "metadata": {},
     "output_type": "execute_result"
    }
   ],
   "source": [
    "full_df.isna().sum()"
   ],
   "metadata": {
    "collapsed": false,
    "pycharm": {
     "name": "#%%\n"
    }
   }
  },
  {
   "cell_type": "markdown",
   "source": [
    "Значений совсем немного, так что предлагаю просто удалять строки, где есть Nan значение:"
   ],
   "metadata": {
    "collapsed": false,
    "pycharm": {
     "name": "#%% md\n"
    }
   }
  },
  {
   "cell_type": "code",
   "execution_count": 33,
   "outputs": [],
   "source": [
    "full_df.dropna(inplace=True)"
   ],
   "metadata": {
    "collapsed": false,
    "pycharm": {
     "name": "#%%\n"
    }
   }
  },
  {
   "cell_type": "code",
   "execution_count": 35,
   "outputs": [],
   "source": [
    "full_df[\"links\"] = full_df[\"links\"].apply(lambda x: x[0])"
   ],
   "metadata": {
    "collapsed": false,
    "pycharm": {
     "name": "#%%\n"
    }
   }
  },
  {
   "cell_type": "code",
   "execution_count": 39,
   "outputs": [],
   "source": [
    "full_df[[\"square_price\",\"full_price\"]] = full_df[[\"square_price\",\"full_price\"]].astype(\"int64\")"
   ],
   "metadata": {
    "collapsed": false,
    "pycharm": {
     "name": "#%%\n"
    }
   }
  },
  {
   "cell_type": "code",
   "execution_count": 41,
   "outputs": [],
   "source": [
    "full_df[[\"subway\",\"links\"]] = full_df[[\"subway\",\"links\"]].astype(str)"
   ],
   "metadata": {
    "collapsed": false,
    "pycharm": {
     "name": "#%%\n"
    }
   }
  },
  {
   "cell_type": "markdown",
   "source": [
    "Напишу отдельную функция и в последствии таск для этого:"
   ],
   "metadata": {
    "collapsed": false,
    "pycharm": {
     "name": "#%% md\n"
    }
   }
  },
  {
   "cell_type": "code",
   "execution_count": 23,
   "outputs": [],
   "source": [
    "def filter_df(df):\n",
    "    df.dropna(inplace=True)\n",
    "    df[\"links\"] = df[\"links\"].apply(lambda x: x[0])\n",
    "    df[[\"square_price\",\"full_price\"]] = df[[\"square_price\",\"full_price\"]].astype(\"int64\")\n",
    "    df[[\"subway\",\"links\",\"description\",\"destination_from_nearest_subway\"]] = df[[\"subway\",\"links\",\"description\",\"destination_from_nearest_subway\"]].astype(str)\n",
    "    return df"
   ],
   "metadata": {
    "collapsed": false,
    "pycharm": {
     "name": "#%%\n"
    }
   }
  },
  {
   "cell_type": "code",
   "execution_count": 24,
   "outputs": [],
   "source": [
    "full_df_test = filter_df(full_df_test)"
   ],
   "metadata": {
    "collapsed": false,
    "pycharm": {
     "name": "#%%\n"
    }
   }
  },
  {
   "cell_type": "markdown",
   "source": [
    "Создам таск, в котором, буду отбирать только новые значения:"
   ],
   "metadata": {
    "collapsed": false,
    "pycharm": {
     "name": "#%% md\n"
    }
   }
  },
  {
   "cell_type": "code",
   "execution_count": 36,
   "outputs": [],
   "source": [
    "def uncommon_values(df_new):\n",
    "\n",
    "    #Достаем все записи из таблицы и создаем новый датафрейм:\n",
    "    df_old = client.execute(\"Select * from vacancies\")\n",
    "    df_old = pd.DataFrame(columns=[\"square_price\",\"full_price\",\"subway\",\"links\",\"description\",\"destination_from_nearest_subway\"], data=df_old)\n",
    "\n",
    "    #Здесь выполняю left_only join для добавлении новых записей в таблицу и отправление файлика в тг:\n",
    "    df = df_new.merge(df_old, how = 'outer' ,indicator=True).loc[lambda x : x['_merge']=='left_only']\n",
    "    return df"
   ],
   "metadata": {
    "collapsed": false,
    "pycharm": {
     "name": "#%%\n"
    }
   }
  },
  {
   "cell_type": "code",
   "execution_count": 46,
   "outputs": [
    {
     "data": {
      "text/plain": "Empty DataFrame\nColumns: [square_price, full_price, subway, links, description, destination_from_nearest_subway, _merge]\nIndex: []",
      "text/html": "<div>\n<style scoped>\n    .dataframe tbody tr th:only-of-type {\n        vertical-align: middle;\n    }\n\n    .dataframe tbody tr th {\n        vertical-align: top;\n    }\n\n    .dataframe thead th {\n        text-align: right;\n    }\n</style>\n<table border=\"1\" class=\"dataframe\">\n  <thead>\n    <tr style=\"text-align: right;\">\n      <th></th>\n      <th>square_price</th>\n      <th>full_price</th>\n      <th>subway</th>\n      <th>links</th>\n      <th>description</th>\n      <th>destination_from_nearest_subway</th>\n      <th>_merge</th>\n    </tr>\n  </thead>\n  <tbody>\n  </tbody>\n</table>\n</div>"
     },
     "execution_count": 46,
     "metadata": {},
     "output_type": "execute_result"
    }
   ],
   "source": [
    "uncommon_values(full_df_test)"
   ],
   "metadata": {
    "collapsed": false,
    "pycharm": {
     "name": "#%%\n"
    }
   }
  },
  {
   "cell_type": "markdown",
   "source": [
    "Создам таск с добавлением новых записей в бд:"
   ],
   "metadata": {
    "collapsed": false,
    "pycharm": {
     "name": "#%% md\n"
    }
   }
  },
  {
   "cell_type": "code",
   "execution_count": 28,
   "outputs": [],
   "source": [
    "def to_clickhouse(df):\n",
    "    client.execute(\"INSERT INTO default.vacancies VALUES\", df.to_dict(orient=\"records\"))\n",
    "    #Строка не совсем важна, но при этом лучше ее оставить:\n",
    "    client.execute('OPTIMIZE TABLE vacancies DEDUPLICATE BY links')"
   ],
   "metadata": {
    "collapsed": false,
    "pycharm": {
     "name": "#%%\n"
    }
   }
  },
  {
   "cell_type": "code",
   "execution_count": 29,
   "outputs": [],
   "source": [
    "to_clickhouse(full_df_test)"
   ],
   "metadata": {
    "collapsed": false,
    "pycharm": {
     "name": "#%%\n"
    }
   }
  },
  {
   "cell_type": "code",
   "execution_count": 48,
   "outputs": [
    {
     "data": {
      "text/plain": "array(['Баррикадная', 'Лихоборы', 'Смоленская', 'Народное', 'Охотный',\n       'Ховриноот', 'Крылатское', 'Строгинодо', 'Строгино',\n       'Волгоградский', 'Петровско', 'Ботанический', 'Пятницкое', 'Юго',\n       'Солнцево', 'Площадь', 'Проспект', 'Сходненская', 'Бабушкинская',\n       'Авиамоторная', 'Окская', 'Тёплый', 'Беломорскаяот',\n       'Домодедовская', 'Измайловская', 'Братиславская', 'Новогирееводо',\n       'Свиблово', 'Перово', 'Мичуринский', 'Кузьминки', 'Ховрино',\n       'Пролетарскаядо', 'Трубнаядо', 'Бабушкинскаяот', 'Марьина',\n       'Молодёжная', 'Беломорская', 'Тропарёво', 'Селигерская',\n       'Бутырская', 'Рассказовка', 'Пролетарская', 'Озёрная', 'ЗИЛ',\n       'Римская', 'Минская', 'Бибирево', 'Медведковоот', 'Митино',\n       'Алтуфьево', 'Ясенево', 'Пражская', 'Спортивнаядо', 'Октябрьское',\n       'Рязанский', 'ВДНХ', 'Кожуховская', 'Бунинская', 'Новогиреево',\n       'Новопеределкино', 'Тушинская', 'Нагатинскаяот', 'Шаболовская',\n       'Тропарёводо', 'Селигерскаяот', 'Коньково', 'Фили', 'Верхние',\n       'Первомайская', 'Беляево', 'Медведково', 'Дмитровская',\n       'Кутузовская', 'Ломоносовский', 'Щёлковская', 'Новоясеневская',\n       'Лефортово', 'Красносельская', 'Улица', 'Речной', 'Преображенская',\n       'Отрадное', 'Новые', 'Царицыноот', 'Тульская', 'Щёлковскаяот',\n       'Электрозаводская', 'Полянкадо', 'Саларьево', 'Водный',\n       'Первомайскаяот', 'Новослободская', 'Кантемировская', 'Царицыно',\n       'Автозаводскаядо', 'Нижегородская', 'Автозаводская', 'Боровское',\n       'Шипиловская', 'Сходненскаядо', 'Стахановская', 'Славянский',\n       'Коломенская', 'Китай', 'Петровский', 'Новохохловская', 'Выхино',\n       'Молодёжнаяот', 'Маяковская', 'Войковская', 'Профсоюзнаядо',\n       'Деловой', 'Парк', 'Киевская', 'Ростокино', 'Соколиная', 'Бульвар',\n       'Зюзино', 'Дубровка', 'Текстильщики', 'Тверскаядо', 'Крылатскоедо',\n       'Некрасовка', 'Чкаловскаядо', 'Алексеевскаядо', 'Марьино',\n       'Курская', 'Менделеевская', 'Академическая', 'Алма', 'Планерная',\n       'Севастопольская', 'Кунцевская', 'Чеховскаядо', 'Красные',\n       'Шелепиха', 'Аэропорт', 'Раменки', 'Измайловодо', 'Белокаменная',\n       'Филёвский', 'Окружная', 'Панфиловская', 'Арбатская',\n       'Семёновская', 'Алтуфьевоот', 'Крестьянская', 'Люблино',\n       'Воробьёвы', 'Кропоткинская', 'Строгиноот', 'Нахимовский',\n       'Тушинскаяот', 'Белорусская', 'Волоколамская', 'Бауманская',\n       'Аннино', 'Киевскаядо', 'Давыдково', 'Жулебинодо',\n       'Международнаядо', 'Стрешнево', 'Жулебино', 'Филидо',\n       'Войковскаядо', 'Тимирязевская', 'Озёрнаядо', 'Красногвардейская',\n       'Южнаядо', 'Говорово', 'Сокольники', 'Медведководо',\n       'Электрозаводскаядо', 'Профсоюзная', 'Алексеевская', 'Сокол',\n       'Аминьевская', 'Владыкино', 'ЦСКА', 'Чертановская', 'Университет',\n       'Кантемировскаяот', 'Угрешскаядо', 'Коммунаркаот', 'Цветной',\n       'Зябликово', 'Анниноот', 'Новаторская', 'Севастопольскаядо',\n       'Щукинская', 'Новокузнецкая', 'Полянка', 'Бауманскаядо',\n       'Белорусскаядо', 'Коптево', 'Румянцево', 'Крымская',\n       'Рассказовкадо', 'Беговаядо', 'Маяковскаядо', 'Новопеределкинодо',\n       'Выставочная', 'Ореховоот', 'Беговая', 'Некрасовкадо',\n       'Фонвизинская', 'Зорге', 'Чкаловская', 'Печатники', 'Трубная',\n       'Крылатскоеот', 'Локомотив', 'Балтийская', 'Фонвизинскаядо',\n       'Серпуховская', 'Краснопресненская', 'Каширская', 'Мякинино',\n       'Калужская', 'Чеховская', 'Павелецкаядо', 'Чистые', 'Савёловская',\n       'Чертановскаядо', 'Фрунзенскаядо', 'Измайлово', 'Пушкинская',\n       'Раменкидо', 'Орехово', 'Давыдковоот', 'Филатов', 'Кожуховскаядо',\n       'Шоссе', 'Нагорнаядо', 'Зоргедо', 'Красногвардейскаядо', 'Рижская',\n       'Выставочнаядо', 'Технопаркдо', 'Театральнаядо', 'Римскаядо',\n       'Измайловскаядо', 'Нагатинская', 'Спортивная', 'Динамо',\n       'Международная', 'Аннинодо', 'Битцевский', 'Прокшино',\n       'Бибиреводо', 'Студенческая', 'Хорошёво', 'Коммунарка',\n       'Фрунзенская', 'Окскаядо', 'Косино', 'Ясеневодо', 'Комсомольская',\n       'Каховская', 'Коптеводо', 'Хорошёвская', 'Борисово', 'Ленинский',\n       'Варшавскаядо', 'Южная', 'Лухмановская', 'Октябрьская',\n       'Котельники', 'Спартак', 'Павелецкая', 'Дубровкадо',\n       'Новохохловскаяот', 'Угрешская', 'Пионерская', 'Бутырскаядо',\n       'Кутузовскаядо', 'Варшавская', 'Коломенскаядо', 'Хорошёвскаядо',\n       'Печатникиот', 'Стрешневодо', 'Некрасовкаот', 'Кузьминкидо',\n       'Новокосино', 'Кантемировскаядо', 'Рижскаядо', 'Лесопарковая',\n       'Соколдо', 'Воронцовская', 'Достоевская', 'Борисоводо',\n       'Молодёжнаядо', 'Пражскаядо', 'Черкизовская', 'Курскаядо',\n       'Таганская', 'Динамодо', 'Лермонтовский', 'Отрадноедо',\n       'Технопарк', 'Ховринодо', 'Рассказовкаот', 'Новаторскаядо',\n       'Стахановскаядо', 'Полежаевская', 'Сретенский', 'Владыкинодо',\n       'Щукинскаяот', 'Первомайскаядо', 'Театральная', 'Волжская',\n       'Тверская', 'Нагорная', 'Багратионовская', 'Свибловодо',\n       'Смоленскаядо', 'Новослободскаядо', 'Марксистскаядо',\n       'Домодедовскаядо', 'Аминьевскаяот', 'Окружнаядо', 'Люблинодо',\n       'Хорошёвоот', 'Лесопарковаядо', 'Бабушкинскаядо', 'Беломорскаядо',\n       'Балтийскаядо', 'Тереховоот', 'Краснопресненскаядо',\n       'Новогиреевоот', 'Третьяковскаядо', 'Лубянка', 'Новоясеневскаядо',\n       'ВДНХдо', 'Люблиноот', 'Лефортоводо', 'Давыдководо',\n       'Нижегородскаядо', 'Сухаревская', 'Сухаревскаядо',\n       'Багратионовскаяот', 'Марьиноот', 'Спартакдо', 'Андроновкадо',\n       'Октябрьскаядо', 'Мякининоот', 'Волоколамскаяот',\n       'Домодедовскаяот', 'Митинодо', 'Студенческаядо', 'Коньководо',\n       'Щёлковскаядо', 'Ростокиноот', 'Добрынинская', 'Дмитровскаядо',\n       'Багратионовскаядо', 'Авиамоторнаядо', 'Тульскаядо', 'Печатникидо',\n       'Пушкинскаядо', 'Марксистская', 'Академическаядо', 'Пероводо',\n       'Солнцеводо', 'Алтуфьеводо', 'Планернаяот', 'Шелепихадо'],\n      dtype=object)"
     },
     "execution_count": 48,
     "metadata": {},
     "output_type": "execute_result"
    }
   ],
   "source": [
    "full_df_test.subway.unique()"
   ],
   "metadata": {
    "collapsed": false,
    "pycharm": {
     "name": "#%%\n"
    }
   }
  },
  {
   "cell_type": "code",
   "execution_count": 51,
   "outputs": [
    {
     "name": "stdout",
     "output_type": "stream",
     "text": [
      "[\u001B[34m2022-09-01 22:55:18,850\u001B[0m] {\u001B[34mconnection.py:\u001B[0m724} INFO\u001B[0m - Received unhandled event <RemoteSettingsChanged changed_settings:{ChangedSetting(setting=SettingCodes.MAX_CONCURRENT_STREAMS, original_value=None, new_value=16), ChangedSetting(setting=SettingCodes.INITIAL_WINDOW_SIZE, original_value=65535, new_value=65536), ChangedSetting(setting=SettingCodes._max_frame_size, original_value=16384, new_value=16777215)}>\u001B[0m\n",
      "[\u001B[34m2022-09-01 22:55:18,851\u001B[0m] {\u001B[34mconnection.py:\u001B[0m724} INFO\u001B[0m - Received unhandled event <WindowUpdated stream_id:0, delta:2147418112>\u001B[0m\n",
      "[\u001B[34m2022-09-01 22:55:18,867\u001B[0m] {\u001B[34mconnection.py:\u001B[0m724} INFO\u001B[0m - Received unhandled event <SettingsAcknowledged changed_settings:{ChangedSetting(setting=SettingCodes.ENABLE_PUSH, original_value=1, new_value=0)}>\u001B[0m\n",
      "[\u001B[34m2022-09-01 22:55:18,868\u001B[0m] {\u001B[34mconnection.py:\u001B[0m724} INFO\u001B[0m - Received unhandled event <SettingsAcknowledged changed_settings:{}>\u001B[0m\n"
     ]
    }
   ],
   "source": [
    "full_url = f\"https://www.avito.ru/moskva/kvartiry/prodam-ASgBAgICAUSSA8YQ?cd=1&p=1\"\n",
    "source = requests.Session()\n",
    "source.mount('https://', HTTP20Adapter())\n",
    "response = source.get(full_url)\n",
    "sleep(7)  #чтобы не перегружался\n",
    "#инкодим значения иначе будет эльфийский\n",
    "response.encoding = 'utf-8'\n",
    "soup = bs(response.text, 'lxml')\n",
    "\n",
    "all_flats = soup.findAll(\"div\", class_=\"iva-item-content-rejJg\")"
   ],
   "metadata": {
    "collapsed": false,
    "pycharm": {
     "name": "#%%\n"
    }
   }
  },
  {
   "cell_type": "code",
   "execution_count": 66,
   "outputs": [],
   "source": [
    "lst_subway_test = []"
   ],
   "metadata": {
    "collapsed": false,
    "pycharm": {
     "name": "#%%\n"
    }
   }
  },
  {
   "cell_type": "code",
   "execution_count": 67,
   "outputs": [
    {
     "name": "stdout",
     "output_type": "stream",
     "text": [
      "Митино21–30 мин.\n",
      "Площадь Ильича11–15 мин.\n",
      "Пятницкое шоссеот 31 мин.\n",
      "Говорово16–20 мин.\n",
      "Мичуринский проспект16–20 мин.\n",
      "Ховриноот 31 мин.\n",
      "Стахановская6–10 мин.\n",
      "Строгино6–10 мин.\n",
      "Волгоградский проспект6–10 мин.\n",
      "Строгино11–15 мин.\n",
      "Волгоградский проспект6–10 мин.\n",
      "Петровско-Разумовская6–10 мин.\n",
      "Свиблово11–15 мин.\n",
      "Проспект Вернадскогодо 5 мин.\n",
      "Свиблово11–15 мин.\n",
      "Рязанский проспект16–20 мин.\n",
      "Пятницкое шоссеот 31 мин.\n",
      "Юго-Западная16–20 мин.\n",
      "Площадь Ильича16–20 мин.\n",
      "Солнцево6–10 мин.\n",
      "Волгоградский проспект6–10 мин.\n",
      "Спартак21–30 мин.\n",
      "Бабушкинская16–20 мин.\n",
      "Волгоградский проспект6–10 мин.\n",
      "Сходненская11–15 мин.\n",
      "Тёплый стан16–20 мин.\n",
      "Пятницкое шоссеот 31 мин.\n",
      "Волгоградский проспект6–10 мин.\n",
      "Домодедовская11–15 мин.\n",
      "Измайловская6–10 мин.\n",
      "Окская6–10 мин.\n",
      "Площадь Ильича11–15 мин.\n",
      "Алтуфьево6–10 мин.\n",
      "Волгоградский проспект6–10 мин.\n",
      "Сходненская11–15 мин.\n",
      "р-н Молжаниновский\n",
      "Волгоградский проспект11–15 мин.\n",
      "Сходненская21–30 мин.\n",
      "Площадь Ильича11–15 мин.\n",
      "Молодёжная16–20 мин.\n",
      "Площадь Ильича16–20 мин.\n",
      "Проспект Вернадского6–10 мин.\n",
      "Новогирееводо 5 мин.\n",
      "Сходненская11–15 мин.\n",
      "Белорусская6–10 мин.\n",
      "Ховрино21–30 мин.\n",
      "Перово11–15 мин.\n",
      "Мичуринский проспект16–20 мин.\n",
      "Бульвар адмирала Ушакова6–10 мин.\n"
     ]
    }
   ],
   "source": [
    "for flat in all_flats:\n",
    "    var_subway = flat.find('div', class_=\"geo-georeferences-SEtee text-text-LurtD text-size-s-BxGpL\")\n",
    "    if type(var_subway) != type(None):\n",
    "        subway_name = var_subway.text\n",
    "        print(subway_name)\n",
    "        subway_full = \"\"\n",
    "        for var_subway_circle in subway_name:\n",
    "            if var_subway_circle.isalpha() or var_subway_circle == \" \" or var_subway_circle == \"-\":\n",
    "                subway_full += var_subway_circle\n",
    "            else:  #после станции идет время сколько от метро и это значение число, тем самым убираем его\n",
    "                break\n",
    "        lst_subway_test.append(subway_full)\n",
    "    else:\n",
    "        lst_subway_test.append(None)"
   ],
   "metadata": {
    "collapsed": false,
    "pycharm": {
     "name": "#%%\n"
    }
   }
  },
  {
   "cell_type": "code",
   "execution_count": 68,
   "outputs": [
    {
     "data": {
      "text/plain": "['Митино',\n 'Площадь Ильича',\n 'Пятницкое шоссеот',\n 'Говорово',\n 'Мичуринский проспект',\n 'Ховриноот',\n 'Стахановская',\n None,\n None,\n None,\n 'Строгино',\n 'Волгоградский проспект',\n 'Строгино',\n 'Волгоградский проспект',\n 'Петровско-Разумовская',\n 'Свиблово',\n 'Проспект Вернадскогодо',\n 'Свиблово',\n 'Рязанский проспект',\n 'Пятницкое шоссеот',\n 'Юго-Западная',\n 'Площадь Ильича',\n 'Солнцево',\n 'Волгоградский проспект',\n 'Спартак',\n 'Бабушкинская',\n 'Волгоградский проспект',\n 'Сходненская',\n None,\n 'Тёплый стан',\n 'Пятницкое шоссеот',\n 'Волгоградский проспект',\n 'Домодедовская',\n 'Измайловская',\n 'Окская',\n 'Площадь Ильича',\n 'Алтуфьево',\n 'Волгоградский проспект',\n 'Сходненская',\n 'р-н Молжаниновский',\n 'Волгоградский проспект',\n 'Сходненская',\n 'Площадь Ильича',\n 'Молодёжная',\n 'Площадь Ильича',\n 'Проспект Вернадского',\n 'Новогирееводо',\n 'Сходненская',\n 'Белорусская',\n 'Ховрино',\n 'Перово',\n 'Мичуринский проспект',\n 'Бульвар адмирала Ушакова']"
     },
     "execution_count": 68,
     "metadata": {},
     "output_type": "execute_result"
    }
   ],
   "source": [
    "lst_subway_test"
   ],
   "metadata": {
    "collapsed": false,
    "pycharm": {
     "name": "#%%\n"
    }
   }
  },
  {
   "cell_type": "code",
   "execution_count": 94,
   "outputs": [],
   "source": [
    "lst_subway_test_new = []"
   ],
   "metadata": {
    "collapsed": false,
    "pycharm": {
     "name": "#%%\n"
    }
   }
  },
  {
   "cell_type": "code",
   "execution_count": 101,
   "outputs": [
    {
     "name": "stdout",
     "output_type": "stream",
     "text": [
      "тесшекитП\n",
      "тоивХ\n",
      "ооосарВтеср\n",
      "тесшекитП\n",
      "тесшекитП\n",
      "ооергвН\n"
     ]
    }
   ],
   "source": [
    "for j in lst_subway_test:\n",
    "    if j is not None and (j[-1] == \"т\" and j[-2] == \"о\") or j is not None and (j[-1] == \"о\" and j[-2] == \"д\"):\n"
   ],
   "metadata": {
    "collapsed": false,
    "pycharm": {
     "name": "#%%\n"
    }
   }
  },
  {
   "cell_type": "markdown",
   "source": [
    "Ключевой момент здесь такой, что бывают название метро пишут и добавляют до и от."
   ],
   "metadata": {
    "collapsed": false,
    "pycharm": {
     "name": "#%% md\n"
    }
   }
  }
 ],
 "metadata": {
  "kernelspec": {
   "display_name": "Python 3",
   "language": "python",
   "name": "python3"
  },
  "language_info": {
   "codemirror_mode": {
    "name": "ipython",
    "version": 2
   },
   "file_extension": ".py",
   "mimetype": "text/x-python",
   "name": "python",
   "nbconvert_exporter": "python",
   "pygments_lexer": "ipython2",
   "version": "2.7.6"
  }
 },
 "nbformat": 4,
 "nbformat_minor": 0
}